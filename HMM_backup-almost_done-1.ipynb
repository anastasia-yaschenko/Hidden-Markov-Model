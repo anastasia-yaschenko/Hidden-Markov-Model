{
 "cells": [
  {
   "cell_type": "markdown",
   "metadata": {},
   "source": [
    "# Hidden Markov Model"
   ]
  },
  {
   "cell_type": "code",
   "execution_count": 1,
   "metadata": {},
   "outputs": [],
   "source": [
    "import pandas as pd\n",
    "from datetime import datetime\n",
    "from matplotlib import pyplot as plt\n",
    "%matplotlib inline\n",
    "from  statsmodels.tsa.stattools import adfuller,kpss, acf\n",
    "import statsmodels.api\n",
    "import numpy as np\n",
    "from statsmodels.graphics.tsaplots import plot_acf,plot_pacf\n",
    "from sklearn.model_selection import TimeSeriesSplit\n",
    "from sklearn.metrics import mean_squared_error,mean_absolute_error, mean_squared_log_error,balanced_accuracy_score\n",
    "from statistics import mean\n",
    "import statsmodels.api as sm\n",
    "from sklearn import preprocessing\n",
    "import seaborn as sns \n",
    "import gapminder\n",
    "import sys\n",
    "import warnings\n",
    "import time\n",
    "from pomegranate import *\n",
    "from sklearn.metrics import accuracy_score, f1_score\n",
    "import json\n",
    "from math import e\n",
    "\n",
    "#if not sys.warnoptions:\n",
    "#    warnings.simplefilter(\"ignore\")"
   ]
  },
  {
   "cell_type": "code",
   "execution_count": 2,
   "metadata": {},
   "outputs": [],
   "source": [
    "def ema(x,window):\n",
    "    '''exponential moving average'''\n",
    "    return np.array(x.ewm(span=window).mean())\n",
    "\n",
    "\n",
    "def bollinger(x,window):\n",
    "    '''Bolinger bands & moving average'''\n",
    "    rolling_mean = x.rolling(window).mean()\n",
    "    rolling_std = x.rolling(window).std()\n",
    "    roll_mean = rolling_mean\n",
    "    higher_band = rolling_mean + (rolling_std * 2)\n",
    "    lower_band = rolling_mean - (rolling_std * 2)\n",
    "    return [lower_band[window:],roll_mean[window:],higher_band[window:]]\n",
    "\n",
    "\n",
    "def macd(v): \n",
    "    '''moving average convergence divergence'''\n",
    "    return ema(v,12)-ema(v,26)\n",
    "\n",
    "def momentum(x,lags):\n",
    "    return (1-x/x.shift(lags))*100\n",
    "\n",
    "def a_d(close,low,high,vol):\n",
    "    '''accumulation/distribution indicator''' \n",
    "    return ((close-low)-(high-close)*vol)/(high-low)\n",
    "\n",
    "def trend_deterministic(dat):\n",
    "    '''indicators which help to determine price direction, i.e. 1 stands for up, -1 for down'''\n",
    "    dat['tr-ema']=np.where(dat['ema']<dat['mid'],1,-1)\n",
    "    dat['tr-macd']=np.where(dat[['macd']]>dat[['macd']].shift(1),1,-1)\n",
    "    dat['tr-momentum']=np.where(dat['momentum']>0,1,-1)\n",
    "    return dat\n",
    "        \n",
    "def return_size(df):\n",
    "    df['return']=df.loc[:,'close']-df.loc[:,'close'].shift(1)\n",
    "    #df['size']=np.nan\n",
    "    #for i in range(1,len(df['return'])): \n",
    "    #    if df['return'][i]>=0:\n",
    "    #        df.iloc[i,-1]='P'#for positive\n",
    "    #    if df['return'][i]<0 :\n",
    "    #        df.iloc[i,-1]='N'#for negative\n",
    "    df=df.dropna()\n",
    "    return df\n",
    "\n",
    "def plot_return(df):\n",
    "    plt.figure(figsize=(15,2))\n",
    "    if df.name=='Hour':\n",
    "        plt.plot(df[['date']][8:15],df[['return']][8:15] )\n",
    "    else:\n",
    "        plt.plot(df[['date']][:30],df[['return']][:30] )\n",
    "    plt.title(str(df.name)+' Return')\n",
    "    plt.xlabel('time')\n",
    "    plt.ylabel('return')\n",
    "    plt.subplot()\n",
    "    \n",
    "def plot_close(df):\n",
    "    plt.figure(figsize=(15,2))\n",
    "    plt.plot(df[['date']],df[['close']])\n",
    "    plt.title(str(df.name)+' Price Close')\n",
    "    plt.xlabel('time')\n",
    "    plt.ylabel('price')\n",
    "    plt.subplot()\n",
    "\n",
    "def rename_col(df):\n",
    "    df.columns=['date','time','open','high','low','close','vol']\n",
    "    return df\n",
    "\n",
    "def format_time(df):\n",
    "    df['date']=df['date']+' '+df['time']\n",
    "    df=df.drop(columns=['time'])\n",
    "    df['date']=[datetime.strptime(i, '%d/%m/%y %H:%M:%S') for i in list(df['date'])]\n",
    "    return df"
   ]
  },
  {
   "cell_type": "markdown",
   "metadata": {},
   "source": [
    "#### Open and format data"
   ]
  },
  {
   "cell_type": "code",
   "execution_count": 3,
   "metadata": {},
   "outputs": [],
   "source": [
    "minute=pd.read_csv('C:\\\\Users\\\\Dell\\\\Desktop\\\\coursework\\\\Stonks-2\\\\AMZN_min.csv')\n",
    "minute=minute.iloc[:,2:]\n",
    "#day.columns=['date','open','high','low','close','vol']\n",
    "minute=rename_col(minute)\n",
    "#hour=rename_col(hour)\n",
    "#day['date']=[datetime.strptime(i, '%Y-%m-%d') for i in list(day['date'])]\n",
    "minute=format_time(minute)\n"
   ]
  },
  {
   "cell_type": "code",
   "execution_count": 4,
   "metadata": {},
   "outputs": [],
   "source": [
    "#generate hourly data\n",
    "hourly = minute.copy()\n",
    "hourly['year'] = [i.year for i in hourly['date']]\n",
    "hourly['month'] = [i.month for i in hourly['date']]\n",
    "hourly['day'] = [i.day for i in hourly['date']]\n",
    "hourly['hour'] = [i.hour for i in hourly['date']]\n",
    "hour_low = hourly.groupby(['year', 'month', 'day', 'hour']).min()['low']\n",
    "hour_high = hourly.groupby(['year', 'month', 'day', 'hour']).max()['high']\n",
    "hour_open = hourly.groupby(['year', 'month', 'day', 'hour']).first()['open']\n",
    "hour_date = hourly.groupby(['year', 'month', 'day', 'hour']).first()['date']\n",
    "hour_close=hourly.groupby(['year', 'month', 'day', 'hour']).last()['close']\n",
    "hour_vol=hourly.groupby(['year', 'month', 'day', 'hour']).sum()['vol']\n",
    "AMZNhour=pd.DataFrame([hour_open,hour_low, hour_high, hour_close, hour_vol]).transpose()\n",
    "AMZNhour=pd.concat([hour_date, AMZNhour], axis=1)\n",
    "#AMZNhour.to_excel('AMZNhour.xlsx')"
   ]
  },
  {
   "cell_type": "code",
   "execution_count": 5,
   "metadata": {},
   "outputs": [
    {
     "data": {
      "text/html": [
       "<div>\n",
       "<style scoped>\n",
       "    .dataframe tbody tr th:only-of-type {\n",
       "        vertical-align: middle;\n",
       "    }\n",
       "\n",
       "    .dataframe tbody tr th {\n",
       "        vertical-align: top;\n",
       "    }\n",
       "\n",
       "    .dataframe thead th {\n",
       "        text-align: right;\n",
       "    }\n",
       "</style>\n",
       "<table border=\"1\" class=\"dataframe\">\n",
       "  <thead>\n",
       "    <tr style=\"text-align: right;\">\n",
       "      <th></th>\n",
       "      <th></th>\n",
       "      <th></th>\n",
       "      <th>date</th>\n",
       "      <th>open</th>\n",
       "      <th>low</th>\n",
       "      <th>high</th>\n",
       "      <th>close</th>\n",
       "      <th>vol</th>\n",
       "    </tr>\n",
       "    <tr>\n",
       "      <th>year</th>\n",
       "      <th>month</th>\n",
       "      <th>day</th>\n",
       "      <th></th>\n",
       "      <th></th>\n",
       "      <th></th>\n",
       "      <th></th>\n",
       "      <th></th>\n",
       "      <th></th>\n",
       "    </tr>\n",
       "  </thead>\n",
       "  <tbody>\n",
       "    <tr>\n",
       "      <th rowspan=\"3\" valign=\"top\">2019</th>\n",
       "      <th rowspan=\"3\" valign=\"top\">2</th>\n",
       "      <th>19</th>\n",
       "      <td>19.02.2019</td>\n",
       "      <td>1601.00</td>\n",
       "      <td>1600.56</td>\n",
       "      <td>1634.00</td>\n",
       "      <td>1627.23</td>\n",
       "      <td>1888575.0</td>\n",
       "    </tr>\n",
       "    <tr>\n",
       "      <th>20</th>\n",
       "      <td>20.02.2019</td>\n",
       "      <td>1630.00</td>\n",
       "      <td>1610.12</td>\n",
       "      <td>1634.93</td>\n",
       "      <td>1622.12</td>\n",
       "      <td>1678423.0</td>\n",
       "    </tr>\n",
       "    <tr>\n",
       "      <th>21</th>\n",
       "      <td>21.02.2019</td>\n",
       "      <td>1619.85</td>\n",
       "      <td>1600.91</td>\n",
       "      <td>1623.56</td>\n",
       "      <td>1619.49</td>\n",
       "      <td>1881385.0</td>\n",
       "    </tr>\n",
       "  </tbody>\n",
       "</table>\n",
       "</div>"
      ],
      "text/plain": [
       "                      date     open      low     high    close        vol\n",
       "year month day                                                           \n",
       "2019 2     19   19.02.2019  1601.00  1600.56  1634.00  1627.23  1888575.0\n",
       "           20   20.02.2019  1630.00  1610.12  1634.93  1622.12  1678423.0\n",
       "           21   21.02.2019  1619.85  1600.91  1623.56  1619.49  1881385.0"
      ]
     },
     "execution_count": 5,
     "metadata": {},
     "output_type": "execute_result"
    }
   ],
   "source": [
    "#generate daily data\n",
    "daily = minute.copy()\n",
    "daily['year'] = [i.year for i in daily['date']]\n",
    "daily['month'] = [i.month for i in daily['date']]\n",
    "daily['day'] = [i.day for i in daily['date']]\n",
    "daily_low = daily.groupby(['year', 'month', 'day']).min()['low']\n",
    "daily_high = daily.groupby(['year', 'month', 'day']).max()['high']\n",
    "daily_open = daily.groupby(['year', 'month', 'day']).first()['open']\n",
    "daily_date = daily.groupby(['year', 'month', 'day']).first()['date']\n",
    "daily_close=daily.groupby(['year', 'month', 'day']).last()['close']\n",
    "daily_vol=daily.groupby(['year', 'month', 'day']).sum()['vol']\n",
    "AMZNdaily=pd.DataFrame([daily_open,daily_low, daily_high, daily_close, daily_vol]).transpose()\n",
    "AMZNdaily=pd.concat([daily_date, AMZNdaily], axis=1)\n",
    "for date in range(AMZNdaily.shape[0]):\n",
    "    AMZNdaily.iloc[date,0] = AMZNdaily.iloc[date,0].strftime(\"%d.%m.%Y %H:%M:%S\")\n",
    "    AMZNdaily.iloc[date,0] = str(AMZNdaily.iloc[date,0])[:10]\n",
    "AMZNdaily.head(3)\n",
    "#AMZNdaily.to_excel('AMZNdaily.xlsx')"
   ]
  },
  {
   "cell_type": "code",
   "execution_count": 4,
   "metadata": {},
   "outputs": [],
   "source": [
    "day=pd.read_excel('C:\\\\Users\\\\Dell\\\\Desktop\\\\coursework\\\\Stonks-2\\\\AMZNdaily.xlsx')\n",
    "hour=pd.read_excel('C:\\\\Users\\\\Dell\\\\Desktop\\\\coursework\\\\Stonks-2\\\\AMZNhour.xlsx')\n",
    "#day['date']=[datetime.strptime(i, '%Y-%m-%d') for i in list(day['date'])]\n",
    "#hour['date']=[datetime.strptime(i, '%d/%m/%y %H:%M:%S') for i in list(hour['date'])]\n",
    "day['return']=day.loc[:,'close']-day.loc[:,'close'].shift(1)\n",
    "hour['return']=hour.loc[:,'close']-hour.loc[:,'close'].shift(1)\n",
    "minute['return']=minute.loc[:,'close']-minute.loc[:,'close'].shift(1)\n",
    "day=day.iloc[1:,:]\n",
    "hour=hour.iloc[1:,:]\n",
    "minute=minute.iloc[1:,:]\n",
    "day['frac_high'] = (day['high'] - day['open'])/day['open']\n",
    "day['frac_low'] = (day['low'] - day['open'])/day['open']\n",
    "\n",
    "#day=return_size(day)\n",
    "#hour=return_size(hour)"
   ]
  },
  {
   "cell_type": "code",
   "execution_count": 5,
   "metadata": {},
   "outputs": [],
   "source": [
    "#overnight\n",
    "day['overnight'] = day.loc[:,'open'] - day.loc[:,'close'].shift(1)\n",
    "day.loc[:,'open'] = day.loc[:,'close'].shift(1)\n",
    "day=day.iloc[1:,:]\n",
    "\n",
    "time_m=[str(j)[-8:] for j in minute['date'].to_list()]\n",
    "indices_end_m = [v for v, x in enumerate(time_m) if x == \"16:00:00\"]\n",
    "for ind in range(0, len(indices_end_m) - 1):\n",
    "    minute.iloc[indices_end_m[ind] + 1,1] = minute.iloc[indices_end_m[ind],4]\n",
    "    \n",
    "time_h=[str(p)[-8:] for p in hour['date'].to_list()]\n",
    "indices_end_h = [y for y, u in enumerate(time_h) if u == \"16:00:00\"]\n",
    "for ind_ in range(0, len(indices_end_h) - 1):\n",
    "    hour.iloc[indices_end_h[ind_] + 1,1] = hour.iloc[indices_end_h[ind_],4]"
   ]
  },
  {
   "cell_type": "code",
   "execution_count": null,
   "metadata": {},
   "outputs": [],
   "source": [
    "#plot for hourly prices is for 1 day, from 11am to 17pm\n",
    "#plot fot minute prices and returns is for 1 day, from 10am to 16 pm \n",
    "day.name='Day'\n",
    "hour.name='Hour'\n",
    "minute.name='Minute'\n",
    "\n",
    "plot_close(day)\n",
    "plt.figure(figsize=(15,2))\n",
    "plt.plot(hour[['date']][8:15],hour[['close']][8:15])\n",
    "plt.title(str(hour.name)+' Price Close')\n",
    "plt.xlabel('time')\n",
    "plt.ylabel('price')\n",
    "plt.subplot()\n",
    "\n",
    "plt.figure(figsize=(15,2))\n",
    "plt.plot(minute[['date']][:380],minute[['close']][:380])\n",
    "plt.title(str(minute.name)+' Price Close')\n",
    "plt.xlabel('time')\n",
    "plt.ylabel('price')\n",
    "plt.subplot()\n",
    "\n",
    "plot_return(day)\n",
    "plot_return(hour)\n",
    "plot_return(minute)"
   ]
  },
  {
   "cell_type": "code",
   "execution_count": null,
   "metadata": {},
   "outputs": [],
   "source": [
    "plt.figure(figsize=(15,2))\n",
    "plt.plot(day[['date']][:25],day[['return']][:25])\n",
    "plt.xlabel('time')\n",
    "plt.ylabel('dollars');"
   ]
  },
  {
   "cell_type": "code",
   "execution_count": null,
   "metadata": {},
   "outputs": [],
   "source": [
    "whole_range = pd.read_csv('AMZN_all_dates.csv')\n",
    "whole_range['Date']=[datetime.strptime(i, '%Y-%m-%d') for i in list(whole_range['Date'])]\n",
    "whole_range['year']=[i.year for i in whole_range['Date']]\n",
    "whole_range['diff']=whole_range['Close'].diff(1)\n",
    "whole_range.head(3)"
   ]
  },
  {
   "cell_type": "code",
   "execution_count": null,
   "metadata": {},
   "outputs": [],
   "source": [
    "fig, ax = plt.subplots(figsize=(15,6))\n",
    "ax.plot(whole_range['Date'], whole_range['Close'].astype(int))\n",
    "ax.set_yticks(range(0, int(whole_range['Close'].max()),200))\n",
    "ax.set_xlabel('year')\n",
    "ax.set_ylabel('AMZN stock price')"
   ]
  },
  {
   "cell_type": "code",
   "execution_count": null,
   "metadata": {},
   "outputs": [],
   "source": [
    "fig, ax = plt.subplots(figsize=(15,5))a\n",
    "ax.plot(whole_range['Date'],whole_range['diff'])\n",
    "#ax.set_yticks(range(int(whole_range['diff'].min()), int(whole_range['diff'].max()),40))\n",
    "ax.set_xlabel('year')\n",
    "ax.set_ylabel('AMZN stock return')"
   ]
  },
  {
   "cell_type": "markdown",
   "metadata": {},
   "source": [
    "#### EDA"
   ]
  },
  {
   "cell_type": "code",
   "execution_count": null,
   "metadata": {},
   "outputs": [],
   "source": [
    "print('sd deviations are: daily {},hourly {}, minute {}'.format(day.iloc[-29:,-1].std(),hour.iloc[-174:,-1].std(), minute.iloc[-8144:,-2].std()))\n",
    "print('means are: daily {},hourly {}, minute {}'.format(day.iloc[-29:,-1].mean(),hour.iloc[-174:,-1].mean(), minute.iloc[-8144:,-2].mean()))\n",
    "#больше сглаживания"
   ]
  },
  {
   "cell_type": "code",
   "execution_count": null,
   "metadata": {},
   "outputs": [],
   "source": [
    "plt.figure(figsize=(15,3))\n",
    "plt.plot(day.iloc[-29:,0], day.iloc[-29:,-1])\n",
    "plt.tight_layout()\n",
    "plt.xlabel('time')\n",
    "plt.ylabel('return USD');\n",
    "plt.figure(figsize=(15,3))\n",
    "plt.plot(hour.iloc[-174:,0], hour.iloc[-174:,-1])\n",
    "plt.tight_layout()\n",
    "plt.xlabel('time')\n",
    "plt.ylabel('return USD');\n",
    "plt.figure(figsize=(15,3))\n",
    "plt.plot( minute.iloc[-8144:,0],  minute.iloc[-8144:,-2])\n",
    "plt.tight_layout()\n",
    "plt.xlabel('time')\n",
    "plt.ylabel('return USD');"
   ]
  },
  {
   "cell_type": "code",
   "execution_count": null,
   "metadata": {},
   "outputs": [],
   "source": []
  },
  {
   "cell_type": "code",
   "execution_count": null,
   "metadata": {},
   "outputs": [],
   "source": [
    "#correlation between lags\n",
    "for j in range(1,4):\n",
    "    print('DAY correlation for {} lags ={}'.format(j,day['return'].corr(day['return'].shift(j))))\n",
    "print('------------------------------------------------')\n",
    "for j in range(1,4):\n",
    "    print('HOUR correlation for {} lags ={}'.format(j,hour['return'].corr(hour['return'].shift(j))))\n",
    "print('------------------------------------------------')\n",
    "for j in range(1,4):\n",
    "    print('MINUTE correlation for {} lags ={}'.format(j,minute['return'].corr(minute['return'].shift(j))))\n",
    "#для дневдных зависит только от предыдущего лага как по Маркову"
   ]
  },
  {
   "cell_type": "code",
   "execution_count": null,
   "metadata": {},
   "outputs": [],
   "source": [
    "#autocorrelation is small, quickly converges to zero and stays around it\n",
    "min_r=statsmodels.tsa.stattools.acf(np.array(minute['return'][1:]), nlags=5, unbiased=True)\n",
    "day_r=statsmodels.tsa.stattools.acf(np.array(day['return'][1:]), nlags=5, unbiased=True)\n",
    "hour_r=statsmodels.tsa.stattools.acf(np.array(hour['return'][1:]), nlags=5, unbiased=True)\n",
    "_corr=pd.DataFrame([day_r,hour_r, min_r]).transpose()\n",
    "_corr.columns=['day return', 'hour return','minute return']\n",
    "_corr"
   ]
  },
  {
   "cell_type": "code",
   "execution_count": null,
   "metadata": {},
   "outputs": [],
   "source": [
    "minute['return'].corr(minute['overnight'])"
   ]
  },
  {
   "cell_type": "markdown",
   "metadata": {},
   "source": [
    "#### Test on stationarity "
   ]
  },
  {
   "cell_type": "code",
   "execution_count": null,
   "metadata": {},
   "outputs": [],
   "source": [
    "#Lags chosen through AIC minimization\n",
    "#All tests show stationarity\n",
    "adf=adfuller(day['return'],regression='c',autolag='AIC')\n",
    "print('Daily - ADF - p-value = {}, number of lags = {}'.format(adf[1],adf[2]))\n",
    "kps=kpss(day['return'],regression='ct')\n",
    "print('Daily -KPSS - p-value = {}, number of lags = {}'.format(kps[1],kps[2]))\n",
    "print('----------------------------------------------------')\n",
    "adf=adfuller(hour['return'],regression='c',autolag='AIC')\n",
    "print('Hourly - ADF - p-value = {}, number of lags = {}'.format(adf[1],adf[2]))\n",
    "kps=kpss(hour['return'],regression='ct')\n",
    "print('Hourly -KPSS - p-value = {}, number of lags = {}'.format(kps[1],kps[2]))\n",
    "print('----------------------------------------------------')\n",
    "adf=adfuller(minute['return'][:5000],maxlag=40,regression='ct',autolag='AIC')#since high computational cost\n",
    "print('Minute - ADF - p-value = {}, number of lags = {}'.format(adf[1],adf[2]))\n",
    "kps=kpss(minute['return'][:5000],regression='ct')\n",
    "print('Minute -KPSS - p-value = {}, number of lags = {}'.format(kps[1],kps[2]))"
   ]
  },
  {
   "cell_type": "code",
   "execution_count": null,
   "metadata": {},
   "outputs": [],
   "source": [
    "'''For prediction of continuous data, I need to know pdf of returns. So here I want to see if they can be approximated by normal\n",
    "distribution. Minute (2nd histogram) seems like normal. For others, I would use Mixture models (combine pdfs of normal \n",
    "distributions with different parameters with different weights)'''\n",
    "day[['return']].hist(bins=40);\n",
    "hour[['return']].hist(bins=40);\n",
    "minute[['return']].hist(bins=40);"
   ]
  },
  {
   "cell_type": "code",
   "execution_count": null,
   "metadata": {},
   "outputs": [],
   "source": [
    "#close\n",
    "day['overnight']=day.loc[:,'open']-day.loc[:,'close'].shift(1)\n"
   ]
  },
  {
   "cell_type": "code",
   "execution_count": null,
   "metadata": {},
   "outputs": [],
   "source": [
    "day=day.iloc[1:,:]\n",
    "day['overnight'].corr(day['close'])"
   ]
  },
  {
   "cell_type": "markdown",
   "metadata": {},
   "source": [
    "### Data preparation"
   ]
  },
  {
   "cell_type": "markdown",
   "metadata": {},
   "source": [
    "#### Split"
   ]
  },
  {
   "cell_type": "code",
   "execution_count": 6,
   "metadata": {},
   "outputs": [],
   "source": [
    "def split(df):\n",
    "    ind_train = int(df.shape[0] * 0.7)\n",
    "    margin = int(df.shape[0] * 0.01) # as we implement embargoing\n",
    "    #ind_cv = int(df.shape[0] * 0)\n",
    "    train = df.iloc[:ind_train]\n",
    "   # cv = df.iloc[ind_train+margin:ind_train+margin+ind_cv]\n",
    "    test = df.iloc[ind_train+margin:day.shape[0]]\n",
    "    return train,  test\n",
    "#day_cv.to_csv('day_cv.csv')\n",
    "#day_test.to_csv('day_test.csv')"
   ]
  },
  {
   "cell_type": "code",
   "execution_count": 7,
   "metadata": {},
   "outputs": [],
   "source": [
    "def trend(data, step, mode):\n",
    "    df = data.copy()\n",
    "    df['sign'] = np.nan\n",
    "    for row in range(df.shape[0]):\n",
    "        if df.iloc[row, 6] > 0:\n",
    "            df.iloc[row, -1] = 1\n",
    "        else:\n",
    "            df.iloc[row, -1] = 0\n",
    "    df_incr = []\n",
    "    df_decr = []\n",
    "    d = 0\n",
    "    k = 0\n",
    "    df['sum'] = df['sign'].rolling(window = step).sum()\n",
    "    while d < df.shape[0] - 1:\n",
    "        if df.iloc[d,-1] == step and df.iloc[d + 1,-1] != step:\n",
    "            df_incr.append(df.iloc[k+1:d+1,:])\n",
    "            k = d\n",
    "        elif df.iloc[d,-1] == 0 and df.iloc[d + 1,-1] != 0:\n",
    "            df_decr.append(df.iloc[k+1:d+1, :])\n",
    "            k = d\n",
    "        d += 1\n",
    "        \n",
    "    df_pos_fin = df_incr[0].iloc[:,:]\n",
    "    for entry in range(1,len(df_incr)):\n",
    "        df_pos_fin = df_pos_fin.append(df_incr[entry])\n",
    "    \n",
    "    df_neg_fin = df_decr[0].iloc[:,:]\n",
    "    for entry_ in range(1,len(df_decr)):\n",
    "        df_neg_fin = df_neg_fin.append(df_decr[entry_])\n",
    "\n",
    "    if mode == 'pos':\n",
    "        return df_pos_fin\n",
    "    elif mode == 'neg':\n",
    "        return df_neg_fin"
   ]
  },
  {
   "cell_type": "code",
   "execution_count": 8,
   "metadata": {},
   "outputs": [],
   "source": [
    "#day_pos, day_neg = trend(day, 8) #max 8\n",
    "#day_train_pos, day_cv_pos, day_test_pos = split(day_pos)\n",
    "#day_train_neg, day_cv_neg, day_test_neg = split(day_neg)\n",
    "#a, b = trend(day, 3, 'pos')\n",
    "#a.head(20)"
   ]
  },
  {
   "cell_type": "markdown",
   "metadata": {},
   "source": [
    "#### HMM -- day -- univariate -- close - close -- long sequence"
   ]
  },
  {
   "cell_type": "code",
   "execution_count": 9,
   "metadata": {},
   "outputs": [],
   "source": [
    " def init_parameters(states):\n",
    "    pi =  np.random.rand(states)\n",
    "    pi = pi/pi.sum()\n",
    "    end =  np.random.rand(states)\n",
    "    end = end/end.sum()\n",
    "    trans = np.random.rand(states, states)\n",
    "    for row in range(trans.shape[0]):\n",
    "        trans[row] = trans[row] / trans[row].sum()\n",
    "    return pi, end, trans\n",
    "\n",
    "def make_cv(df, step, col_n, mode):\n",
    "    cv = []\n",
    "    a = step - 1 \n",
    "    b = 0\n",
    "    if mode == 'neg':\n",
    "        while a < df.shape[0]:\n",
    "            if df.iloc[a,-1] == 0:\n",
    "                arr = np.array(df.iloc[b:a - (step - 1), col_n])\n",
    "                if arr.size > 1:\n",
    "                    cv.append(arr)\n",
    "                b = a + 1\n",
    "            a += 1\n",
    "    if mode == 'pos':\n",
    "        while a < df.shape[0]:\n",
    "            if df.iloc[a,-1] == step:\n",
    "                arr = np.array(df.iloc[b:a - (step - 1), col_n])\n",
    "                if arr.size > 1:\n",
    "                    cv.append(arr) #close price\n",
    "                b = a + 1\n",
    "            a += 1\n",
    "    return cv"
   ]
  },
  {
   "cell_type": "code",
   "execution_count": 10,
   "metadata": {},
   "outputs": [],
   "source": [
    "def test_hmm(df_test, model_neg, model_pos, step, col_n, mode):\n",
    "    try_test = make_cv(df_test, step, col_n, mode)\n",
    "    lab_true = []\n",
    "    lab_pred = []\n",
    "    if mode == 'pos':\n",
    "        for item in range(len(try_test)):\n",
    "            lab_true.append('P')\n",
    "    elif mode == 'neg':\n",
    "        for item in range(len(try_test)):\n",
    "            lab_true.append('N')\n",
    "    for i in try_test:\n",
    "        nprob = model_neg.forward(i)[-1]\n",
    "        total_neg_prob=0\n",
    "        for pr_neg in nprob:\n",
    "            if pr_neg!=-np.Inf:\n",
    "                total_neg_prob+=pr_neg\n",
    "        pprob = model_pos.forward(i)[-1]\n",
    "        total_pos_prob=0\n",
    "        for pr_pos in pprob:\n",
    "            if pr_pos!=-np.Inf:\n",
    "                total_pos_prob+=pr_pos\n",
    "        if total_neg_prob > total_pos_prob:\n",
    "            lab_pred.append('N')\n",
    "        else:\n",
    "            lab_pred.append('P')\n",
    "    \n",
    "    return f1_score(lab_true, lab_pred, average='micro')\n",
    "\n",
    "def final_check_day(mode, col_n, ind):\n",
    "    if mode == 'neg':\n",
    "        return test_hmm(day_neg_testsets[ind], day_neg_mod[ind], day_pos_mod[ind], day_neg_steps[ind], col_n, 'neg' )\n",
    "    elif mode == 'pos':\n",
    "        return test_hmm(day_pos_testsets[ind], day_neg_mod[ind],day_pos_mod[ind], day_pos_steps[ind],col_n, 'pos' )"
   ]
  },
  {
   "cell_type": "code",
   "execution_count": 11,
   "metadata": {},
   "outputs": [],
   "source": [
    "#day_data_neg = list([np.array(day_neg_fin['overnight']), np.array(day_neg_fin['frac_high']), \n",
    "                   #  np.array(day_neg_fin['frac_low']),\n",
    "                   #  np.array(day_neg_fin['return'])])\n",
    "def train_hmm(data, mode, col, col_number):\n",
    "    n_states = []\n",
    "    n_steps = []\n",
    "    n_pi = []\n",
    "    n_end = []\n",
    "    n_trans = []\n",
    "    n_dists = []\n",
    "    n_prob = []\n",
    "    n_mod = []\n",
    "    n_cv = []\n",
    "    n_testsets = []\n",
    "    for step in range(3, 6):\n",
    "        df = trend(data, step, mode) \n",
    "        df_train, df_test = split(df)\n",
    "        for states in range(3,9):\n",
    "            for try_ in range(30):\n",
    "                df_pi, df_end, df_trans = init_parameters(states)\n",
    "                df_data = list()\n",
    "                df_data.append(np.array(df_train[col]))\n",
    "                dists = list()\n",
    "                mean = df_train[col].mean()\n",
    "                std = df_train[col].std()\n",
    "                for i in range(states):\n",
    "                    dists.append(NormalDistribution(numpy.random.randint(50,100)/100 * mean, numpy.random.randint(50,100)/100 * std))\n",
    "                mod = HiddenMarkovModel.from_matrix(df_trans, dists, df_pi, df_end)\n",
    "                mod.fit(df_data, algorithm='baum-welch');\n",
    "                #test = make_cv(df_test, step, col_number, mode)#[:4]\n",
    "                #prob = 0\n",
    "                #for i in cv:\n",
    "                 #   prob += mod.log_probability(i)\n",
    "                n_states.append(states)\n",
    "                n_steps.append(step)\n",
    "                n_pi.append(df_pi)\n",
    "                n_end.append(df_end)\n",
    "                n_trans.append(df_trans)\n",
    "                n_dists.append(dists)\n",
    "               # n_prob.append(prob)\n",
    "                n_mod.append(mod)\n",
    "                #n_cv.append()\n",
    "                n_testsets.append(df_test)\n",
    "\n",
    "   # best_ind = n_prob.index(max(n_prob))\n",
    "   # print(\"\"\"\"number of states = {}, number of steps = {}, starting probabilities = {}, end probabilities = {},\n",
    "    #                  transition matrix = {}, emission matrix = {}, highest log_probability = {}\"\"\"\n",
    "     #                 .format(n_states[best_ind], n_steps[best_ind], n_pi[best_ind], n_end[best_ind], n_trans[best_ind],\n",
    "      #                        n_dists[best_ind], n_prob[best_ind]))\n",
    "   # return n_mod[best_ind], n_testsets[best_ind]\n",
    "    return n_states, n_steps, n_pi, n_end, n_trans, n_dists,  n_mod,  n_testsets"
   ]
  },
  {
   "cell_type": "code",
   "execution_count": 156,
   "metadata": {},
   "outputs": [],
   "source": [
    "day_pos_states, day_pos_steps, day_pos_pi, day_pos_end, day_pos_trans, day_pos_dist, day_pos_mod, day_pos_testsets = train_hmm(day, 'pos', 'return', 6)\n",
    "day_neg_states, day_neg_steps, day_neg_pi, day_neg_end, day_neg_trans, day_neg_dist, day_neg_mod, day_neg_testsets = train_hmm(day, 'neg',  'return', 6)"
   ]
  },
  {
   "cell_type": "code",
   "execution_count": 12,
   "metadata": {},
   "outputs": [],
   "source": [
    "def best_model(mod_length, col_n, func):\n",
    "    score = []\n",
    "    for idx in range(mod_length):\n",
    "        p1 = func('neg', col_n, idx)\n",
    "        p2 = func('pos', col_n, idx)\n",
    "        score.append(p1+p2)\n",
    "    all_max = list(filter(lambda x: x> 1, score))\n",
    "    max_ = max(all_max)\n",
    "    max_idx = score.index(max_)\n",
    "    return score[max_idx], max_idx\n",
    "\n",
    "def emission_matr(df,cap):\n",
    "    emiss = []\n",
    "    for stat in df.states:\n",
    "        try: \n",
    "            mean_, std_ = stat.distribution.parameters\n",
    "            emiss.append('N({}, {})'.format(round(mean_, 6), round(std_,6)))\n",
    "        except AttributeError:\n",
    "            pass\n",
    "    return print(pd.DataFrame(emiss).to_latex(caption='Emission matrix '+cap))\n",
    "\n",
    "def trans_matr(data, caption):\n",
    "    df=pd.DataFrame(data.dense_transition_matrix())\n",
    "    df = df.iloc[:-1,:-2]\n",
    "    pi = df.iloc[-1,:]\n",
    "    df = df.iloc[:-1,:]\n",
    "    for r in range(df.shape[0]):\n",
    "        df.iloc[r,:] = df.iloc[r,:]/df.iloc[r,:].sum()\n",
    "    return print(df.round(6).to_latex(caption='Transition matrix ' + caption)), print(pi.round(6).to_latex(caption=\n",
    "                                                                                                           'Initial state perobabilities vector ' + caption))"
   ]
  },
  {
   "cell_type": "code",
   "execution_count": 181,
   "metadata": {},
   "outputs": [
    {
     "name": "stdout",
     "output_type": "stream",
     "text": [
      "Total accuracy: 1.5\n",
      "Index: 174\n"
     ]
    }
   ],
   "source": [
    "day_neg_return_mod,day_neg_return_ind = best_model(len(day_neg_mod), 6, final_check_day)\n",
    "print('Total accuracy: {}'.format(day_neg_return_mod))\n",
    "print('Index: {}'.format(day_neg_return_ind))"
   ]
  },
  {
   "cell_type": "code",
   "execution_count": 183,
   "metadata": {},
   "outputs": [
    {
     "name": "stdout",
     "output_type": "stream",
     "text": [
      "negative: 0.8333333333333334\n",
      "positive: 0.6666666666666666\n"
     ]
    }
   ],
   "source": [
    "print('negative: {}'.format(final_check_day('neg', 6, 174)))\n",
    "print('positive: {}'.format(final_check_day('pos', 6, 174)))"
   ]
  },
  {
   "cell_type": "code",
   "execution_count": 190,
   "metadata": {},
   "outputs": [],
   "source": [
    "with open('day_neg_mod_ret_long.json', 'w') as js:\n",
    "    json.dump(day_neg_mod[174].to_json(), js)\n",
    "with open('day_pos_mod_ret_long.json', 'w') as js:\n",
    "    json.dump(day_pos_mod[174].to_json(), js)"
   ]
  },
  {
   "cell_type": "markdown",
   "metadata": {},
   "source": [
    "#### Short return"
   ]
  },
  {
   "cell_type": "code",
   "execution_count": 164,
   "metadata": {},
   "outputs": [],
   "source": [
    "day_pos_states_sh, day_pos_steps_sh, day_pos_pi_sh, day_pos_end_sh, day_pos_trans_sh, day_pos_dist_sh, day_pos_mod_sh, day_pos_testsets_sh = train_hmm(day[:800], 'pos', 'return', 6)\n",
    "day_neg_states_sh, day_neg_steps_sh, day_neg_pi_sh, day_neg_end_sh, day_neg_trans_sh, day_neg_dist_sh, day_neg_mod_sh, day_neg_testsets_sh = train_hmm(day[:800], 'neg',  'return', 6)"
   ]
  },
  {
   "cell_type": "code",
   "execution_count": 168,
   "metadata": {},
   "outputs": [],
   "source": [
    "def final_check_day_sh(mode, col_n, ind):\n",
    "    if mode == 'neg':\n",
    "        return test_hmm(day_neg_testsets_sh[ind], day_neg_mod_sh[ind], day_pos_mod_sh[ind], day_neg_steps_sh[ind], col_n, 'neg' )\n",
    "    elif mode == 'pos':\n",
    "        return test_hmm(day_pos_testsets_sh[ind], day_neg_mod_sh[ind],day_pos_mod_sh[ind], day_pos_steps_sh[ind],col_n, 'pos' )"
   ]
  },
  {
   "cell_type": "code",
   "execution_count": 178,
   "metadata": {},
   "outputs": [
    {
     "name": "stdout",
     "output_type": "stream",
     "text": [
      "Total accuracy: 2.0\n",
      "Index: 413\n"
     ]
    }
   ],
   "source": [
    "day_neg_return_mod_sh,day_neg_return_ind_sh = best_model(len(day_neg_mod_sh), 6, final_check_day_sh)\n",
    "print('Total accuracy: {}'.format(day_neg_return_mod_sh))\n",
    "print('Index: {}'.format(day_neg_return_ind_sh))"
   ]
  },
  {
   "cell_type": "code",
   "execution_count": 176,
   "metadata": {},
   "outputs": [
    {
     "name": "stdout",
     "output_type": "stream",
     "text": [
      "negative: 1.0\n",
      "positive: 1.0\n"
     ]
    }
   ],
   "source": [
    "print('negative: {}'.format(final_check_day_sh('neg', 6, 413)))\n",
    "print('positive: {}'.format(final_check_day_sh('pos', 6, 413)))"
   ]
  },
  {
   "cell_type": "code",
   "execution_count": 189,
   "metadata": {},
   "outputs": [],
   "source": [
    "with open('day_neg_mod_ret_short.json', 'w') as js:\n",
    "    json.dump(day_neg_mod_sh[413].to_json(), js)\n",
    "with open('day_pos_mod_ret_short.json', 'w') as js:\n",
    "    json.dump(day_pos_mod_sh[413].to_json(), js)"
   ]
  },
  {
   "cell_type": "markdown",
   "metadata": {},
   "source": [
    "#### Multivariable return"
   ]
  },
  {
   "cell_type": "code",
   "execution_count": 185,
   "metadata": {},
   "outputs": [],
   "source": [
    "day_pos_states_c, day_pos_steps_c, day_pos_pi_c, day_pos_end_c, day_pos_trans_c, day_pos_dist_c, day_pos_mod_c, day_pos_testsets_c = train_hmm(day[:800], 'pos', 'close', 4)\n",
    "day_neg_states_c, day_neg_steps_c, day_neg_pi_c, day_neg_end_c, day_neg_trans_c, day_neg_dist_c, day_neg_mod_c, day_neg_testsets_c = train_hmm(day[:800], 'neg',  'close', 4)"
   ]
  },
  {
   "cell_type": "code",
   "execution_count": 186,
   "metadata": {},
   "outputs": [],
   "source": [
    "def final_check_day_c(mode, col_n, ind):\n",
    "    if mode == 'neg':\n",
    "        return test_hmm(day_neg_testsets_c[ind], day_neg_mod_c[ind], day_pos_mod_c[ind], day_neg_steps_c[ind], col_n, 'neg' )\n",
    "    elif mode == 'pos':\n",
    "        return test_hmm(day_pos_testsets_c[ind], day_neg_mod_c[ind],day_pos_mod_c[ind], day_pos_steps_c[ind],col_n, 'pos' )"
   ]
  },
  {
   "cell_type": "code",
   "execution_count": 187,
   "metadata": {},
   "outputs": [
    {
     "name": "stdout",
     "output_type": "stream",
     "text": [
      "Total accuracy: 2.0\n",
      "Index: 437\n"
     ]
    }
   ],
   "source": [
    "day_neg_return_mod_c,day_neg_return_ind_c = best_model(len(day_neg_mod_c), 4, final_check_day_c)\n",
    "print('Total accuracy: {}'.format(day_neg_return_mod_c))\n",
    "print('Index: {}'.format(day_neg_return_ind_c))"
   ]
  },
  {
   "cell_type": "code",
   "execution_count": 188,
   "metadata": {},
   "outputs": [
    {
     "name": "stdout",
     "output_type": "stream",
     "text": [
      "negative: 1.0\n",
      "positive: 1.0\n"
     ]
    }
   ],
   "source": [
    "print('negative: {}'.format(final_check_day_c('neg', 4, 437)))\n",
    "print('positive: {}'.format(final_check_day_c('pos', 4, 437)))"
   ]
  },
  {
   "cell_type": "code",
   "execution_count": 191,
   "metadata": {},
   "outputs": [],
   "source": [
    "with open('day_neg_mod_cl_short.json', 'w') as js:\n",
    "    json.dump(day_neg_mod_c[437].to_json(), js)\n",
    "with open('day_pos_mod_cl_short.json', 'w') as js:\n",
    "    json.dump(day_pos_mod_c[437].to_json(), js)"
   ]
  },
  {
   "cell_type": "markdown",
   "metadata": {},
   "source": [
    "#### Close long"
   ]
  },
  {
   "cell_type": "code",
   "execution_count": 25,
   "metadata": {},
   "outputs": [],
   "source": [
    "day_pos_states_c2, day_pos_steps_c2, day_pos_pi_c2, day_pos_end_c2, day_pos_trans_c2, day_pos_dist_c2, day_pos_mod_c2, day_pos_testsets_c2 = train_hmm(day, 'pos', 'close', 4)\n",
    "day_neg_states_c2, day_neg_steps_c2, day_neg_pi_c2, day_neg_end_c2, day_neg_trans_c2, day_neg_dist_c2, day_neg_mod_c2, day_neg_testsets_c2 = train_hmm(day, 'neg',  'close', 4)"
   ]
  },
  {
   "cell_type": "code",
   "execution_count": 26,
   "metadata": {},
   "outputs": [],
   "source": [
    "def final_check_day_c_long(mode, col_n, ind):\n",
    "    if mode == 'neg':\n",
    "        return test_hmm(day_neg_testsets_c2[ind], day_neg_mod_c2[ind], day_pos_mod_c2[ind], day_neg_steps_c2[ind], col_n, 'neg' )\n",
    "    elif mode == 'pos':\n",
    "        return test_hmm(day_pos_testsets_c2[ind], day_neg_mod_c2[ind],day_pos_mod_c2[ind], day_pos_steps_c2[ind],col_n, 'pos' )"
   ]
  },
  {
   "cell_type": "code",
   "execution_count": 27,
   "metadata": {},
   "outputs": [
    {
     "name": "stdout",
     "output_type": "stream",
     "text": [
      "Total accuracy: 1.4444444444444444\n",
      "Index: 369\n"
     ]
    }
   ],
   "source": [
    "day_neg_return_mod_c2,day_neg_return_ind_c2 = best_model(len(day_neg_mod_c2), 4, final_check_day_c_long)\n",
    "print('Total accuracy: {}'.format(day_neg_return_mod_c2))\n",
    "print('Index: {}'.format(day_neg_return_ind_c2))"
   ]
  },
  {
   "cell_type": "code",
   "execution_count": 30,
   "metadata": {},
   "outputs": [
    {
     "name": "stdout",
     "output_type": "stream",
     "text": [
      "negative: 0.6666666666666666\n",
      "positive: 0.7777777777777778\n"
     ]
    }
   ],
   "source": [
    "print('negative: {}'.format(final_check_day_c_long('neg', 4, 369)))\n",
    "print('positive: {}'.format(final_check_day_c_long('pos', 4, 369)))"
   ]
  },
  {
   "cell_type": "code",
   "execution_count": 31,
   "metadata": {},
   "outputs": [],
   "source": [
    "with open('day_neg_mod_close_long.json', 'w') as js:\n",
    "    json.dump(day_neg_mod_c2[369].to_json(), js)\n",
    "with open('hour_pos_mod_close_long.json', 'w') as js:\n",
    "    json.dump(day_pos_mod_c2[369].to_json(), js)"
   ]
  },
  {
   "cell_type": "markdown",
   "metadata": {},
   "source": [
    "#### Hourly long return"
   ]
  },
  {
   "cell_type": "code",
   "execution_count": 18,
   "metadata": {},
   "outputs": [],
   "source": [
    "hour_pos_states, hour_pos_steps, hour_pos_pi, hour_pos_end, hour_pos_trans, hour_pos_dist, hour_pos_mod, hour_pos_testsets = train_hmm(hour.iloc[-1859:,:], 'pos', 'return', 6)\n",
    "hour_neg_states, hour_neg_steps, hour_neg_pi, hour_neg_end, hour_neg_trans, hour_neg_dist, hour_neg_mod, hour_neg_testsets = train_hmm(hour.iloc[-1859:,:], 'neg',  'return', 6)"
   ]
  },
  {
   "cell_type": "code",
   "execution_count": 19,
   "metadata": {},
   "outputs": [],
   "source": [
    "def final_check_hour_ret_long(mode, col_n, ind):\n",
    "    if mode == 'neg':\n",
    "        return test_hmm(hour_neg_testsets[ind], hour_neg_mod[ind], hour_pos_mod[ind], hour_neg_steps[ind], col_n, 'neg' )\n",
    "    elif mode == 'pos':\n",
    "        return test_hmm(hour_pos_testsets[ind], hour_neg_mod[ind],hour_pos_mod[ind], hour_pos_steps[ind],col_n, 'pos' )"
   ]
  },
  {
   "cell_type": "code",
   "execution_count": 22,
   "metadata": {},
   "outputs": [
    {
     "name": "stdout",
     "output_type": "stream",
     "text": [
      "Total accuracy: 1.5\n",
      "Index: 474\n"
     ]
    }
   ],
   "source": [
    "hour_neg_return_mod,hour_neg_return_ind = best_model(len(hour_neg_mod), 6, final_check_hour_ret_long)\n",
    "print('Total accuracy: {}'.format(hour_neg_return_mod))\n",
    "print('Index: {}'.format(hour_neg_return_ind))"
   ]
  },
  {
   "cell_type": "code",
   "execution_count": 23,
   "metadata": {},
   "outputs": [
    {
     "name": "stdout",
     "output_type": "stream",
     "text": [
      "negative: 0.8000000000000002\n",
      "positive: 0.7\n"
     ]
    }
   ],
   "source": [
    "print('negative: {}'.format(final_check_hour_ret_long('neg', 6, 474)))\n",
    "print('positive: {}'.format(final_check_hour_ret_long('pos', 6, 474)))"
   ]
  },
  {
   "cell_type": "code",
   "execution_count": 24,
   "metadata": {},
   "outputs": [],
   "source": [
    "with open('hour_neg_mod_ret_long.json', 'w') as js:\n",
    "    json.dump(hour_neg_mod[474].to_json(), js)\n",
    "with open('hour_pos_mod_ret_long.json', 'w') as js:\n",
    "    json.dump(hour_pos_mod[474].to_json(), js)"
   ]
  },
  {
   "cell_type": "markdown",
   "metadata": {},
   "source": [
    "#### Hourly long close"
   ]
  },
  {
   "cell_type": "code",
   "execution_count": 32,
   "metadata": {},
   "outputs": [],
   "source": [
    "hour_pos_states_cl_l, hour_pos_steps_cl_l, hour_pos_pi_cl_l, hour_pos_end_cl_l, hour_pos_trans_cl_l, hour_pos_dist_cl_l, hour_pos_mod_cl_l, hour_pos_testsets_cl_l = train_hmm(hour.iloc[-1859:,:], 'pos', 'close', 4)\n",
    "hour_neg_states_cl_l, hour_neg_steps_cl_l, hour_neg_pi_cl_l, hour_neg_end_cl_l, hour_neg_trans_cl_l, hour_neg_dist_cl_l, hour_neg_mod_cl_l, hour_neg_testsets_cl_l = train_hmm(hour.iloc[-1859:,:], 'neg',  'close', 4)"
   ]
  },
  {
   "cell_type": "code",
   "execution_count": 33,
   "metadata": {},
   "outputs": [],
   "source": [
    "def final_check_hour_cl_long(mode, col_n, ind):\n",
    "    if mode == 'neg':\n",
    "        return test_hmm(hour_neg_testsets_cl_l[ind], hour_neg_mod_cl_l[ind], hour_pos_mod_cl_l[ind], hour_neg_steps_cl_l[ind], col_n, 'neg' )\n",
    "    elif mode == 'pos':\n",
    "        return test_hmm(hour_pos_testsets_cl_l[ind], hour_neg_mod_cl_l[ind],hour_pos_mod_cl_l[ind], hour_pos_steps_cl_l[ind],col_n, 'pos' )"
   ]
  },
  {
   "cell_type": "code",
   "execution_count": 34,
   "metadata": {},
   "outputs": [
    {
     "name": "stdout",
     "output_type": "stream",
     "text": [
      "Total accuracy: 1.6\n",
      "Index: 467\n"
     ]
    }
   ],
   "source": [
    "hour_neg_close_mod,hour_neg_close_ind = best_model(len(hour_neg_mod_cl_l), 4, final_check_hour_cl_long)\n",
    "print('Total accuracy: {}'.format(hour_neg_close_mod))\n",
    "print('Index: {}'.format(hour_neg_close_ind))"
   ]
  },
  {
   "cell_type": "code",
   "execution_count": 35,
   "metadata": {},
   "outputs": [
    {
     "name": "stdout",
     "output_type": "stream",
     "text": [
      "negative: 1.0\n",
      "positive: 0.6\n"
     ]
    }
   ],
   "source": [
    "print('negative: {}'.format(final_check_hour_cl_long('neg', 4, 467)))\n",
    "print('positive: {}'.format(final_check_hour_cl_long('pos', 4, 467)))"
   ]
  },
  {
   "cell_type": "code",
   "execution_count": 36,
   "metadata": {},
   "outputs": [],
   "source": [
    "with open('hour_neg_mod_close_long.json', 'w') as js:\n",
    "    json.dump(hour_neg_mod_cl_l[467].to_json(), js)\n",
    "with open('hour_pos_mod_close_long.json', 'w') as js:\n",
    "    json.dump(hour_pos_mod_cl_l[467].to_json(), js)"
   ]
  },
  {
   "cell_type": "markdown",
   "metadata": {},
   "source": [
    "#### Hour close short"
   ]
  },
  {
   "cell_type": "code",
   "execution_count": 39,
   "metadata": {},
   "outputs": [],
   "source": [
    "hour_pos_states_cl_sh, hour_pos_steps_cl_sh, hour_pos_pi_cl_sh, hour_pos_end_cl_sh, hour_pos_trans_cl_sh, hour_pos_dist_cl_sh, hour_pos_mod_cl_sh, hour_pos_testsets_cl_sh = train_hmm(hour.iloc[-800:,:], 'pos', 'close', 4)\n",
    "hour_neg_states_cl_sh, hour_neg_steps_cl_sh, hour_neg_pi_cl_sh, hour_neg_end_cl_sh, hour_neg_trans_cl_sh, hour_neg_dist_cl_sh, hour_neg_mod_cl_sh, hour_neg_testsets_cl_sh = train_hmm(hour.iloc[-800:,:], 'neg',  'close', 4)"
   ]
  },
  {
   "cell_type": "code",
   "execution_count": 42,
   "metadata": {},
   "outputs": [],
   "source": [
    "def final_check_hour_cl_short(mode, col_n, ind):\n",
    "    if mode == 'neg':\n",
    "        return test_hmm(hour_neg_testsets_cl_sh[ind], hour_neg_mod_cl_sh[ind], hour_pos_mod_cl_sh[ind], hour_neg_steps_cl_sh[ind], col_n, 'neg' )\n",
    "    elif mode == 'pos':\n",
    "        return test_hmm(hour_pos_testsets_cl_sh[ind], hour_neg_mod_cl_sh[ind],hour_pos_mod_cl_sh[ind], hour_pos_steps_cl_sh[ind],col_n, 'pos' )"
   ]
  },
  {
   "cell_type": "code",
   "execution_count": 43,
   "metadata": {},
   "outputs": [
    {
     "name": "stdout",
     "output_type": "stream",
     "text": [
      "Total accuracy: 1.4666666666666668\n",
      "Index: 361\n"
     ]
    }
   ],
   "source": [
    "hour_neg_close_mod_sh,hour_neg_close_ind_sh = best_model(len( hour_neg_mod_cl_sh), 4, final_check_hour_cl_short)\n",
    "print('Total accuracy: {}'.format(hour_neg_close_mod_sh))\n",
    "print('Index: {}'.format(hour_neg_close_ind_sh))"
   ]
  },
  {
   "cell_type": "code",
   "execution_count": 44,
   "metadata": {},
   "outputs": [
    {
     "name": "stdout",
     "output_type": "stream",
     "text": [
      "negative: 0.6666666666666666\n",
      "positive: 0.8000000000000002\n"
     ]
    }
   ],
   "source": [
    "print('negative: {}'.format(final_check_hour_cl_short('neg', 4, 361)))\n",
    "print('positive: {}'.format(final_check_hour_cl_short('pos', 4, 361)))"
   ]
  },
  {
   "cell_type": "code",
   "execution_count": 45,
   "metadata": {},
   "outputs": [],
   "source": [
    "with open('hour_neg_mod_close_short.json', 'w') as js:\n",
    "    json.dump(hour_neg_mod_cl_sh[361].to_json(), js)\n",
    "with open('hour_pos_mod_close_short.json', 'w') as js:\n",
    "    json.dump(hour_pos_mod_cl_sh[361].to_json(), js)"
   ]
  },
  {
   "cell_type": "markdown",
   "metadata": {},
   "source": [
    "##### Hour return short"
   ]
  },
  {
   "cell_type": "code",
   "execution_count": 46,
   "metadata": {},
   "outputs": [],
   "source": [
    "hour_pos_states_ret_sh, hour_pos_steps_ret_sh, hour_pos_pi_ret_sh, hour_pos_end_ret_sh, hour_pos_trans_ret_sh, hour_pos_dist_ret_sh, hour_pos_mod_ret_sh, hour_pos_testsets_ret_sh = train_hmm(hour.iloc[-800:,:], 'pos', 'return', 6)\n",
    "hour_neg_states_ret_sh, hour_neg_steps_ret_sh, hour_neg_pi_ret_sh, hour_neg_end_ret_sh, hour_neg_trans_ret_sh, hour_neg_dist_ret_sh, hour_neg_mod_ret_sh, hour_neg_testsets_ret_sh = train_hmm(hour.iloc[-800:,:], 'neg',  'return', 6)"
   ]
  },
  {
   "cell_type": "code",
   "execution_count": 47,
   "metadata": {},
   "outputs": [],
   "source": [
    "def final_check_hour_ret_short(mode, col_n, ind):\n",
    "    if mode == 'neg':\n",
    "        return test_hmm(hour_neg_testsets_ret_sh[ind], hour_neg_mod_ret_sh[ind], hour_pos_mod_ret_sh[ind], hour_neg_steps_ret_sh[ind], col_n, 'neg' )\n",
    "    elif mode == 'pos':\n",
    "        return test_hmm(hour_pos_testsets_ret_sh[ind], hour_neg_mod_ret_sh[ind],hour_pos_mod_ret_sh[ind], hour_pos_steps_ret_sh[ind],col_n, 'pos' )"
   ]
  },
  {
   "cell_type": "code",
   "execution_count": 48,
   "metadata": {},
   "outputs": [
    {
     "name": "stdout",
     "output_type": "stream",
     "text": [
      "Total accuracy: 1.6750000000000003\n",
      "Index: 353\n"
     ]
    }
   ],
   "source": [
    "hour_neg_ret_mod_sh, hour_neg_ret_ind_sh = best_model(len( hour_neg_mod_ret_sh), 6, final_check_hour_ret_short)\n",
    "print('Total accuracy: {}'.format(hour_neg_ret_mod_sh))\n",
    "print('Index: {}'.format(hour_neg_ret_ind_sh))"
   ]
  },
  {
   "cell_type": "code",
   "execution_count": 90,
   "metadata": {},
   "outputs": [
    {
     "ename": "NameError",
     "evalue": "name 'final_check_hour_ret_short' is not defined",
     "output_type": "error",
     "traceback": [
      "\u001b[1;31m---------------------------------------------------------------------------\u001b[0m",
      "\u001b[1;31mNameError\u001b[0m                                 Traceback (most recent call last)",
      "\u001b[1;32m<ipython-input-90-0bdf4f11a41d>\u001b[0m in \u001b[0;36m<module>\u001b[1;34m\u001b[0m\n\u001b[1;32m----> 1\u001b[1;33m \u001b[0mprint\u001b[0m\u001b[1;33m(\u001b[0m\u001b[1;34m'negative: {}'\u001b[0m\u001b[1;33m.\u001b[0m\u001b[0mformat\u001b[0m\u001b[1;33m(\u001b[0m\u001b[0mfinal_check_hour_ret_short\u001b[0m\u001b[1;33m(\u001b[0m\u001b[1;34m'neg'\u001b[0m\u001b[1;33m,\u001b[0m \u001b[1;36m6\u001b[0m\u001b[1;33m,\u001b[0m \u001b[1;36m353\u001b[0m\u001b[1;33m)\u001b[0m\u001b[1;33m)\u001b[0m\u001b[1;33m)\u001b[0m\u001b[1;33m\u001b[0m\u001b[1;33m\u001b[0m\u001b[0m\n\u001b[0m\u001b[0;32m      2\u001b[0m \u001b[0mprint\u001b[0m\u001b[1;33m(\u001b[0m\u001b[1;34m'positive: {}'\u001b[0m\u001b[1;33m.\u001b[0m\u001b[0mformat\u001b[0m\u001b[1;33m(\u001b[0m\u001b[0mfinal_check_hour_ret_short\u001b[0m\u001b[1;33m(\u001b[0m\u001b[1;34m'pos'\u001b[0m\u001b[1;33m,\u001b[0m \u001b[1;36m6\u001b[0m\u001b[1;33m,\u001b[0m \u001b[1;36m353\u001b[0m\u001b[1;33m)\u001b[0m\u001b[1;33m)\u001b[0m\u001b[1;33m)\u001b[0m\u001b[1;33m\u001b[0m\u001b[1;33m\u001b[0m\u001b[0m\n\u001b[0;32m      3\u001b[0m \u001b[0mprint\u001b[0m\u001b[1;33m(\u001b[0m\u001b[1;34m'steps: {}'\u001b[0m\u001b[1;33m.\u001b[0m\u001b[0mformat\u001b[0m\u001b[1;33m(\u001b[0m\u001b[0mhour_pos_steps_ret_sh\u001b[0m\u001b[1;33m[\u001b[0m\u001b[1;36m353\u001b[0m\u001b[1;33m]\u001b[0m\u001b[1;33m)\u001b[0m\u001b[1;33m)\u001b[0m\u001b[1;33m\u001b[0m\u001b[1;33m\u001b[0m\u001b[0m\n\u001b[0;32m      4\u001b[0m \u001b[0mprint\u001b[0m\u001b[1;33m(\u001b[0m\u001b[1;34m'states: {}'\u001b[0m\u001b[1;33m.\u001b[0m\u001b[0mformat\u001b[0m\u001b[1;33m(\u001b[0m\u001b[0mhour_pos_states_ret_sh\u001b[0m\u001b[1;33m[\u001b[0m\u001b[1;36m353\u001b[0m\u001b[1;33m]\u001b[0m\u001b[1;33m)\u001b[0m\u001b[1;33m)\u001b[0m\u001b[1;33m\u001b[0m\u001b[1;33m\u001b[0m\u001b[0m\n",
      "\u001b[1;31mNameError\u001b[0m: name 'final_check_hour_ret_short' is not defined"
     ]
    }
   ],
   "source": [
    "print('negative: {}'.format(final_check_hour_ret_short('neg', 6, 353)))\n",
    "print('positive: {}'.format(final_check_hour_ret_short('pos', 6, 353)))\n",
    "print('steps: {}'.format(hour_pos_steps_ret_sh[353]))\n",
    "print('states: {}'.format(hour_pos_states_ret_sh[353]))"
   ]
  },
  {
   "cell_type": "code",
   "execution_count": 50,
   "metadata": {},
   "outputs": [],
   "source": [
    "with open('hour_neg_mod_return_short.json', 'w') as js:\n",
    "    json.dump(hour_neg_mod_ret_sh[353].to_json(), js)\n",
    "with open('hour_pos_mod_return_short.json', 'w') as js:\n",
    "    json.dump(hour_pos_mod_ret_sh[353].to_json(), js)"
   ]
  },
  {
   "cell_type": "markdown",
   "metadata": {},
   "source": [
    "#### Minute return long"
   ]
  },
  {
   "cell_type": "code",
   "execution_count": 52,
   "metadata": {},
   "outputs": [],
   "source": [
    "min_pos_states_ret, min_pos_steps_ret, min_pos_pi_ret, min_pos_end_ret, min_pos_trans_ret, min_pos_dist_ret, min_pos_mod_ret, min_pos_testsets_ret = train_hmm(minute.iloc[-1859:,:], 'pos', 'return', 6)\n",
    "min_neg_states_ret, min_neg_steps_ret, min_neg_pi_ret, min_neg_end_ret, min_neg_trans_ret, min_neg_dist_ret, min_neg_mod_ret, min_neg_testsets_ret = train_hmm(minute.iloc[-1859:,:], 'neg',  'return', 6)"
   ]
  },
  {
   "cell_type": "code",
   "execution_count": 56,
   "metadata": {},
   "outputs": [],
   "source": [
    "def final_check_min_ret_long(mode, col_n, ind):\n",
    "    if mode == 'neg':\n",
    "        return test_hmm(min_neg_testsets_ret[ind], min_neg_mod_ret[ind], min_pos_mod_ret[ind], min_pos_steps_ret[ind], col_n, 'neg' )\n",
    "    elif mode == 'pos':\n",
    "        return test_hmm(min_pos_testsets_ret[ind], min_neg_mod_ret[ind], min_pos_mod_ret[ind], min_pos_steps_ret[ind],col_n, 'pos' )"
   ]
  },
  {
   "cell_type": "code",
   "execution_count": 57,
   "metadata": {},
   "outputs": [
    {
     "name": "stdout",
     "output_type": "stream",
     "text": [
      "Total accuracy: 1.5\n",
      "Index: 496\n"
     ]
    }
   ],
   "source": [
    "min_neg_ret_mod_l, min_neg_ret_ind_l = best_model(len( min_neg_mod_ret), 6, final_check_min_ret_long)\n",
    "print('Total accuracy: {}'.format(min_neg_ret_mod_l))\n",
    "print('Index: {}'.format(min_neg_ret_ind_l))"
   ]
  },
  {
   "cell_type": "code",
   "execution_count": 91,
   "metadata": {},
   "outputs": [
    {
     "ename": "NameError",
     "evalue": "name 'final_check_min_ret_long' is not defined",
     "output_type": "error",
     "traceback": [
      "\u001b[1;31m---------------------------------------------------------------------------\u001b[0m",
      "\u001b[1;31mNameError\u001b[0m                                 Traceback (most recent call last)",
      "\u001b[1;32m<ipython-input-91-67ba1fd2b32b>\u001b[0m in \u001b[0;36m<module>\u001b[1;34m\u001b[0m\n\u001b[1;32m----> 1\u001b[1;33m \u001b[0mprint\u001b[0m\u001b[1;33m(\u001b[0m\u001b[1;34m'negative: {}'\u001b[0m\u001b[1;33m.\u001b[0m\u001b[0mformat\u001b[0m\u001b[1;33m(\u001b[0m\u001b[0mfinal_check_min_ret_long\u001b[0m\u001b[1;33m(\u001b[0m\u001b[1;34m'neg'\u001b[0m\u001b[1;33m,\u001b[0m \u001b[1;36m6\u001b[0m\u001b[1;33m,\u001b[0m \u001b[1;36m496\u001b[0m\u001b[1;33m)\u001b[0m\u001b[1;33m)\u001b[0m\u001b[1;33m)\u001b[0m\u001b[1;33m\u001b[0m\u001b[1;33m\u001b[0m\u001b[0m\n\u001b[0m\u001b[0;32m      2\u001b[0m \u001b[0mprint\u001b[0m\u001b[1;33m(\u001b[0m\u001b[1;34m'positive: {}'\u001b[0m\u001b[1;33m.\u001b[0m\u001b[0mformat\u001b[0m\u001b[1;33m(\u001b[0m\u001b[0mfinal_check_min_ret_long\u001b[0m\u001b[1;33m(\u001b[0m\u001b[1;34m'pos'\u001b[0m\u001b[1;33m,\u001b[0m \u001b[1;36m6\u001b[0m\u001b[1;33m,\u001b[0m \u001b[1;36m496\u001b[0m\u001b[1;33m)\u001b[0m\u001b[1;33m)\u001b[0m\u001b[1;33m)\u001b[0m\u001b[1;33m\u001b[0m\u001b[1;33m\u001b[0m\u001b[0m\n\u001b[0;32m      3\u001b[0m \u001b[0mprint\u001b[0m\u001b[1;33m(\u001b[0m\u001b[1;34m'steps: {}'\u001b[0m\u001b[1;33m.\u001b[0m\u001b[0mformat\u001b[0m\u001b[1;33m(\u001b[0m\u001b[0mmin_pos_steps_ret\u001b[0m\u001b[1;33m[\u001b[0m\u001b[1;36m496\u001b[0m\u001b[1;33m]\u001b[0m\u001b[1;33m)\u001b[0m\u001b[1;33m)\u001b[0m\u001b[1;33m\u001b[0m\u001b[1;33m\u001b[0m\u001b[0m\n\u001b[0;32m      4\u001b[0m \u001b[0mprint\u001b[0m\u001b[1;33m(\u001b[0m\u001b[1;34m'states: {}'\u001b[0m\u001b[1;33m.\u001b[0m\u001b[0mformat\u001b[0m\u001b[1;33m(\u001b[0m\u001b[0mmin_pos_states_ret\u001b[0m\u001b[1;33m[\u001b[0m\u001b[1;36m496\u001b[0m\u001b[1;33m]\u001b[0m\u001b[1;33m)\u001b[0m\u001b[1;33m)\u001b[0m\u001b[1;33m\u001b[0m\u001b[1;33m\u001b[0m\u001b[0m\n",
      "\u001b[1;31mNameError\u001b[0m: name 'final_check_min_ret_long' is not defined"
     ]
    }
   ],
   "source": [
    "print('negative: {}'.format(final_check_min_ret_long('neg', 6, 496)))\n",
    "print('positive: {}'.format(final_check_min_ret_long('pos', 6, 496)))\n",
    "print('steps: {}'.format(min_pos_steps_ret[496]))\n",
    "print('states: {}'.format(min_pos_states_ret[496]))"
   ]
  },
  {
   "cell_type": "code",
   "execution_count": 59,
   "metadata": {},
   "outputs": [],
   "source": [
    "with open('min_neg_mod_return_long.json', 'w') as js:\n",
    "    json.dump(min_neg_mod_ret[496].to_json(), js)\n",
    "with open('min_pos_mod_return_long.json', 'w') as js:\n",
    "    json.dump(min_pos_mod_ret[496].to_json(), js)"
   ]
  },
  {
   "cell_type": "markdown",
   "metadata": {},
   "source": [
    "#### Minute return short"
   ]
  },
  {
   "cell_type": "code",
   "execution_count": 15,
   "metadata": {},
   "outputs": [],
   "source": [
    "min_pos_states_ret_sh, min_pos_steps_ret_sh, min_pos_pi_ret_sh, min_pos_end_ret_sh, min_pos_trans_ret_sh, min_pos_dist_ret_sh, min_pos_mod_ret_sh, min_pos_testsets_ret_sh = train_hmm(minute.iloc[-800:,:], 'pos', 'return', 6)\n",
    "min_neg_states_ret_sh, min_neg_steps_ret_sh, min_neg_pi_ret_sh, min_neg_end_ret_sh, min_neg_trans_ret_sh, min_neg_dist_ret_sh, min_neg_mod_ret_sh, min_neg_testsets_ret_sh = train_hmm(minute.iloc[-800:,:], 'neg',  'return', 6)"
   ]
  },
  {
   "cell_type": "code",
   "execution_count": 88,
   "metadata": {},
   "outputs": [],
   "source": [
    "def trans_matr(data, caption):\n",
    "    df=pd.DataFrame(data.dense_transition_matrix())\n",
    "    df = df.iloc[:-1,:-2]\n",
    "    pi = df.iloc[-1,:]\n",
    "    df = df.iloc[:-1,:]\n",
    "    for r in range(df.shape[0]):\n",
    "        df.iloc[r,:] = df.iloc[r,:]/df.iloc[r,:].sum()\n",
    "    return print(df.round(6).to_latex(caption='Transition matrix ' + caption)), print(pi.round(6).to_latex(caption=\n",
    "                                                                                                           'Initial state perobabilities vector ' + caption))"
   ]
  },
  {
   "cell_type": "code",
   "execution_count": 92,
   "metadata": {},
   "outputs": [],
   "source": [
    "def final_check_min_ret_short(mode, col_n, ind):\n",
    "    if mode == 'neg':\n",
    "        return test_hmm(min_neg_testsets_ret_sh[ind], min_neg_mod_ret_sh[ind], min_pos_mod_ret_sh[ind], min_pos_steps_ret_sh[ind], col_n, 'neg' )\n",
    "    elif mode == 'pos':\n",
    "        return test_hmm(min_pos_testsets_ret_sh[ind], min_neg_mod_ret_sh[ind], min_pos_mod_ret_sh[ind], min_pos_steps_ret_sh[ind],col_n, 'pos' )"
   ]
  },
  {
   "cell_type": "code",
   "execution_count": 93,
   "metadata": {},
   "outputs": [
    {
     "name": "stdout",
     "output_type": "stream",
     "text": [
      "Total accuracy: 2.0\n",
      "Index: 413\n"
     ]
    }
   ],
   "source": [
    "min_neg_ret_mod_sh, min_neg_ret_ind_sh = best_model(len( min_neg_mod_ret_sh), 6, final_check_min_ret_short)\n",
    "print('Total accuracy: {}'.format(min_neg_ret_mod_sh))\n",
    "print('Index: {}'.format(min_neg_ret_ind_sh))"
   ]
  },
  {
   "cell_type": "code",
   "execution_count": 94,
   "metadata": {},
   "outputs": [
    {
     "name": "stdout",
     "output_type": "stream",
     "text": [
      "negative: 1.0\n",
      "positive: 1.0\n",
      "steps: 5\n",
      "states: 4\n"
     ]
    }
   ],
   "source": [
    "print('negative: {}'.format(final_check_min_ret_short('neg', 6, 413)))\n",
    "print('positive: {}'.format(final_check_min_ret_short('pos', 6, 413)))\n",
    "print('steps: {}'.format(min_pos_steps_ret_sh[413]))\n",
    "print('states: {}'.format(min_pos_states_ret_sh[413]))"
   ]
  },
  {
   "cell_type": "code",
   "execution_count": 95,
   "metadata": {},
   "outputs": [],
   "source": [
    "with open('min_neg_mod_return_short.json', 'w') as js:\n",
    "    json.dump( min_neg_mod_ret_sh[413].to_json(), js)\n",
    "with open('min_pos_mod_return_short.json', 'w') as js:\n",
    "    json.dump( min_pos_mod_ret_sh[413].to_json(), js)"
   ]
  },
  {
   "cell_type": "code",
   "execution_count": null,
   "metadata": {},
   "outputs": [],
   "source": []
  },
  {
   "cell_type": "code",
   "execution_count": null,
   "metadata": {},
   "outputs": [],
   "source": []
  },
  {
   "cell_type": "code",
   "execution_count": null,
   "metadata": {},
   "outputs": [],
   "source": []
  }
 ],
 "metadata": {
  "kernelspec": {
   "display_name": "Python 3",
   "language": "python",
   "name": "python3"
  },
  "language_info": {
   "codemirror_mode": {
    "name": "ipython",
    "version": 3
   },
   "file_extension": ".py",
   "mimetype": "text/x-python",
   "name": "python",
   "nbconvert_exporter": "python",
   "pygments_lexer": "ipython3",
   "version": "3.7.6"
  }
 },
 "nbformat": 4,
 "nbformat_minor": 4
}
