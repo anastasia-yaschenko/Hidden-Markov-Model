{
 "cells": [
  {
   "cell_type": "markdown",
   "metadata": {},
   "source": [
    "# Hidden Markov Model"
   ]
  },
  {
   "cell_type": "code",
   "execution_count": 2,
   "metadata": {},
   "outputs": [],
   "source": [
    "import pandas as pd\n",
    "from datetime import datetime\n",
    "from matplotlib import pyplot as plt\n",
    "%matplotlib inline\n",
    "from  statsmodels.tsa.stattools import adfuller,kpss \n",
    "import statsmodels.api\n",
    "import numpy as np\n",
    "from statsmodels.graphics.tsaplots import plot_acf,plot_pacf\n",
    "from sklearn.model_selection import TimeSeriesSplit\n",
    "from sklearn.metrics import mean_squared_error,mean_absolute_error, mean_squared_log_error,balanced_accuracy_score\n",
    "from statistics import mean\n",
    "import statsmodels.api as sm\n",
    "from sklearn import preprocessing\n",
    "import seaborn as sns\n",
    "import gapminder\n",
    "import sys\n",
    "import warnings\n",
    "\n",
    "if not sys.warnoptions:\n",
    "    warnings.simplefilter(\"ignore\")"
   ]
  },
  {
   "cell_type": "code",
   "execution_count": 22,
   "metadata": {},
   "outputs": [],
   "source": [
    "#technical indicators:\n",
    "def ema(x,window):\n",
    "    '''exponential moving average'''\n",
    "    return np.array(x.ewm(span=window).mean())\n",
    "\n",
    "\n",
    "def bollinger(x,window):\n",
    "    '''Bolinger bands & moving average'''\n",
    "    rolling_mean = x.rolling(window).mean()\n",
    "    rolling_std = x.rolling(window).std()\n",
    "    roll_mean = rolling_mean\n",
    "    higher_band = rolling_mean + (rolling_std * 2)\n",
    "    lower_band = rolling_mean - (rolling_std * 2)\n",
    "    return [lower_band[window:],roll_mean[window:],higher_band[window:]]\n",
    "\n",
    "\n",
    "def macd(v): \n",
    "    '''moving average convergence divergence'''\n",
    "    return ema(v,12)-ema(v,26)\n",
    "\n",
    "def momentum(x,lags):\n",
    "    return (1-x/x.shift(lags))*100\n",
    "\n",
    "def a_d(close,low,high,vol):\n",
    "    '''accumulation/distribution indicator''' \n",
    "    return ((close-low)-(high-close)*vol)/(high-low)\n",
    "\n",
    "def trend_deterministic(dat):\n",
    "    '''indicators which help to determine price direction, i.e. 1 stands for up, -1 for down'''\n",
    "    dat['tr-ema']=np.where(dat['ema']<dat['mid'],1,-1)\n",
    "    dat['tr-macd']=np.where(dat[['macd']]>dat[['macd']].shift(1),1,-1)\n",
    "    dat['tr-momentum']=np.where(dat['momentum']>0,1,-1)\n",
    "    return dat\n",
    "        \n",
    "def return_size(df):\n",
    "    df['return']=df.loc[:,'close']-df.loc[:,'close'].shift(1)\n",
    "    df['size']=np.nan\n",
    "    for i in range(1,len(df['return'])): \n",
    "        if df['return'][i]>=0:\n",
    "            df.iloc[i,-1]='P'#for positive\n",
    "        if df['return'][i]<0 :\n",
    "            df.iloc[i,-1]='N'#for negative\n",
    "    df=df.dropna()\n",
    "    return df\n",
    "\n",
    "def plot_return(df):\n",
    "    plt.figure(figsize=(15,2))\n",
    "    plt.plot(df[['date']][:100],df[['return']][:100] )\n",
    "    plt.title(str(df.name)+' Price Close')\n",
    "    plt.xlabel('time')\n",
    "    plt.ylabel('price')\n",
    "    plt.subplot()\n",
    "    \n",
    "def plot_close(df):\n",
    "    plt.figure(figsize=(15,2))\n",
    "    plt.plot(df[['date']],df[['close']])\n",
    "    plt.title(str(df.name)+' Price Close')\n",
    "    plt.xlabel('time')\n",
    "    plt.ylabel('price')\n",
    "    plt.subplot()\n",
    "\n",
    "def rename_col(df):\n",
    "    df.columns=['date','time','open','high','low','close','vol']\n",
    "    return df\n",
    "\n",
    "def format_time(df):\n",
    "    df['date']=df['date']+' '+df['time']\n",
    "    df=df.drop(columns=['time'])\n",
    "    df['date']=[datetime.strptime(i, '%d/%m/%y %H:%M:%S') for i in list(df['date'])]\n",
    "    return df"
   ]
  },
  {
   "cell_type": "markdown",
   "metadata": {},
   "source": [
    "#### Open and format data"
   ]
  },
  {
   "cell_type": "code",
   "execution_count": 26,
   "metadata": {},
   "outputs": [
    {
     "data": {
      "text/html": [
       "<div>\n",
       "<style scoped>\n",
       "    .dataframe tbody tr th:only-of-type {\n",
       "        vertical-align: middle;\n",
       "    }\n",
       "\n",
       "    .dataframe tbody tr th {\n",
       "        vertical-align: top;\n",
       "    }\n",
       "\n",
       "    .dataframe thead th {\n",
       "        text-align: right;\n",
       "    }\n",
       "</style>\n",
       "<table border=\"1\" class=\"dataframe\">\n",
       "  <thead>\n",
       "    <tr style=\"text-align: right;\">\n",
       "      <th></th>\n",
       "      <th>date</th>\n",
       "      <th>open</th>\n",
       "      <th>high</th>\n",
       "      <th>low</th>\n",
       "      <th>close</th>\n",
       "      <th>vol</th>\n",
       "      <th>return</th>\n",
       "      <th>size</th>\n",
       "    </tr>\n",
       "  </thead>\n",
       "  <tbody>\n",
       "    <tr>\n",
       "      <th>1</th>\n",
       "      <td>2010-02-10</td>\n",
       "      <td>118.000000</td>\n",
       "      <td>118.610001</td>\n",
       "      <td>116.000000</td>\n",
       "      <td>117.360001</td>\n",
       "      <td>6233200</td>\n",
       "      <td>-0.669998</td>\n",
       "      <td>N</td>\n",
       "    </tr>\n",
       "    <tr>\n",
       "      <th>2</th>\n",
       "      <td>2010-02-11</td>\n",
       "      <td>117.209999</td>\n",
       "      <td>120.419998</td>\n",
       "      <td>116.500000</td>\n",
       "      <td>120.089996</td>\n",
       "      <td>8343500</td>\n",
       "      <td>2.729995</td>\n",
       "      <td>P</td>\n",
       "    </tr>\n",
       "    <tr>\n",
       "      <th>3</th>\n",
       "      <td>2010-02-12</td>\n",
       "      <td>118.989998</td>\n",
       "      <td>119.940002</td>\n",
       "      <td>117.500000</td>\n",
       "      <td>119.660004</td>\n",
       "      <td>8073500</td>\n",
       "      <td>-0.429992</td>\n",
       "      <td>N</td>\n",
       "    </tr>\n",
       "    <tr>\n",
       "      <th>4</th>\n",
       "      <td>2010-02-16</td>\n",
       "      <td>120.059998</td>\n",
       "      <td>120.500000</td>\n",
       "      <td>117.180000</td>\n",
       "      <td>117.529999</td>\n",
       "      <td>8932700</td>\n",
       "      <td>-2.130005</td>\n",
       "      <td>N</td>\n",
       "    </tr>\n",
       "    <tr>\n",
       "      <th>5</th>\n",
       "      <td>2010-02-17</td>\n",
       "      <td>117.070000</td>\n",
       "      <td>117.129997</td>\n",
       "      <td>115.550003</td>\n",
       "      <td>116.309998</td>\n",
       "      <td>8944800</td>\n",
       "      <td>-1.220001</td>\n",
       "      <td>N</td>\n",
       "    </tr>\n",
       "    <tr>\n",
       "      <th>...</th>\n",
       "      <td>...</td>\n",
       "      <td>...</td>\n",
       "      <td>...</td>\n",
       "      <td>...</td>\n",
       "      <td>...</td>\n",
       "      <td>...</td>\n",
       "      <td>...</td>\n",
       "      <td>...</td>\n",
       "    </tr>\n",
       "    <tr>\n",
       "      <th>2518</th>\n",
       "      <td>2020-02-11</td>\n",
       "      <td>2150.899902</td>\n",
       "      <td>2185.949951</td>\n",
       "      <td>2136.000000</td>\n",
       "      <td>2150.800049</td>\n",
       "      <td>5746000</td>\n",
       "      <td>16.890137</td>\n",
       "      <td>P</td>\n",
       "    </tr>\n",
       "    <tr>\n",
       "      <th>2519</th>\n",
       "      <td>2020-02-12</td>\n",
       "      <td>2163.199951</td>\n",
       "      <td>2180.250000</td>\n",
       "      <td>2155.290039</td>\n",
       "      <td>2160.000000</td>\n",
       "      <td>3334300</td>\n",
       "      <td>9.199951</td>\n",
       "      <td>P</td>\n",
       "    </tr>\n",
       "    <tr>\n",
       "      <th>2520</th>\n",
       "      <td>2020-02-13</td>\n",
       "      <td>2144.989990</td>\n",
       "      <td>2170.280029</td>\n",
       "      <td>2142.000000</td>\n",
       "      <td>2149.870117</td>\n",
       "      <td>3031800</td>\n",
       "      <td>-10.129883</td>\n",
       "      <td>N</td>\n",
       "    </tr>\n",
       "    <tr>\n",
       "      <th>2521</th>\n",
       "      <td>2020-02-14</td>\n",
       "      <td>2155.679932</td>\n",
       "      <td>2159.040039</td>\n",
       "      <td>2125.889893</td>\n",
       "      <td>2134.870117</td>\n",
       "      <td>2606200</td>\n",
       "      <td>-15.000000</td>\n",
       "      <td>N</td>\n",
       "    </tr>\n",
       "    <tr>\n",
       "      <th>2522</th>\n",
       "      <td>2020-02-18</td>\n",
       "      <td>2125.020020</td>\n",
       "      <td>2166.070068</td>\n",
       "      <td>2124.110107</td>\n",
       "      <td>2155.669922</td>\n",
       "      <td>2945600</td>\n",
       "      <td>20.799805</td>\n",
       "      <td>P</td>\n",
       "    </tr>\n",
       "  </tbody>\n",
       "</table>\n",
       "<p>2522 rows × 8 columns</p>\n",
       "</div>"
      ],
      "text/plain": [
       "           date         open         high          low        close      vol  \\\n",
       "1    2010-02-10   118.000000   118.610001   116.000000   117.360001  6233200   \n",
       "2    2010-02-11   117.209999   120.419998   116.500000   120.089996  8343500   \n",
       "3    2010-02-12   118.989998   119.940002   117.500000   119.660004  8073500   \n",
       "4    2010-02-16   120.059998   120.500000   117.180000   117.529999  8932700   \n",
       "5    2010-02-17   117.070000   117.129997   115.550003   116.309998  8944800   \n",
       "...         ...          ...          ...          ...          ...      ...   \n",
       "2518 2020-02-11  2150.899902  2185.949951  2136.000000  2150.800049  5746000   \n",
       "2519 2020-02-12  2163.199951  2180.250000  2155.290039  2160.000000  3334300   \n",
       "2520 2020-02-13  2144.989990  2170.280029  2142.000000  2149.870117  3031800   \n",
       "2521 2020-02-14  2155.679932  2159.040039  2125.889893  2134.870117  2606200   \n",
       "2522 2020-02-18  2125.020020  2166.070068  2124.110107  2155.669922  2945600   \n",
       "\n",
       "         return size  \n",
       "1     -0.669998    N  \n",
       "2      2.729995    P  \n",
       "3     -0.429992    N  \n",
       "4     -2.130005    N  \n",
       "5     -1.220001    N  \n",
       "...         ...  ...  \n",
       "2518  16.890137    P  \n",
       "2519   9.199951    P  \n",
       "2520 -10.129883    N  \n",
       "2521 -15.000000    N  \n",
       "2522  20.799805    P  \n",
       "\n",
       "[2522 rows x 8 columns]"
      ]
     },
     "execution_count": 26,
     "metadata": {},
     "output_type": "execute_result"
    }
   ],
   "source": [
    "day=pd.read_csv('C:\\\\Users\\\\Dell\\\\Desktop\\\\coursework\\\\Stonks-2\\\\AMZN_day.csv')\n",
    "hour=pd.read_csv('C:\\\\Users\\\\Dell\\\\Desktop\\\\coursework\\\\Stonks-2\\\\AMZN_hour.csv')\n",
    "minute=pd.read_csv('C:\\\\Users\\\\Dell\\\\Desktop\\\\coursework\\\\Stonks-2\\\\AMZN_min.csv')\n",
    "\n",
    "minute=minute.iloc[:,2:]\n",
    "hour=hour.iloc[:,2:]\n",
    "day=day.drop(columns=['Adj Close'])\n",
    "\n",
    "day.columns=['date','open','high','low','close','vol']\n",
    "minute=rename_col(minute)\n",
    "hour=rename_col(hour)\n",
    "\n",
    "day['date']=[datetime.strptime(i, '%Y-%m-%d') for i in list(day['date'])]\n",
    "\n",
    "minute=format_time(minute)\n",
    "hour=format_time(hour)\n",
    "\n",
    "day=return_size(day)\n",
    "minute=return_size(minute)\n",
    "hour=return_size(hour)\n",
    "\n",
    "#https://www.eia.gov/dnav/pet/PET_PRI_SPT_S1_D.htm\n",
    "day"
   ]
  },
  {
   "cell_type": "code",
   "execution_count": 29,
   "metadata": {},
   "outputs": [
    {
     "data": {
      "image/png": "[encoded data removed]",
      "text/plain": [
       "<Figure size 1080x144 with 1 Axes>"
      ]
     },
     "metadata": {
      "needs_background": "light"
     },
     "output_type": "display_data"
    },
    {
     "data": {
      "image/png": "[encoded data removed]",
      "text/plain": [
       "<Figure size 1080x144 with 1 Axes>"
      ]
     },
     "metadata": {
      "needs_background": "light"
     },
     "output_type": "display_data"
    },
    {
     "data": {
      "image/png": "[encoded data removed]",
      "text/plain": [
       "<Figure size 1080x144 with 1 Axes>"
      ]
     },
     "metadata": {
      "needs_background": "light"
     },
     "output_type": "display_data"
    },
    {
     "data": {
      "image/png": "[encoded data removed]",
      "text/plain": [
       "<Figure size 1080x144 with 1 Axes>"
      ]
     },
     "metadata": {
      "needs_background": "light"
     },
     "output_type": "display_data"
    },
    {
     "data": {
      "image/png": "[encoded data removed]",
      "text/plain": [
       "<Figure size 1080x144 with 1 Axes>"
      ]
     },
     "metadata": {
      "needs_background": "light"
     },
     "output_type": "display_data"
    },
    {
     "data": {
      "image/png": "[encoded data removed]",
      "text/plain": [
       "<Figure size 1080x144 with 1 Axes>"
      ]
     },
     "metadata": {
      "needs_background": "light"
     },
     "output_type": "display_data"
    }
   ],
   "source": [
    "day.name='Day'\n",
    "hour.name='Hour'\n",
    "minute.name='Minute'\n",
    "\n",
    "plot_close(day)\n",
    "plt.figure(figsize=(15,2))\n",
    "plt.plot(hour[['date']][8:15],hour[['close']][8:15])\n",
    "plt.title(str(hour.name)+' Price Close')\n",
    "plt.xlabel('time')\n",
    "plt.ylabel('price')\n",
    "plt.subplot()\n",
    "\n",
    "plt.figure(figsize=(15,2))\n",
    "plt.plot(minute[['date']][:380],minute[['close']][:380])\n",
    "plt.title(str(minute.name)+' Price Close')\n",
    "plt.xlabel('time')\n",
    "plt.ylabel('price')\n",
    "plt.subplot()\n",
    "\n",
    "plot_return(day)\n",
    "plot_return(hour)\n",
    "plot_return(minute)"
   ]
  },
  {
   "cell_type": "markdown",
   "metadata": {},
   "source": [
    "#### EDA"
   ]
  },
  {
   "cell_type": "code",
   "execution_count": 30,
   "metadata": {},
   "outputs": [
    {
     "name": "stdout",
     "output_type": "stream",
     "text": [
      "sd deviations are: daily 16.23722188535479,hourly 7.51140168358341, minute 1.5558323597262815\n",
      "means are: daily 0.8079460440126883,hourly 0.17140859805972988, minute 0.007777634702028169\n"
     ]
    }
   ],
   "source": [
    "print('sd deviations are: daily {},hourly {}, minute {}'.format(day['return'].std(),hour['return'].std(), minute['return'].std()))\n",
    "print('means are: daily {},hourly {}, minute {}'.format(day['return'].mean(),hour['return'].mean(), minute['return'].mean()))"
   ]
  },
  {
   "cell_type": "code",
   "execution_count": 31,
   "metadata": {},
   "outputs": [
    {
     "name": "stdout",
     "output_type": "stream",
     "text": [
      "DAY correlation for 1 lags =-0.018961843838555117\n",
      "DAY correlation for 2 lags =-0.019223767807456885\n",
      "DAY correlation for 3 lags =-0.007581830722592231\n",
      "------------------------------------------------\n",
      "HOUR correlation for 1 lags =0.02025777689196856\n",
      "HOUR correlation for 2 lags =-0.008667303240005636\n",
      "HOUR correlation for 3 lags =0.02193379991244849\n",
      "------------------------------------------------\n",
      "MINUTE correlation for 1 lags =-0.009910594677539498\n",
      "MINUTE correlation for 2 lags =0.0015940559792835306\n",
      "MINUTE correlation for 3 lags =-0.004900664959592339\n"
     ]
    }
   ],
   "source": [
    "#independent\n",
    "for j in range(1,4):\n",
    "    print('DAY correlation for {} lags ={}'.format(j,day['return'].corr(day['return'].shift(j))))\n",
    "print('------------------------------------------------')\n",
    "for j in range(1,4):\n",
    "    print('HOUR correlation for {} lags ={}'.format(j,hour['return'].corr(hour['return'].shift(j))))\n",
    "print('------------------------------------------------')\n",
    "for j in range(1,4):\n",
    "    print('MINUTE correlation for {} lags ={}'.format(j,minute['return'].corr(minute['return'].shift(j))))"
   ]
  },
  {
   "cell_type": "code",
   "execution_count": 32,
   "metadata": {},
   "outputs": [
    {
     "data": {
      "image/png": "[encoded data removed]",
      "text/plain": [
       "<Figure size 432x288 with 1 Axes>"
      ]
     },
     "metadata": {
      "needs_background": "light"
     },
     "output_type": "display_data"
    }
   ],
   "source": [
    "plot_acf(minute[['return']][:100]);"
   ]
  },
  {
   "cell_type": "markdown",
   "metadata": {},
   "source": [
    "#### Test on stationarity "
   ]
  },
  {
   "cell_type": "code",
   "execution_count": 33,
   "metadata": {},
   "outputs": [
    {
     "name": "stdout",
     "output_type": "stream",
     "text": [
      "Daily - ADF - p-value = 2.2804103573286786e-13, number of lags = 27\n",
      "Daily -KPSS - p-value = 0.1, number of lags = 27\n",
      "----------------------------------------------------\n",
      "Hourly - ADF - p-value = 1.4642465322092496e-29, number of lags = 35\n",
      "Hourly -KPSS - p-value = 0.1, number of lags = 39\n",
      "----------------------------------------------------\n",
      "Minute - ADF - p-value = 0.0, number of lags = 20\n",
      "Minute -KPSS - p-value = 0.1, number of lags = 50\n"
     ]
    }
   ],
   "source": [
    "#plot_acf(day['return'],lags=1000,zero=False,alpha=0.5,);\n",
    "adf=adfuller(day['return'],regression='c',autolag='AIC')\n",
    "print('Daily - ADF - p-value = {}, number of lags = {}'.format(adf[1],adf[2]))\n",
    "kps=kpss(day['return'],regression='ct')\n",
    "print('Daily -KPSS - p-value = {}, number of lags = {}'.format(kps[1],kps[2]))\n",
    "print('----------------------------------------------------')\n",
    "adf=adfuller(hour['return'],regression='c',autolag='AIC')\n",
    "print('Hourly - ADF - p-value = {}, number of lags = {}'.format(adf[1],adf[2]))\n",
    "kps=kpss(hour['return'],regression='ct')\n",
    "print('Hourly -KPSS - p-value = {}, number of lags = {}'.format(kps[1],kps[2]))\n",
    "print('----------------------------------------------------')\n",
    "adf=adfuller(minute['return'][:30000],maxlag=62,regression='ct',autolag='AIC')#since high computational cost\n",
    "print('Minute - ADF - p-value = {}, number of lags = {}'.format(adf[1],adf[2]))\n",
    "kps=kpss(minute['return'][:30000],regression='ct')\n",
    "print('Minute -KPSS - p-value = {}, number of lags = {}'.format(kps[1],kps[2]))"
   ]
  },
  {
   "cell_type": "code",
   "execution_count": 34,
   "metadata": {},
   "outputs": [
    {
     "data": {
      "image/png": "[encoded data removed]",
      "text/plain": [
       "<Figure size 432x288 with 1 Axes>"
      ]
     },
     "metadata": {
      "needs_background": "light"
     },
     "output_type": "display_data"
    },
    {
     "data": {
      "image/png": "[encoded data removed]",
      "text/plain": [
       "<Figure size 432x288 with 1 Axes>"
      ]
     },
     "metadata": {
      "needs_background": "light"
     },
     "output_type": "display_data"
    },
    {
     "data": {
      "image/png": "[encoded data removed]",
      "text/plain": [
       "<Figure size 432x288 with 1 Axes>"
      ]
     },
     "metadata": {
      "needs_background": "light"
     },
     "output_type": "display_data"
    }
   ],
   "source": [
    "day[['return']].hist(bins=40);#normal?\n",
    "hour[['return']].hist(bins=40);\n",
    "minute[['return']].hist(bins=40);"
   ]
  },
  {
   "cell_type": "markdown",
   "metadata": {},
   "source": [
    "### Data preparation"
   ]
  },
  {
   "cell_type": "code",
   "execution_count": 50,
   "metadata": {},
   "outputs": [],
   "source": [
    "#count emission matrix based on some characteristic (investor sentiment, for instance)\n",
    "close_high=day[day['open']<day['close']]\n",
    "open_high=day[day['open']>day['close']]\n",
    "close_total=close_high[['size']].count()\n",
    "open_total=open_high[['size']].count()\n",
    "group_close=close_high.groupby('size').count()\n",
    "group_open=open_high.groupby('size').count()\n",
    "close_pos=group_close.iloc[0,0]\n",
    "close_neg=group_close.iloc[1,0]\n",
    "open_pos=group_open.iloc[0,0]\n",
    "open_neg=group_open.iloc[1,0]"
   ]
  },
  {
   "cell_type": "code",
   "execution_count": 51,
   "metadata": {},
   "outputs": [
    {
     "name": "stdout",
     "output_type": "stream",
     "text": [
      "emission matrix M\n",
      "         P    N\n",
      "open   0.3  0.7\n",
      "close  0.8  0.2\n",
      "--------\n",
      "transition matrix T\n",
      "       open  close\n",
      "open    0.6    0.4\n",
      "close   0.5    0.5\n",
      "--------\n",
      "probability of initial states pi_\n",
      "         0\n",
      "open   0.5\n",
      "close  0.5\n"
     ]
    }
   ],
   "source": [
    "#M=np.array([[open_pos/open_total, open_neg/open_total],[close_pos/close_total, close_neg/close_total]])\n",
    "M=pd.DataFrame(np.array([[0.3,0.7],[0.8,0.2]]),columns=['P','N'])#emission matrix\n",
    "M.rename(index={0:'open',1:'close'}, inplace=True)\n",
    "T=pd.DataFrame(np.array([[0.6,0.4],[0.5,0.5]]), columns=['open','close']) #transition matrix\n",
    "T.rename(index={0:'open',1:'close'}, inplace=True)\n",
    "pi_=pd.DataFrame(np.array([0.5,0.5]))#probabilities of initial states \n",
    "pi_.rename(index={0:'open',1:'close'}, inplace=True)\n",
    "seq=['P','P','N'] # sequence\n",
    "print('emission matrix M')\n",
    "print(M)\n",
    "print('--------')\n",
    "print('transition matrix T')\n",
    "print(T)\n",
    "print('--------')\n",
    "print('probability of initial states pi_')\n",
    "print(pi_)"
   ]
  },
  {
   "cell_type": "markdown",
   "metadata": {},
   "source": [
    "###  <span style=\"color:green\"> Sequence to be researched - PPNP </span> "
   ]
  },
  {
   "cell_type": "markdown",
   "metadata": {},
   "source": [
    "## Forward Algorithm - probability of being at a state at a specific time step"
   ]
  },
  {
   "cell_type": "code",
   "execution_count": 52,
   "metadata": {},
   "outputs": [
    {
     "name": "stdout",
     "output_type": "stream",
     "text": [
      "Probability (close - open)[0.4, 0.15, 0.20800000000000002, 0.087, 0.027760000000000003, 0.10933999999999999]\n",
      "Probability of the sequence is (close - open)0.1371\n"
     ]
    }
   ],
   "source": [
    "forward=[] #list of probabilities that observation is in particular state\n",
    "previous_states=[]\n",
    "alph=0 #index of observation in sequence\n",
    "while alph<len(seq):\n",
    "    obs=seq[alph]\n",
    "    if alph == 0: #initial state\n",
    "        for init_state in ('close','open'):\n",
    "            c_init=pi_.loc[init_state,0]*M.loc[init_state,obs]\n",
    "            previous_states.append(init_state)\n",
    "            forward.append(c_init)\n",
    "            \n",
    "    elif alph == 1:\n",
    "        state='close'\n",
    "        c1=forward[alph-2]*T.loc[previous_states[alph-2],state]*M.loc[state,obs]\n",
    "        c2=forward[alph-1]*T.loc[previous_states[alph-1],state]*M.loc[state,obs]\n",
    "        previous_states.append(state)\n",
    "        forward.append(c1+c2)\n",
    "        \n",
    "        state2='open'\n",
    "        c3=forward[alph-4]*T.loc[previous_states[alph-4],state2]*M.loc[state2,obs]\n",
    "        c4=forward[alph-3]*T.loc[previous_states[alph-3],state2]*M.loc[state2,obs]\n",
    "        previous_states.append(state2)\n",
    "        forward.append(c3+c4)\n",
    "    else:\n",
    "        state3='close'\n",
    "        c1=forward[-2]*T.loc[previous_states[-2],state]*M.loc[state,obs]\n",
    "        c2=forward[-1]*T.loc[previous_states[-1],state]*M.loc[state,obs]\n",
    "        previous_states.append(state)\n",
    "        forward.append(c1+c2)\n",
    "        \n",
    "        state4='open'\n",
    "        c3=forward[-2]*T.loc[previous_states[-2],state2]*M.loc[state2,obs]\n",
    "        c4=forward[-3]*T.loc[previous_states[-3],state2]*M.loc[state2,obs]\n",
    "        previous_states.append(state2)\n",
    "        forward.append(c3+c4)\n",
    "        \n",
    "    alph+=1\n",
    "sequence_probability=forward[-1]+forward[-2]\n",
    "print('Probability (close - open){}'.format(forward))\n",
    "print('Probability of the sequence is (close - open){}'.format(sequence_probability))"
   ]
  },
  {
   "cell_type": "markdown",
   "metadata": {},
   "source": [
    "## Viterbi Algorithm - find the optimal internal states given a sequence of observations"
   ]
  },
  {
   "cell_type": "code",
   "execution_count": 53,
   "metadata": {},
   "outputs": [
    {
     "name": "stdout",
     "output_type": "stream",
     "text": [
      "The most probable corresponding states are ['close', 'close', 'open']\n"
     ]
    },
    {
     "data": {
      "text/html": [
       "<div>\n",
       "<style scoped>\n",
       "    .dataframe tbody tr th:only-of-type {\n",
       "        vertical-align: middle;\n",
       "    }\n",
       "\n",
       "    .dataframe tbody tr th {\n",
       "        vertical-align: top;\n",
       "    }\n",
       "\n",
       "    .dataframe thead th {\n",
       "        text-align: right;\n",
       "    }\n",
       "</style>\n",
       "<table border=\"1\" class=\"dataframe\">\n",
       "  <thead>\n",
       "    <tr style=\"text-align: right;\">\n",
       "      <th></th>\n",
       "      <th>P</th>\n",
       "      <th>P</th>\n",
       "      <th>N</th>\n",
       "    </tr>\n",
       "  </thead>\n",
       "  <tbody>\n",
       "    <tr>\n",
       "      <th>open</th>\n",
       "      <td>0.15</td>\n",
       "      <td>0.06</td>\n",
       "      <td>0.056</td>\n",
       "    </tr>\n",
       "    <tr>\n",
       "      <th>close</th>\n",
       "      <td>0.40</td>\n",
       "      <td>0.16</td>\n",
       "      <td>0.016</td>\n",
       "    </tr>\n",
       "  </tbody>\n",
       "</table>\n",
       "</div>"
      ],
      "text/plain": [
       "          P     P      N\n",
       "open   0.15  0.06  0.056\n",
       "close  0.40  0.16  0.016"
      ]
     },
     "execution_count": 53,
     "metadata": {},
     "output_type": "execute_result"
    }
   ],
   "source": [
    "#the same sequence = P,P,N,P\n",
    "column_names = seq\n",
    "best_path=[]\n",
    "states=['open', 'close']\n",
    "indices=[0,1]\n",
    "vit=pd.DataFrame(np.zeros((2,len(seq) )),columns=column_names) \n",
    "vit.rename(index={0:'open',1:'close'},inplace=True)\n",
    "for j in range(len(seq)):\n",
    "    if j==0:\n",
    "        for s,i in zip(states,indices):\n",
    "            v1=pi_.loc[s,0]*M.loc[s,seq[j]]\n",
    "            vit.iloc[i,j]=v1\n",
    "    else:\n",
    "        st1='open'\n",
    "        idx=0\n",
    "        idx2=1\n",
    "        v2=vit.iloc[idx,j-1]*T.loc[vit.index.values[idx],st1]*M.loc[st1,vit.columns.values[j]]\n",
    "        v3=vit.iloc[idx2,j-1]*T.loc[vit.index.values[idx2],st1]*M.loc[st1,vit.columns.values[j]]\n",
    "        vit.iloc[idx,j]=max(v2,v3)\n",
    "        \n",
    "        st2='close'\n",
    "        v4=vit.iloc[idx,j-1]*T.loc[vit.index.values[idx],st2]*M.loc[st2,vit.columns.values[j]]\n",
    "        v5=vit.iloc[idx2,j-1]*T.loc[vit.index.values[idx2],st2]*M.loc[st2,vit.columns.values[j]]          \n",
    "        vit.iloc[idx2,j]=max(v4,v5)\n",
    "    idx=0\n",
    "    idx2=1\n",
    "    st1='open'\n",
    "    st2='close'\n",
    "    if vit.iloc[idx,j]>vit.iloc[idx2,j]:\n",
    "        best_path.append('open')\n",
    "    else:\n",
    "        best_path.append('close')\n",
    "print('The most probable corresponding states are {}'.format(best_path))\n",
    "vit"
   ]
  },
  {
   "cell_type": "markdown",
   "metadata": {},
   "source": [
    "## Baum-Welch Algorithm - tuning HMM"
   ]
  },
  {
   "cell_type": "code",
   "execution_count": 54,
   "metadata": {},
   "outputs": [
    {
     "name": "stdout",
     "output_type": "stream",
     "text": [
      "Backward probabilities are (open - close)[0.5, 0.44999999999999996, 0.23399999999999999, 0.255, 0.12372, 0.1371]\n"
     ]
    }
   ],
   "source": [
    "#Compute backward probabilities\n",
    "final_back_prob=pd.DataFrame(np.array([[1,1]]), columns=['open','close'])\n",
    "backward=[]\n",
    "future_states=['open', 'close']\n",
    "beta=len(seq)-1\n",
    "while beta>=0:\n",
    "    obs1=seq[beta]\n",
    "    if beta == len(seq)-1:\n",
    "        current_state='open'\n",
    "        b1=final_back_prob.iloc[0,0]*T.loc[current_state,future_states[-2]]*M.loc[future_states[-2],seq[beta]]\n",
    "        b2=final_back_prob.iloc[0,1]*T.loc[current_state,future_states[-1]]*M.loc[future_states[-1],seq[beta]]\n",
    "        backward.append(b1+b2)\n",
    "        future_states.append(current_state)\n",
    "        \n",
    "        current_state='close'\n",
    "        b3=final_back_prob.iloc[0,0]*T.loc[current_state,future_states[-2]]*M.loc[future_states[-2],seq[beta]]\n",
    "        b4=final_back_prob.iloc[0,1]*T.loc[current_state,future_states[-1]]*M.loc[future_states[-1],seq[beta]]\n",
    "        backward.append(b3+b4)\n",
    "        future_states.append(current_state)\n",
    "    else:\n",
    "        current_state='open'\n",
    "        b1=backward[-2]*T.loc[current_state,future_states[-2]]*M.loc[future_states[-2],seq[beta]]\n",
    "        b2=backward[-1]*T.loc[current_state,future_states[-1]]*M.loc[future_states[-1],seq[beta]]\n",
    "        backward.append(b1+b2)\n",
    "        future_states.append(current_state)\n",
    "        \n",
    "        current_state='close'\n",
    "        b3=backward[-3]*T.loc[current_state,future_states[-3]]*M.loc[future_states[-3],seq[beta]]\n",
    "        b4=backward[-2]*T.loc[current_state,future_states[-2]]*M.loc[future_states[-2],seq[beta]]\n",
    "        backward.append(b3+b4)\n",
    "        future_states.append(current_state)\n",
    "        \n",
    "    beta-=1\n",
    "print('Backward probabilities are (open - close){}'.format(backward))"
   ]
  },
  {
   "cell_type": "code",
   "execution_count": 55,
   "metadata": {},
   "outputs": [
    {
     "data": {
      "text/plain": [
       "[0.06855,\n",
       " 0.06186,\n",
       " 0.10200000000000001,\n",
       " 0.0351,\n",
       " 0.0936,\n",
       " 0.0435,\n",
       " 0.027760000000000003,\n",
       " 0.10933999999999999]"
      ]
     },
     "execution_count": 55,
     "metadata": {},
     "output_type": "execute_result"
    }
   ],
   "source": [
    "backward1=backward.copy()\n",
    "forward1=forward.copy()\n",
    "gamma=[]\n",
    "backward.reverse()\n",
    "backward.extend([final_back_prob.iloc[0,0],final_back_prob.iloc[0,1]])\n",
    "forward.insert(0,pi_.iloc[0,0])\n",
    "forward.insert(0,pi_.iloc[1,0])\n",
    "for symb in range((len(seq)+1)*2):\n",
    "    gamma.append(backward[symb]*forward[symb])\n",
    "gamma # numbers at even places are for close, at odd - for open"
   ]
  },
  {
   "cell_type": "code",
   "execution_count": 56,
   "metadata": {},
   "outputs": [
    {
     "data": {
      "text/plain": [
       "[0.5256498734759605,\n",
       " 0.4743501265240396,\n",
       " 0.7439824945295406,\n",
       " 0.25601750547045954,\n",
       " 0.6827133479212254,\n",
       " 0.3172866520787746,\n",
       " 0.20247994164843183,\n",
       " 0.7975200583515681]"
      ]
     },
     "execution_count": 56,
     "metadata": {},
     "output_type": "execute_result"
    }
   ],
   "source": [
    "gamma_total=[]\n",
    "for g in range(0,len(gamma),2):\n",
    "    gamma_total.extend([gamma[g]+gamma[g+1],gamma[g]+gamma[g+1]])\n",
    "gamma_final=[x/y for x, y in zip(gamma, gamma_total)]\n",
    "gamma_final"
   ]
  },
  {
   "cell_type": "code",
   "execution_count": 57,
   "metadata": {},
   "outputs": [],
   "source": [
    "cl_back=[]\n",
    "op_back=[]\n",
    "cl_forw=[]\n",
    "op_forw=[]\n",
    "for i in range(0,len(backward1),2):\n",
    "    op_back.append(backward1[i])\n",
    "for j in range(1,len(backward1),2):\n",
    "    cl_back.append(backward1[j])\n",
    "    \n",
    "for i in range(0,len(forward1),2):\n",
    "    cl_forw.append(forward1[i])\n",
    "for j in range(1,len(forward1)+1,2):\n",
    "    op_forw.append(forward1[j])\n"
   ]
  },
  {
   "cell_type": "code",
   "execution_count": 58,
   "metadata": {},
   "outputs": [
    {
     "data": {
      "text/html": [
       "<div>\n",
       "<style scoped>\n",
       "    .dataframe tbody tr th:only-of-type {\n",
       "        vertical-align: middle;\n",
       "    }\n",
       "\n",
       "    .dataframe tbody tr th {\n",
       "        vertical-align: top;\n",
       "    }\n",
       "\n",
       "    .dataframe thead th {\n",
       "        text-align: right;\n",
       "    }\n",
       "</style>\n",
       "<table border=\"1\" class=\"dataframe\">\n",
       "  <thead>\n",
       "    <tr style=\"text-align: right;\">\n",
       "      <th></th>\n",
       "      <th>P</th>\n",
       "      <th>P</th>\n",
       "      <th>N</th>\n",
       "    </tr>\n",
       "  </thead>\n",
       "  <tbody>\n",
       "    <tr>\n",
       "      <th>close_b</th>\n",
       "      <td>0.45</td>\n",
       "      <td>0.255</td>\n",
       "      <td>0.13710</td>\n",
       "    </tr>\n",
       "    <tr>\n",
       "      <th>open_b</th>\n",
       "      <td>0.50</td>\n",
       "      <td>0.234</td>\n",
       "      <td>0.12372</td>\n",
       "    </tr>\n",
       "    <tr>\n",
       "      <th>close_fw</th>\n",
       "      <td>0.40</td>\n",
       "      <td>0.208</td>\n",
       "      <td>0.02776</td>\n",
       "    </tr>\n",
       "    <tr>\n",
       "      <th>open_fw</th>\n",
       "      <td>0.15</td>\n",
       "      <td>0.087</td>\n",
       "      <td>0.10934</td>\n",
       "    </tr>\n",
       "  </tbody>\n",
       "</table>\n",
       "</div>"
      ],
      "text/plain": [
       "             P      P        N\n",
       "close_b   0.45  0.255  0.13710\n",
       "open_b    0.50  0.234  0.12372\n",
       "close_fw  0.40  0.208  0.02776\n",
       "open_fw   0.15  0.087  0.10934"
      ]
     },
     "execution_count": 58,
     "metadata": {},
     "output_type": "execute_result"
    }
   ],
   "source": [
    "#cl_back.reverse()\n",
    "#op_back.reverse()\n",
    "fb=np.array([cl_back,op_back,cl_forw,op_forw])\n",
    "forw_back=pd.DataFrame(fb, columns=seq)\n",
    "forw_back.rename(index={0:'close_b',1:'open_b',2:'close_fw',3:'open_fw'}, inplace=True)\n",
    "forw_back"
   ]
  },
  {
   "cell_type": "code",
   "execution_count": 59,
   "metadata": {},
   "outputs": [
    {
     "data": {
      "text/plain": [
       "[0.525164113785558,\n",
       " 0.2188183807439825,\n",
       " 0.15754923413566738,\n",
       " 0.09846827133479212,\n",
       " 0.5401161494117683,\n",
       " 0.18586349847404968,\n",
       " 0.1807311730723994,\n",
       " 0.0932891790417826,\n",
       " 0.04496854272084154,\n",
       " 0.1420297474032006,\n",
       " 0.14169626689039808,\n",
       " 0.6713054429855598]"
      ]
     },
     "execution_count": 59,
     "metadata": {},
     "output_type": "execute_result"
    }
   ],
   "source": [
    "epsilon=[]\n",
    "states=['close','open']\n",
    "for letter in range(len(seq)):\n",
    "    for s1 in (2,3):\n",
    "        for s2 in (0,1):\n",
    "            e=forw_back.iloc[s1,letter]*T.loc[states[s1-2],states[s2-2]]*M.loc[states[s2],seq[letter]]*forw_back.iloc[s2,letter]\n",
    "            epsilon.append(e)\n",
    "\n",
    "xi=[]\n",
    "denom=[]\n",
    "for i in range(0,len(epsilon),4):\n",
    "    s1=epsilon[i]+epsilon[i+1]\n",
    "    s2=epsilon[i+2]+epsilon[i+3]\n",
    "    s3=s1+s2\n",
    "    denom.extend([s3,s3,s3,s3])\n",
    "for j in range(len(epsilon)):\n",
    "    xi.append(epsilon[j]/denom[j])\n",
    "xi"
   ]
  },
  {
   "cell_type": "code",
   "execution_count": 60,
   "metadata": {},
   "outputs": [
    {
     "data": {
      "text/plain": [
       "[0.5256498734759605, 0.4743501265240396]"
      ]
     },
     "execution_count": 60,
     "metadata": {},
     "output_type": "execute_result"
    }
   ],
   "source": [
    "##new parameters\n",
    "pi_=gamma_final[:2]\n",
    "pi_"
   ]
  },
  {
   "cell_type": "code",
   "execution_count": 61,
   "metadata": {},
   "outputs": [
    {
     "data": {
      "text/html": [
       "<div>\n",
       "<style scoped>\n",
       "    .dataframe tbody tr th:only-of-type {\n",
       "        vertical-align: middle;\n",
       "    }\n",
       "\n",
       "    .dataframe tbody tr th {\n",
       "        vertical-align: top;\n",
       "    }\n",
       "\n",
       "    .dataframe thead th {\n",
       "        text-align: right;\n",
       "    }\n",
       "</style>\n",
       "<table border=\"1\" class=\"dataframe\">\n",
       "  <thead>\n",
       "    <tr style=\"text-align: right;\">\n",
       "      <th></th>\n",
       "      <th>0</th>\n",
       "      <th>P</th>\n",
       "      <th>P</th>\n",
       "      <th>N</th>\n",
       "    </tr>\n",
       "  </thead>\n",
       "  <tbody>\n",
       "    <tr>\n",
       "      <th>open</th>\n",
       "      <td>0.47435</td>\n",
       "      <td>0.256018</td>\n",
       "      <td>0.317287</td>\n",
       "      <td>0.79752</td>\n",
       "    </tr>\n",
       "    <tr>\n",
       "      <th>close</th>\n",
       "      <td>0.52565</td>\n",
       "      <td>0.743982</td>\n",
       "      <td>0.682713</td>\n",
       "      <td>0.20248</td>\n",
       "    </tr>\n",
       "  </tbody>\n",
       "</table>\n",
       "</div>"
      ],
      "text/plain": [
       "             0         P         P        N\n",
       "open   0.47435  0.256018  0.317287  0.79752\n",
       "close  0.52565  0.743982  0.682713  0.20248"
      ]
     },
     "execution_count": 61,
     "metadata": {},
     "output_type": "execute_result"
    }
   ],
   "source": [
    "gam_close=[]\n",
    "gam_open=[]\n",
    "for a in range(1,len(gamma_final),2):\n",
    "    gam_open.append(gamma_final[a])\n",
    "for b in range(0,len(gamma_final),2):\n",
    "    gam_close.append(gamma_final[b])\n",
    "nam=['0']+seq\n",
    "gam=np.array([gam_open,gam_close])\n",
    "gam_state=pd.DataFrame(gam,columns=nam)\n",
    "gam_state.rename(index={0:'open',1:'close'},inplace=True)\n",
    "g1=gam_state.iloc[0,:-1].sum()#open\n",
    "g2=gam_state.iloc[1,:-1].sum()#close\n",
    "g_total1=gam_state.iloc[0,:].sum()\n",
    "g_total2=gam_state.iloc[1,:].sum()\n",
    "gam_state"
   ]
  },
  {
   "cell_type": "code",
   "execution_count": 62,
   "metadata": {},
   "outputs": [
    {
     "data": {
      "text/html": [
       "<div>\n",
       "<style scoped>\n",
       "    .dataframe tbody tr th:only-of-type {\n",
       "        vertical-align: middle;\n",
       "    }\n",
       "\n",
       "    .dataframe tbody tr th {\n",
       "        vertical-align: top;\n",
       "    }\n",
       "\n",
       "    .dataframe thead th {\n",
       "        text-align: right;\n",
       "    }\n",
       "</style>\n",
       "<table border=\"1\" class=\"dataframe\">\n",
       "  <thead>\n",
       "    <tr style=\"text-align: right;\">\n",
       "      <th></th>\n",
       "      <th>P</th>\n",
       "      <th>P</th>\n",
       "      <th>N</th>\n",
       "    </tr>\n",
       "  </thead>\n",
       "  <tbody>\n",
       "    <tr>\n",
       "      <th>op_op</th>\n",
       "      <td>0.098468</td>\n",
       "      <td>0.093289</td>\n",
       "      <td>0.671305</td>\n",
       "    </tr>\n",
       "    <tr>\n",
       "      <th>op_cl</th>\n",
       "      <td>0.157549</td>\n",
       "      <td>0.180731</td>\n",
       "      <td>0.141696</td>\n",
       "    </tr>\n",
       "    <tr>\n",
       "      <th>cl_cl</th>\n",
       "      <td>0.525164</td>\n",
       "      <td>0.540116</td>\n",
       "      <td>0.044969</td>\n",
       "    </tr>\n",
       "    <tr>\n",
       "      <th>cl_op</th>\n",
       "      <td>0.218818</td>\n",
       "      <td>0.185863</td>\n",
       "      <td>0.142030</td>\n",
       "    </tr>\n",
       "  </tbody>\n",
       "</table>\n",
       "</div>"
      ],
      "text/plain": [
       "              P         P         N\n",
       "op_op  0.098468  0.093289  0.671305\n",
       "op_cl  0.157549  0.180731  0.141696\n",
       "cl_cl  0.525164  0.540116  0.044969\n",
       "cl_op  0.218818  0.185863  0.142030"
      ]
     },
     "execution_count": 62,
     "metadata": {},
     "output_type": "execute_result"
    }
   ],
   "source": [
    "op_cl=[]\n",
    "op_op=[]\n",
    "cl_op=[]\n",
    "cl_cl=[]\n",
    "for u in range(0,len(xi),4):\n",
    "    cl_cl.append(xi[u])\n",
    "    cl_op.append(xi[u+1])\n",
    "    op_cl.append(xi[u+2])\n",
    "    op_op.append(xi[u+3])\n",
    "tran=np.array([op_op,op_cl,cl_cl,cl_op])\n",
    "trans=pd.DataFrame(tran,columns=seq)\n",
    "trans.rename(index={0:'op_op',1:'op_cl',2:'cl_cl',3:'cl_op'},inplace=True)\n",
    "trans"
   ]
  },
  {
   "cell_type": "code",
   "execution_count": 63,
   "metadata": {},
   "outputs": [
    {
     "data": {
      "text/html": [
       "<div>\n",
       "<style scoped>\n",
       "    .dataframe tbody tr th:only-of-type {\n",
       "        vertical-align: middle;\n",
       "    }\n",
       "\n",
       "    .dataframe tbody tr th {\n",
       "        vertical-align: top;\n",
       "    }\n",
       "\n",
       "    .dataframe thead th {\n",
       "        text-align: right;\n",
       "    }\n",
       "</style>\n",
       "<table border=\"1\" class=\"dataframe\">\n",
       "  <thead>\n",
       "    <tr style=\"text-align: right;\">\n",
       "      <th></th>\n",
       "      <th>open</th>\n",
       "      <th>close</th>\n",
       "    </tr>\n",
       "  </thead>\n",
       "  <tbody>\n",
       "    <tr>\n",
       "      <th>open</th>\n",
       "      <td>0.183035</td>\n",
       "      <td>0.322893</td>\n",
       "    </tr>\n",
       "    <tr>\n",
       "      <th>close</th>\n",
       "      <td>0.207280</td>\n",
       "      <td>0.545641</td>\n",
       "    </tr>\n",
       "  </tbody>\n",
       "</table>\n",
       "</div>"
      ],
      "text/plain": [
       "           open     close\n",
       "open   0.183035  0.322893\n",
       "close  0.207280  0.545641"
      ]
     },
     "execution_count": 63,
     "metadata": {},
     "output_type": "execute_result"
    }
   ],
   "source": [
    "t1=trans.iloc[0,:-1].sum()/g1\n",
    "t2=trans.iloc[1,:-1].sum()/g1\n",
    "t3=trans.iloc[2,:-1].sum()/g2\n",
    "t4=trans.iloc[3,:-1].sum()/g2\n",
    "T=pd.DataFrame(np.array([[t1,t2],[t4,t3]]),columns=['open','close'])\n",
    "T.rename(index={0:'open',1:'close'},inplace=True)\n",
    "T#new transition matrix"
   ]
  },
  {
   "cell_type": "code",
   "execution_count": 64,
   "metadata": {},
   "outputs": [
    {
     "data": {
      "text/html": [
       "<div>\n",
       "<style scoped>\n",
       "    .dataframe tbody tr th:only-of-type {\n",
       "        vertical-align: middle;\n",
       "    }\n",
       "\n",
       "    .dataframe tbody tr th {\n",
       "        vertical-align: top;\n",
       "    }\n",
       "\n",
       "    .dataframe thead th {\n",
       "        text-align: right;\n",
       "    }\n",
       "</style>\n",
       "<table border=\"1\" class=\"dataframe\">\n",
       "  <thead>\n",
       "    <tr style=\"text-align: right;\">\n",
       "      <th></th>\n",
       "      <th>P</th>\n",
       "      <th>N</th>\n",
       "    </tr>\n",
       "  </thead>\n",
       "  <tbody>\n",
       "    <tr>\n",
       "      <th>open</th>\n",
       "      <td>0.310705</td>\n",
       "      <td>0.432219</td>\n",
       "    </tr>\n",
       "    <tr>\n",
       "      <th>close</th>\n",
       "      <td>0.662093</td>\n",
       "      <td>0.093966</td>\n",
       "    </tr>\n",
       "  </tbody>\n",
       "</table>\n",
       "</div>"
      ],
      "text/plain": [
       "              P         N\n",
       "open   0.310705  0.432219\n",
       "close  0.662093  0.093966"
      ]
     },
     "execution_count": 64,
     "metadata": {},
     "output_type": "execute_result"
    }
   ],
   "source": [
    "#new emission matrix\n",
    "m1=gam_state.loc['open','P'].sum()/g_total1\n",
    "m2=gam_state.loc['open','N'].sum()/g_total1\n",
    "m3=gam_state.loc['close','P'].sum()/g_total2\n",
    "m4=gam_state.loc['close','N'].sum()/g_total2\n",
    "emis=np.array([[m1,m2],[m3,m4]])\n",
    "M=pd.DataFrame(emis,columns=['P','N'])\n",
    "M.rename(index={0:'open',1:'close'},inplace=True)\n",
    "M"
   ]
  },
  {
   "cell_type": "code",
   "execution_count": null,
   "metadata": {},
   "outputs": [],
   "source": []
  },
  {
   "cell_type": "code",
   "execution_count": null,
   "metadata": {},
   "outputs": [],
   "source": []
  },
  {
   "cell_type": "code",
   "execution_count": null,
   "metadata": {},
   "outputs": [],
   "source": []
  },
  {
   "cell_type": "code",
   "execution_count": 65,
   "metadata": {},
   "outputs": [
    {
     "name": "stdout",
     "output_type": "stream",
     "text": [
      "ADF - p-value = 7.971217135806521e-17, number of lags = 17\n",
      "KPSS - p-value = 0.01, number of lags = 27\n"
     ]
    }
   ],
   "source": [
    "class BlockingTimeSeriesSplit():\n",
    "    def __init__(self, n_splits):\n",
    "        self.n_splits = n_splits\n",
    "    \n",
    "    def get_n_splits(self, X, y, groups):\n",
    "        return self.n_splits\n",
    "    \n",
    "    def split(self, X, y=None, groups=None):\n",
    "        n_samples = len(X)\n",
    "        k_fold_size = n_samples // self.n_splits\n",
    "        indices = np.arange(n_samples)\n",
    "\n",
    "        margin = 0\n",
    "        for i in range(self.n_splits):\n",
    "            start = i * k_fold_size\n",
    "            stop = start + k_fold_size\n",
    "            mid = int(0.8 * (stop - start)) + start\n",
    "            yield indices[start: mid], indices[mid + margin: stop]\n",
    "            \n",
    "btscv = BlockingTimeSeriesSplit(n_splits=5)"
   ]
  },
  {
   "cell_type": "code",
   "execution_count": null,
   "metadata": {},
   "outputs": [],
   "source": []
  }
 ],
 "metadata": {
  "kernelspec": {
   "display_name": "Python 3",
   "language": "python",
   "name": "python3"
  },
  "language_info": {
   "codemirror_mode": {
    "name": "ipython",
    "version": 3
   },
   "file_extension": ".py",
   "mimetype": "text/x-python",
   "name": "python",
   "nbconvert_exporter": "python",
   "pygments_lexer": "ipython3",
   "version": "3.6.8"
  }
 },
 "nbformat": 4,
 "nbformat_minor": 4
}
