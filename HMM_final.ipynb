{
 "cells": [
  {
   "cell_type": "markdown",
   "metadata": {},
   "source": [
    "# Hidden Markov Model"
   ]
  },
  {
   "cell_type": "code",
   "execution_count": 1,
   "metadata": {},
   "outputs": [],
   "source": [
    "import pandas as pd\n",
    "from datetime import datetime\n",
    "from matplotlib import pyplot as plt\n",
    "%matplotlib inline\n",
    "from  statsmodels.tsa.stattools import adfuller,kpss, acf\n",
    "import statsmodels.api\n",
    "import numpy as np\n",
    "from statsmodels.graphics.tsaplots import plot_acf,plot_pacf\n",
    "from sklearn.model_selection import TimeSeriesSplit\n",
    "from sklearn.metrics import mean_squared_error,mean_absolute_error, mean_squared_log_error,balanced_accuracy_score\n",
    "from statistics import mean\n",
    "import statsmodels.api as sm\n",
    "from sklearn import preprocessing\n",
    "import seaborn as sns \n",
    "import gapminder\n",
    "import sys\n",
    "import warnings\n",
    "import time\n",
    "from pomegranate import *\n",
    "from sklearn.metrics import accuracy_score, f1_score\n",
    "import json\n",
    "from math import e\n",
    "\n",
    "#if not sys.warnoptions:\n",
    "#    warnings.simplefilter(\"ignore\")"
   ]
  },
  {
   "cell_type": "code",
   "execution_count": 2,
   "metadata": {},
   "outputs": [],
   "source": [
    "def return_size(df):\n",
    "    df['return']=df.loc[:,'close']-df.loc[:,'close'].shift(1)\n",
    "    df=df.dropna()\n",
    "    return df\n",
    "\n",
    "def plot_return(df):\n",
    "    plt.figure(figsize=(15,2))\n",
    "    if df.name=='Hour':\n",
    "        plt.plot(df[['date']][8:15],df[['return']][8:15] )\n",
    "    else:\n",
    "        plt.plot(df[['date']][:30],df[['return']][:30] )\n",
    "    plt.title(str(df.name)+' Return')\n",
    "    plt.xlabel('time')\n",
    "    plt.ylabel('return')\n",
    "    plt.subplot()\n",
    "    \n",
    "def plot_close(df):\n",
    "    plt.figure(figsize=(15,2))\n",
    "    plt.plot(df[['date']],df[['close']])\n",
    "    plt.title(str(df.name)+' Price Close')\n",
    "    plt.xlabel('time')\n",
    "    plt.ylabel('price')\n",
    "    plt.subplot()\n",
    "\n",
    "def rename_col(df):\n",
    "    df.columns=['date','time','open','high','low','close','vol']\n",
    "    return df\n",
    "\n",
    "def format_time(df):\n",
    "    df['date']=df['date']+' '+df['time']\n",
    "    df=df.drop(columns=['time'])\n",
    "    df['date']=[datetime.strptime(i, '%d/%m/%y %H:%M:%S') for i in list(df['date'])]\n",
    "    return df\n",
    "def split(df):\n",
    "    ind_train = int(df.shape[0] * 0.7)\n",
    "    margin = int(df.shape[0] * 0.01) # as we implement embargoing\n",
    "    train = df.iloc[:ind_train]\n",
    "    test = df.iloc[ind_train+margin:day.shape[0]]\n",
    "    return train,  test\n",
    "\n",
    "def trend(data, step, mode):\n",
    "    df = data.copy()\n",
    "    df['sign'] = np.nan\n",
    "    for row in range(df.shape[0]):\n",
    "        if df.iloc[row, 6] > 0:\n",
    "            df.iloc[row, -1] = 1\n",
    "        else:\n",
    "            df.iloc[row, -1] = 0\n",
    "    df_incr = []\n",
    "    df_decr = []\n",
    "    d = 0\n",
    "    k = 0\n",
    "    df['sum'] = df['sign'].rolling(window = step).sum()\n",
    "    while d < df.shape[0] - 1:\n",
    "        if df.iloc[d,-1] == step and df.iloc[d + 1,-1] != step:\n",
    "            df_incr.append(df.iloc[k+1:d+1,:])\n",
    "            k = d\n",
    "        elif df.iloc[d,-1] == 0 and df.iloc[d + 1,-1] != 0:\n",
    "            df_decr.append(df.iloc[k+1:d+1, :])\n",
    "            k = d\n",
    "        d += 1\n",
    "        \n",
    "    df_pos_fin = df_incr[0].iloc[:,:]\n",
    "    for entry in range(1,len(df_incr)):\n",
    "        df_pos_fin = df_pos_fin.append(df_incr[entry])\n",
    "    \n",
    "    df_neg_fin = df_decr[0].iloc[:,:]\n",
    "    for entry_ in range(1,len(df_decr)):\n",
    "        df_neg_fin = df_neg_fin.append(df_decr[entry_])\n",
    "\n",
    "    if mode == 'pos':\n",
    "        return df_pos_fin\n",
    "    elif mode == 'neg':\n",
    "        return df_neg_fin\n",
    "    \n",
    " def init_parameters(states):\n",
    "    pi =  np.random.rand(states)\n",
    "    pi = pi/pi.sum()\n",
    "    end =  np.random.rand(states)\n",
    "    end = end/end.sum()\n",
    "    trans = np.random.rand(states, states)\n",
    "    for row in range(trans.shape[0]):\n",
    "        trans[row] = trans[row] / trans[row].sum()\n",
    "    return pi, end, trans\n",
    "\n",
    "def make_cv(df, step, col_n, mode):\n",
    "    cv = []\n",
    "    a = step - 1 \n",
    "    b = 0\n",
    "    if mode == 'neg':\n",
    "        while a < df.shape[0]:\n",
    "            if df.iloc[a,-1] == 0:\n",
    "                arr = np.array(df.iloc[b:a - (step - 1), col_n])\n",
    "                if arr.size > 1:\n",
    "                    cv.append(arr)\n",
    "                b = a + 1\n",
    "            a += 1\n",
    "    if mode == 'pos':\n",
    "        while a < df.shape[0]:\n",
    "            if df.iloc[a,-1] == step:\n",
    "                arr = np.array(df.iloc[b:a - (step - 1), col_n])\n",
    "                if arr.size > 1:\n",
    "                    cv.append(arr) #close price\n",
    "                b = a + 1\n",
    "            a += 1\n",
    "    return cv\n",
    "\n",
    "def test_hmm(df_test, model_neg, model_pos, step, col_n, mode):\n",
    "    try_test = make_cv(df_test, step, col_n, mode)\n",
    "    lab_true = []\n",
    "    lab_pred = []\n",
    "    if mode == 'pos':\n",
    "        for item in range(len(try_test)):\n",
    "            lab_true.append('P')\n",
    "    elif mode == 'neg':\n",
    "        for item in range(len(try_test)):\n",
    "            lab_true.append('N')\n",
    "    for i in try_test:\n",
    "        nprob = model_neg.forward(i)[-1]\n",
    "        total_neg_prob=0\n",
    "        for pr_neg in nprob:\n",
    "            if pr_neg!=-np.Inf:\n",
    "                total_neg_prob+=pr_neg\n",
    "        pprob = model_pos.forward(i)[-1]\n",
    "        total_pos_prob=0\n",
    "        for pr_pos in pprob:\n",
    "            if pr_pos!=-np.Inf:\n",
    "                total_pos_prob+=pr_pos\n",
    "        if total_neg_prob > total_pos_prob:\n",
    "            lab_pred.append('N')\n",
    "        else:\n",
    "            lab_pred.append('P')\n",
    "    \n",
    "    return f1_score(lab_true, lab_pred, average='micro')\n",
    "\n",
    "def final_check_day(mode, col_n, ind):\n",
    "    if mode == 'neg':\n",
    "        return test_hmm(day_neg_testsets[ind], day_neg_mod[ind], day_pos_mod[ind], day_neg_steps[ind], col_n, 'neg' )\n",
    "    elif mode == 'pos':\n",
    "        return test_hmm(day_pos_testsets[ind], day_neg_mod[ind],day_pos_mod[ind], day_pos_steps[ind],col_n, 'pos' )\n",
    "    \n",
    "def train_hmm(data, mode, col, col_number):\n",
    "    n_states = []\n",
    "    n_steps = []\n",
    "    n_pi = []\n",
    "    n_end = []\n",
    "    n_trans = []\n",
    "    n_dists = []\n",
    "    n_prob = []\n",
    "    n_mod = []\n",
    "    n_cv = []\n",
    "    n_testsets = []\n",
    "    for step in range(3, 6):\n",
    "        df = trend(data, step, mode) \n",
    "        df_train, df_test = split(df)\n",
    "        for states in range(3,9):\n",
    "            for try_ in range(30):\n",
    "                df_pi, df_end, df_trans = init_parameters(states)\n",
    "                df_data = list()\n",
    "                df_data.append(np.array(df_train[col]))\n",
    "                dists = list()\n",
    "                mean = df_train[col].mean()#close\n",
    "                std = df_train[col].std()#close\n",
    "                for i in range(states):\n",
    "                    dists.append(NormalDistribution(numpy.random.randint(50,100)/100 * mean, numpy.random.randint(50,100)/100 * std))\n",
    "                mod = HiddenMarkovModel.from_matrix(df_trans, dists, df_pi, df_end)\n",
    "                mod.fit(df_data, algorithm='baum-welch');\n",
    "                n_states.append(states)\n",
    "                n_steps.append(step)\n",
    "                n_pi.append(df_pi)\n",
    "                n_end.append(df_end)\n",
    "                n_trans.append(df_trans)\n",
    "                n_dists.append(dists)\n",
    "                n_mod.append(mod)\n",
    "                n_testsets.append(df_test)\n",
    "\n",
    "    return n_states, n_steps, n_pi, n_end, n_trans, n_dists,  n_mod,  n_testsets\n",
    "\n",
    "def best_model(mod_length, col_n, func):\n",
    "    score = []\n",
    "    for idx in range(mod_length):\n",
    "        p1 = func('neg', col_n, idx)\n",
    "        p2 = func('pos', col_n, idx)\n",
    "        score.append(p1+p2)\n",
    "    all_max = list(filter(lambda x: x> 1, score))\n",
    "    max_ = max(all_max)\n",
    "    max_idx = score.index(max_)\n",
    "    return score[max_idx], max_idx\n",
    "\n",
    "def emission_matr(df,cap):\n",
    "    emiss = []\n",
    "    for stat in df.states:\n",
    "        try: \n",
    "            mean_, std_ = stat.distribution.parameters\n",
    "            emiss.append('N({}, {})'.format(round(mean_, 6), round(std_,6)))\n",
    "        except AttributeError:\n",
    "            pass\n",
    "    return print(pd.DataFrame(emiss).to_latex(caption='Emission matrix of '+cap))\n",
    "\n",
    "def trans_matr(data, caption):\n",
    "    df=pd.DataFrame(data.dense_transition_matrix())\n",
    "    df = df.iloc[:-1,:-2]\n",
    "    pi = df.iloc[-1,:]\n",
    "    df = df.iloc[:-1,:]\n",
    "    for r in range(df.shape[0]):\n",
    "        df.iloc[r,:] = df.iloc[r,:]/df.iloc[r,:].sum()\n",
    "    return print(df.round(6).to_latex(caption='Transition matrix of ' + caption)), print(pi.round(6).to_latex(caption=\n",
    "                                                                                                           'Initial state probabilities vector of ' + caption))"
   ]
  },
  {
   "cell_type": "markdown",
   "metadata": {},
   "source": [
    "#### Open and format data"
   ]
  },
  {
   "cell_type": "code",
   "execution_count": 3,
   "metadata": {},
   "outputs": [],
   "source": [
    "minute=pd.read_csv('C:\\\\Users\\\\Dell\\\\Desktop\\\\coursework\\\\Stonks-2\\\\AMZN_min.csv')\n",
    "minute=minute.iloc[:,2:]\n",
    "minute=rename_col(minute)\n",
    "minute=format_time(minute)\n"
   ]
  },
  {
   "cell_type": "code",
   "execution_count": 4,
   "metadata": {},
   "outputs": [],
   "source": [
    "#generate hourly data\n",
    "hourly = minute.copy()\n",
    "hourly['year'] = [i.year for i in hourly['date']]\n",
    "hourly['month'] = [i.month for i in hourly['date']]\n",
    "hourly['day'] = [i.day for i in hourly['date']]\n",
    "hourly['hour'] = [i.hour for i in hourly['date']]\n",
    "hour_low = hourly.groupby(['year', 'month', 'day', 'hour']).min()['low']\n",
    "hour_high = hourly.groupby(['year', 'month', 'day', 'hour']).max()['high']\n",
    "hour_open = hourly.groupby(['year', 'month', 'day', 'hour']).first()['open']\n",
    "hour_date = hourly.groupby(['year', 'month', 'day', 'hour']).first()['date']\n",
    "hour_close=hourly.groupby(['year', 'month', 'day', 'hour']).last()['close']\n",
    "hour_vol=hourly.groupby(['year', 'month', 'day', 'hour']).sum()['vol']\n",
    "AMZNhour=pd.DataFrame([hour_open,hour_low, hour_high, hour_close, hour_vol]).transpose()\n",
    "AMZNhour=pd.concat([hour_date, AMZNhour], axis=1)\n",
    "#AMZNhour.to_excel('AMZNhour.xlsx')"
   ]
  },
  {
   "cell_type": "code",
   "execution_count": 51,
   "metadata": {},
   "outputs": [
    {
     "data": {
      "text/html": [
       "<div>\n",
       "<style scoped>\n",
       "    .dataframe tbody tr th:only-of-type {\n",
       "        vertical-align: middle;\n",
       "    }\n",
       "\n",
       "    .dataframe tbody tr th {\n",
       "        vertical-align: top;\n",
       "    }\n",
       "\n",
       "    .dataframe thead th {\n",
       "        text-align: right;\n",
       "    }\n",
       "</style>\n",
       "<table border=\"1\" class=\"dataframe\">\n",
       "  <thead>\n",
       "    <tr style=\"text-align: right;\">\n",
       "      <th></th>\n",
       "      <th></th>\n",
       "      <th></th>\n",
       "      <th>date</th>\n",
       "      <th>open</th>\n",
       "      <th>low</th>\n",
       "      <th>high</th>\n",
       "      <th>close</th>\n",
       "      <th>vol</th>\n",
       "    </tr>\n",
       "    <tr>\n",
       "      <th>year</th>\n",
       "      <th>month</th>\n",
       "      <th>day</th>\n",
       "      <th></th>\n",
       "      <th></th>\n",
       "      <th></th>\n",
       "      <th></th>\n",
       "      <th></th>\n",
       "      <th></th>\n",
       "    </tr>\n",
       "  </thead>\n",
       "  <tbody>\n",
       "    <tr>\n",
       "      <th rowspan=\"3\" valign=\"top\">2019</th>\n",
       "      <th rowspan=\"3\" valign=\"top\">2</th>\n",
       "      <th>19</th>\n",
       "      <td>19.02.2019</td>\n",
       "      <td>1606.89</td>\n",
       "      <td>1605.36</td>\n",
       "      <td>1634.00</td>\n",
       "      <td>1627.23</td>\n",
       "      <td>1815520.0</td>\n",
       "    </tr>\n",
       "    <tr>\n",
       "      <th>20</th>\n",
       "      <td>20.02.2019</td>\n",
       "      <td>1630.00</td>\n",
       "      <td>1610.12</td>\n",
       "      <td>1634.93</td>\n",
       "      <td>1622.12</td>\n",
       "      <td>1678423.0</td>\n",
       "    </tr>\n",
       "    <tr>\n",
       "      <th>21</th>\n",
       "      <td>21.02.2019</td>\n",
       "      <td>1619.85</td>\n",
       "      <td>1600.91</td>\n",
       "      <td>1623.56</td>\n",
       "      <td>1619.49</td>\n",
       "      <td>1881385.0</td>\n",
       "    </tr>\n",
       "  </tbody>\n",
       "</table>\n",
       "</div>"
      ],
      "text/plain": [
       "                      date     open      low     high    close        vol\n",
       "year month day                                                           \n",
       "2019 2     19   19.02.2019  1606.89  1605.36  1634.00  1627.23  1815520.0\n",
       "           20   20.02.2019  1630.00  1610.12  1634.93  1622.12  1678423.0\n",
       "           21   21.02.2019  1619.85  1600.91  1623.56  1619.49  1881385.0"
      ]
     },
     "execution_count": 51,
     "metadata": {},
     "output_type": "execute_result"
    }
   ],
   "source": [
    "#generate daily data\n",
    "daily = minute.copy()\n",
    "daily['year'] = [i.year for i in daily['date']]\n",
    "daily['month'] = [i.month for i in daily['date']]\n",
    "daily['day'] = [i.day for i in daily['date']]\n",
    "daily_low = daily.groupby(['year', 'month', 'day']).min()['low']\n",
    "daily_high = daily.groupby(['year', 'month', 'day']).max()['high']\n",
    "daily_open = daily.groupby(['year', 'month', 'day']).first()['open']\n",
    "daily_date = daily.groupby(['year', 'month', 'day']).first()['date']\n",
    "daily_close=daily.groupby(['year', 'month', 'day']).last()['close']\n",
    "daily_vol=daily.groupby(['year', 'month', 'day']).sum()['vol']\n",
    "AMZNdaily=pd.DataFrame([daily_open,daily_low, daily_high, daily_close, daily_vol]).transpose()\n",
    "AMZNdaily=pd.concat([daily_date, AMZNdaily], axis=1)\n",
    "for date in range(AMZNdaily.shape[0]):\n",
    "    AMZNdaily.iloc[date,0] = AMZNdaily.iloc[date,0].strftime(\"%d.%m.%Y %H:%M:%S\")\n",
    "    AMZNdaily.iloc[date,0] = str(AMZNdaily.iloc[date,0])[:10]\n",
    "AMZNdaily.head(3)\n",
    "#AMZNdaily.to_excel('AMZNdaily.xlsx')"
   ]
  },
  {
   "cell_type": "code",
   "execution_count": 6,
   "metadata": {},
   "outputs": [],
   "source": [
    "day=pd.read_excel('C:\\\\Users\\\\Dell\\\\Desktop\\\\coursework\\\\Stonks-2\\\\AMZNdaily.xlsx')\n",
    "hour=pd.read_excel('C:\\\\Users\\\\Dell\\\\Desktop\\\\coursework\\\\Stonks-2\\\\AMZNhour.xlsx')\n",
    "day['overnight'] = day.loc[:,'open'] - day.loc[:,'close'].shift(1)\n",
    "day_ret = day.copy()\n",
    "hour_ret = hour.copy()\n",
    "minute_ret = minute.copy()\n",
    "day['return']=day.loc[:,'close']-day.loc[:,'close'].shift(1)\n",
    "day.loc[:,'open'] = day.loc[:,'close'].shift(1)\n",
    "hour['return']=hour.loc[:,'close']-hour.loc[:,'close'].shift(1)\n",
    "minute['return']=minute.loc[:,'close']-minute.loc[:,'close'].shift(1)\n",
    "day.loc[:,'open'] = day.loc[:,'close'].shift(1)\n",
    "day=day.iloc[1:,:]\n",
    "hour=hour.iloc[1:,:]\n",
    "minute=minute.iloc[1:,:]"
   ]
  },
  {
   "cell_type": "code",
   "execution_count": 5,
   "metadata": {},
   "outputs": [],
   "source": [
    "day_ret['open_ret'] = day.loc[:,'open']-day.loc[:,'open'].shift(1)\n",
    "day_ret['low_ret'] = day.loc[:,'low']-day.loc[:,'low'].shift(1)\n",
    "day_ret['high_ret'] = day.loc[:,'high']-day.loc[:,'high'].shift(1)\n",
    "day_ret['return'] = day.loc[:,'close']-day.loc[:,'close'].shift(1)\n",
    "day_ret = day_ret.iloc[2:,:]"
   ]
  },
  {
   "cell_type": "code",
   "execution_count": 6,
   "metadata": {},
   "outputs": [],
   "source": [
    "hour_ret['open_ret'] = hour_ret.loc[:,'open']-hour_ret.loc[:,'open'].shift(1)\n",
    "hour_ret['low_ret'] = hour_ret.loc[:,'low']-hour_ret.loc[:,'low'].shift(1)\n",
    "hour_ret['high_ret'] = hour_ret.loc[:,'high']-hour_ret.loc[:,'high'].shift(1)\n",
    "hour_ret['return'] = hour_ret.loc[:,'close']-hour_ret.loc[:,'close'].shift(1)\n",
    "hour_ret = hour_ret.iloc[1:,:]"
   ]
  },
  {
   "cell_type": "code",
   "execution_count": 7,
   "metadata": {},
   "outputs": [],
   "source": [
    "minute_ret['open_ret'] = minute_ret.loc[:,'open']-minute_ret.loc[:,'open'].shift(1)\n",
    "minute_ret['low_ret'] = minute_ret.loc[:,'low']-minute_ret.loc[:,'low'].shift(1)\n",
    "minute_ret['high_ret'] = minute_ret.loc[:,'high']-minute_ret.loc[:,'high'].shift(1)\n",
    "minute_ret['return'] = minute_ret.loc[:,'close']-minute_ret.loc[:,'close'].shift(1)\n",
    "minute_ret = minute_ret.iloc[1:,:]"
   ]
  },
  {
   "cell_type": "code",
   "execution_count": 5,
   "metadata": {},
   "outputs": [],
   "source": [
    "#overnight\n",
    "time_m=[str(j)[-8:] for j in minute['date'].to_list()]\n",
    "indices_end_m = [v for v, x in enumerate(time_m) if x == \"16:00:00\"]\n",
    "for ind in range(0, len(indices_end_m) - 1):\n",
    "    minute.iloc[indices_end_m[ind] + 1,1] = minute.iloc[indices_end_m[ind],4]\n",
    "    \n",
    "time_h=[str(p)[-8:] for p in hour['date'].to_list()]\n",
    "indices_end_h = [y for y, u in enumerate(time_h) if u == \"16:00:00\"]\n",
    "for ind_ in range(0, len(indices_end_h) - 1):\n",
    "    hour.iloc[indices_end_h[ind_] + 1,1] = hour.iloc[indices_end_h[ind_],4]"
   ]
  },
  {
   "cell_type": "markdown",
   "metadata": {},
   "source": [
    "#### EDA"
   ]
  },
  {
   "cell_type": "code",
   "execution_count": 52,
   "metadata": {},
   "outputs": [
    {
     "name": "stdout",
     "output_type": "stream",
     "text": [
      "sd deviations are: daily 61.03828055897429,hourly 20.58191656571765, minute 3.012366934199707\n",
      "means are: daily 13.513103448275858,hourly 1.696450216450216, minute 0.04356642579210671\n"
     ]
    }
   ],
   "source": [
    "ind = -1\n",
    "print('sd deviations are: daily {},hourly {}, minute {}'.format(day_ret.iloc[-29:,ind].std(),hour_ret.iloc[-231:, ind].std(), minute_ret.iloc[-8995:,ind].std()))\n",
    "print('means are: daily {},hourly {}, minute {}'.format(day_ret.iloc[-29:,ind].mean(),hour_ret.iloc[-231:, ind].mean(), minute_ret.iloc[-8995:,ind].mean()))"
   ]
  },
  {
   "cell_type": "code",
   "execution_count": null,
   "metadata": {},
   "outputs": [],
   "source": [
    "plt.figure(figsize=(15,3))\n",
    "plt.plot(day.iloc[-29:,0], day.iloc[-29:,-1])\n",
    "plt.tight_layout()\n",
    "plt.xlabel('time')\n",
    "plt.ylabel('return USD');\n",
    "plt.figure(figsize=(15,3))\n",
    "plt.plot(hour.iloc[-174:,0], hour.iloc[-174:,-1])\n",
    "plt.tight_layout()\n",
    "plt.xlabel('time')\n",
    "plt.ylabel('return USD');\n",
    "plt.figure(figsize=(15,3))\n",
    "plt.plot( minute.iloc[-8144:,0],  minute.iloc[-8144:,-2])\n",
    "plt.tight_layout()\n",
    "plt.xlabel('time')\n",
    "plt.ylabel('return USD');"
   ]
  },
  {
   "cell_type": "code",
   "execution_count": null,
   "metadata": {},
   "outputs": [],
   "source": [
    "#correlation between lags\n",
    "for j in range(1,4):\n",
    "    print('DAY correlation for {} lags ={}'.format(j,day['return'].corr(day['return'].shift(j))))\n",
    "print('------------------------------------------------')\n",
    "for j in range(1,4):\n",
    "    print('HOUR correlation for {} lags ={}'.format(j,hour['return'].corr(hour['return'].shift(j))))\n",
    "print('------------------------------------------------')\n",
    "for j in range(1,4):\n",
    "    print('MINUTE correlation for {} lags ={}'.format(j,minute['return'].corr(minute['return'].shift(j))))"
   ]
  },
  {
   "cell_type": "code",
   "execution_count": 89,
   "metadata": {},
   "outputs": [
    {
     "name": "stderr",
     "output_type": "stream",
     "text": [
      "C:\\Users\\Dell\\anaconda3\\lib\\site-packages\\statsmodels\\tsa\\stattools.py:572: FutureWarning: fft=True will become the default in a future version of statsmodels. To suppress this warning, explicitly set fft=False.\n",
      "  FutureWarning\n"
     ]
    },
    {
     "data": {
      "text/html": [
       "<div>\n",
       "<style scoped>\n",
       "    .dataframe tbody tr th:only-of-type {\n",
       "        vertical-align: middle;\n",
       "    }\n",
       "\n",
       "    .dataframe tbody tr th {\n",
       "        vertical-align: top;\n",
       "    }\n",
       "\n",
       "    .dataframe thead th {\n",
       "        text-align: right;\n",
       "    }\n",
       "</style>\n",
       "<table border=\"1\" class=\"dataframe\">\n",
       "  <thead>\n",
       "    <tr style=\"text-align: right;\">\n",
       "      <th></th>\n",
       "      <th>day return</th>\n",
       "      <th>hour return</th>\n",
       "      <th>minute return</th>\n",
       "    </tr>\n",
       "  </thead>\n",
       "  <tbody>\n",
       "    <tr>\n",
       "      <th>0</th>\n",
       "      <td>1.000000</td>\n",
       "      <td>1.000000</td>\n",
       "      <td>1.000000</td>\n",
       "    </tr>\n",
       "    <tr>\n",
       "      <th>1</th>\n",
       "      <td>-0.071925</td>\n",
       "      <td>-0.013108</td>\n",
       "      <td>-0.019161</td>\n",
       "    </tr>\n",
       "    <tr>\n",
       "      <th>2</th>\n",
       "      <td>0.012636</td>\n",
       "      <td>-0.066159</td>\n",
       "      <td>-0.008529</td>\n",
       "    </tr>\n",
       "    <tr>\n",
       "      <th>3</th>\n",
       "      <td>0.021012</td>\n",
       "      <td>0.009329</td>\n",
       "      <td>-0.015591</td>\n",
       "    </tr>\n",
       "    <tr>\n",
       "      <th>4</th>\n",
       "      <td>-0.009186</td>\n",
       "      <td>0.034167</td>\n",
       "      <td>-0.007527</td>\n",
       "    </tr>\n",
       "    <tr>\n",
       "      <th>5</th>\n",
       "      <td>0.068894</td>\n",
       "      <td>-0.004627</td>\n",
       "      <td>-0.013526</td>\n",
       "    </tr>\n",
       "  </tbody>\n",
       "</table>\n",
       "</div>"
      ],
      "text/plain": [
       "   day return  hour return  minute return\n",
       "0    1.000000     1.000000       1.000000\n",
       "1   -0.071925    -0.013108      -0.019161\n",
       "2    0.012636    -0.066159      -0.008529\n",
       "3    0.021012     0.009329      -0.015591\n",
       "4   -0.009186     0.034167      -0.007527\n",
       "5    0.068894    -0.004627      -0.013526"
      ]
     },
     "execution_count": 89,
     "metadata": {},
     "output_type": "execute_result"
    }
   ],
   "source": [
    "min_r=statsmodels.tsa.stattools.acf(np.array(minute['return'][1:]), nlags=5, unbiased=True)\n",
    "day_r=statsmodels.tsa.stattools.acf(np.array(day['return'][1:]), nlags=5, unbiased=True)\n",
    "hour_r=statsmodels.tsa.stattools.acf(np.array(hour['return'][1:]), nlags=5, unbiased=True)\n",
    "_corr=pd.DataFrame([day_r,hour_r, min_r]).transpose()\n",
    "_corr.columns=['day return', 'hour return','minute return']\n",
    "_corr"
   ]
  },
  {
   "cell_type": "markdown",
   "metadata": {},
   "source": [
    "#### Test on stationarity "
   ]
  },
  {
   "cell_type": "code",
   "execution_count": 76,
   "metadata": {},
   "outputs": [
    {
     "name": "stdout",
     "output_type": "stream",
     "text": [
      "Daily - ADF - p-value = 0.9948125745488968, number of lags = 24\n",
      "Daily -KPSS - p-value = 0.01, number of lags = 25\n",
      "----------------------------------------------------\n",
      "Hourly - ADF - p-value = 0.833106965331807, number of lags = 26\n",
      "Hourly -KPSS - p-value = 0.1, number of lags = 27\n",
      "----------------------------------------------------\n"
     ]
    },
    {
     "name": "stderr",
     "output_type": "stream",
     "text": [
      "C:\\Users\\Dell\\anaconda3\\lib\\site-packages\\statsmodels\\tsa\\stattools.py:1685: InterpolationWarning: p-value is smaller than the indicated p-value\n",
      "  warn(\"p-value is smaller than the indicated p-value\", InterpolationWarning)\n",
      "C:\\Users\\Dell\\anaconda3\\lib\\site-packages\\statsmodels\\tsa\\stattools.py:1687: InterpolationWarning: p-value is greater than the indicated p-value\n",
      "  warn(\"p-value is greater than the indicated p-value\", InterpolationWarning)\n"
     ]
    },
    {
     "name": "stdout",
     "output_type": "stream",
     "text": [
      "Minute - ADF - p-value = 0.5547199418804214, number of lags = 7\n",
      "Minute -KPSS - p-value = 0.01, number of lags = 32\n"
     ]
    },
    {
     "name": "stderr",
     "output_type": "stream",
     "text": [
      "C:\\Users\\Dell\\anaconda3\\lib\\site-packages\\statsmodels\\tsa\\stattools.py:1685: InterpolationWarning: p-value is smaller than the indicated p-value\n",
      "  warn(\"p-value is smaller than the indicated p-value\", InterpolationWarning)\n"
     ]
    }
   ],
   "source": [
    "str_='close'\n",
    "#Lags chosen through AIC minimization\n",
    "#All tests show stationarity\n",
    "adf=adfuller(day[str_],regression='c',autolag='AIC')\n",
    "print('Daily - ADF - p-value = {}, number of lags = {}'.format(adf[1],adf[2]))\n",
    "kps=kpss(day[str_],regression='c')\n",
    "print('Daily -KPSS - p-value = {}, number of lags = {}'.format(kps[1],kps[2]))\n",
    "print('----------------------------------------------------')\n",
    "adf=adfuller(hour[str_],regression='c',autolag='AIC')\n",
    "print('Hourly - ADF - p-value = {}, number of lags = {}'.format(adf[1],adf[2]))\n",
    "kps=kpss(hour['return'],regression='c')\n",
    "print('Hourly -KPSS - p-value = {}, number of lags = {}'.format(kps[1],kps[2]))\n",
    "print('----------------------------------------------------')\n",
    "adf=adfuller(minute[str_][:5000],maxlag=40,regression='c',autolag='AIC')#since high computational cost\n",
    "print('Minute - ADF - p-value = {}, number of lags = {}'.format(adf[1],adf[2]))\n",
    "kps=kpss(minute[str_][:5000],regression='c')\n",
    "print('Minute -KPSS - p-value = {}, number of lags = {}'.format(kps[1],kps[2]))"
   ]
  },
  {
   "cell_type": "markdown",
   "metadata": {},
   "source": [
    "### Data preparation"
   ]
  },
  {
   "cell_type": "markdown",
   "metadata": {},
   "source": [
    "#### Split"
   ]
  },
  {
   "cell_type": "markdown",
   "metadata": {},
   "source": [
    "#### HMM -- day -- univariate -- close - close -- long sequence"
   ]
  },
  {
   "cell_type": "code",
   "execution_count": 12,
   "metadata": {},
   "outputs": [
    {
     "ename": "KeyboardInterrupt",
     "evalue": "",
     "output_type": "error",
     "traceback": [
      "\u001b[1;31m---------------------------------------------------------------------------\u001b[0m",
      "\u001b[1;31mKeyboardInterrupt\u001b[0m                         Traceback (most recent call last)",
      "\u001b[1;32m<ipython-input-12-75005373e476>\u001b[0m in \u001b[0;36m<module>\u001b[1;34m\u001b[0m\n\u001b[1;32m----> 1\u001b[1;33m \u001b[0mday_pos_states\u001b[0m\u001b[1;33m,\u001b[0m \u001b[0mday_pos_steps\u001b[0m\u001b[1;33m,\u001b[0m \u001b[0mday_pos_pi\u001b[0m\u001b[1;33m,\u001b[0m \u001b[0mday_pos_end\u001b[0m\u001b[1;33m,\u001b[0m \u001b[0mday_pos_trans\u001b[0m\u001b[1;33m,\u001b[0m \u001b[0mday_pos_dist\u001b[0m\u001b[1;33m,\u001b[0m \u001b[0mday_pos_mod\u001b[0m\u001b[1;33m,\u001b[0m \u001b[0mday_pos_testsets\u001b[0m \u001b[1;33m=\u001b[0m \u001b[0mtrain_hmm\u001b[0m\u001b[1;33m(\u001b[0m\u001b[0mday\u001b[0m\u001b[1;33m,\u001b[0m \u001b[1;34m'pos'\u001b[0m\u001b[1;33m,\u001b[0m \u001b[1;34m'return'\u001b[0m\u001b[1;33m,\u001b[0m \u001b[1;36m6\u001b[0m\u001b[1;33m)\u001b[0m\u001b[1;33m\u001b[0m\u001b[1;33m\u001b[0m\u001b[0m\n\u001b[0m\u001b[0;32m      2\u001b[0m \u001b[0mday_neg_states\u001b[0m\u001b[1;33m,\u001b[0m \u001b[0mday_neg_steps\u001b[0m\u001b[1;33m,\u001b[0m \u001b[0mday_neg_pi\u001b[0m\u001b[1;33m,\u001b[0m \u001b[0mday_neg_end\u001b[0m\u001b[1;33m,\u001b[0m \u001b[0mday_neg_trans\u001b[0m\u001b[1;33m,\u001b[0m \u001b[0mday_neg_dist\u001b[0m\u001b[1;33m,\u001b[0m \u001b[0mday_neg_mod\u001b[0m\u001b[1;33m,\u001b[0m \u001b[0mday_neg_testsets\u001b[0m \u001b[1;33m=\u001b[0m \u001b[0mtrain_hmm\u001b[0m\u001b[1;33m(\u001b[0m\u001b[0mday\u001b[0m\u001b[1;33m,\u001b[0m \u001b[1;34m'neg'\u001b[0m\u001b[1;33m,\u001b[0m  \u001b[1;34m'return'\u001b[0m\u001b[1;33m,\u001b[0m \u001b[1;36m6\u001b[0m\u001b[1;33m)\u001b[0m\u001b[1;33m\u001b[0m\u001b[1;33m\u001b[0m\u001b[0m\n",
      "\u001b[1;32m<ipython-input-11-81c531e671d0>\u001b[0m in \u001b[0;36mtrain_hmm\u001b[1;34m(data, mode, col, col_number)\u001b[0m\n\u001b[0;32m     27\u001b[0m                     \u001b[0mdists\u001b[0m\u001b[1;33m.\u001b[0m\u001b[0mappend\u001b[0m\u001b[1;33m(\u001b[0m\u001b[0mNormalDistribution\u001b[0m\u001b[1;33m(\u001b[0m\u001b[0mnumpy\u001b[0m\u001b[1;33m.\u001b[0m\u001b[0mrandom\u001b[0m\u001b[1;33m.\u001b[0m\u001b[0mrandint\u001b[0m\u001b[1;33m(\u001b[0m\u001b[1;36m50\u001b[0m\u001b[1;33m,\u001b[0m\u001b[1;36m100\u001b[0m\u001b[1;33m)\u001b[0m\u001b[1;33m/\u001b[0m\u001b[1;36m100\u001b[0m \u001b[1;33m*\u001b[0m \u001b[0mmean\u001b[0m\u001b[1;33m,\u001b[0m \u001b[0mnumpy\u001b[0m\u001b[1;33m.\u001b[0m\u001b[0mrandom\u001b[0m\u001b[1;33m.\u001b[0m\u001b[0mrandint\u001b[0m\u001b[1;33m(\u001b[0m\u001b[1;36m50\u001b[0m\u001b[1;33m,\u001b[0m\u001b[1;36m100\u001b[0m\u001b[1;33m)\u001b[0m\u001b[1;33m/\u001b[0m\u001b[1;36m100\u001b[0m \u001b[1;33m*\u001b[0m \u001b[0mstd\u001b[0m\u001b[1;33m)\u001b[0m\u001b[1;33m)\u001b[0m\u001b[1;33m\u001b[0m\u001b[1;33m\u001b[0m\u001b[0m\n\u001b[0;32m     28\u001b[0m                 \u001b[0mmod\u001b[0m \u001b[1;33m=\u001b[0m \u001b[0mHiddenMarkovModel\u001b[0m\u001b[1;33m.\u001b[0m\u001b[0mfrom_matrix\u001b[0m\u001b[1;33m(\u001b[0m\u001b[0mdf_trans\u001b[0m\u001b[1;33m,\u001b[0m \u001b[0mdists\u001b[0m\u001b[1;33m,\u001b[0m \u001b[0mdf_pi\u001b[0m\u001b[1;33m,\u001b[0m \u001b[0mdf_end\u001b[0m\u001b[1;33m)\u001b[0m\u001b[1;33m\u001b[0m\u001b[1;33m\u001b[0m\u001b[0m\n\u001b[1;32m---> 29\u001b[1;33m                 \u001b[0mmod\u001b[0m\u001b[1;33m.\u001b[0m\u001b[0mfit\u001b[0m\u001b[1;33m(\u001b[0m\u001b[0mdf_data\u001b[0m\u001b[1;33m,\u001b[0m \u001b[0malgorithm\u001b[0m\u001b[1;33m=\u001b[0m\u001b[1;34m'baum-welch'\u001b[0m\u001b[1;33m)\u001b[0m\u001b[1;33m;\u001b[0m\u001b[1;33m\u001b[0m\u001b[1;33m\u001b[0m\u001b[0m\n\u001b[0m\u001b[0;32m     30\u001b[0m                 \u001b[1;31m#test = make_cv(df_test, step, col_number, mode)#[:4]\u001b[0m\u001b[1;33m\u001b[0m\u001b[1;33m\u001b[0m\u001b[1;33m\u001b[0m\u001b[0m\n\u001b[0;32m     31\u001b[0m                 \u001b[1;31m#prob = 0\u001b[0m\u001b[1;33m\u001b[0m\u001b[1;33m\u001b[0m\u001b[1;33m\u001b[0m\u001b[0m\n",
      "\u001b[1;32m~\\anaconda3\\lib\\site-packages\\pomegranate\\hmm.pyx\u001b[0m in \u001b[0;36mpomegranate.hmm.HiddenMarkovModel.fit\u001b[1;34m()\u001b[0m\n",
      "\u001b[1;32m~\\anaconda3\\lib\\site-packages\\pomegranate\\hmm.pyx\u001b[0m in \u001b[0;36mpomegranate.hmm.HiddenMarkovModel.fit\u001b[1;34m()\u001b[0m\n",
      "\u001b[1;32m~\\anaconda3\\lib\\site-packages\\joblib\\parallel.py\u001b[0m in \u001b[0;36m__call__\u001b[1;34m(self, iterable)\u001b[0m\n\u001b[0;32m   1002\u001b[0m             \u001b[1;31m# remaining jobs.\u001b[0m\u001b[1;33m\u001b[0m\u001b[1;33m\u001b[0m\u001b[1;33m\u001b[0m\u001b[0m\n\u001b[0;32m   1003\u001b[0m             \u001b[0mself\u001b[0m\u001b[1;33m.\u001b[0m\u001b[0m_iterating\u001b[0m \u001b[1;33m=\u001b[0m \u001b[1;32mFalse\u001b[0m\u001b[1;33m\u001b[0m\u001b[1;33m\u001b[0m\u001b[0m\n\u001b[1;32m-> 1004\u001b[1;33m             \u001b[1;32mif\u001b[0m \u001b[0mself\u001b[0m\u001b[1;33m.\u001b[0m\u001b[0mdispatch_one_batch\u001b[0m\u001b[1;33m(\u001b[0m\u001b[0miterator\u001b[0m\u001b[1;33m)\u001b[0m\u001b[1;33m:\u001b[0m\u001b[1;33m\u001b[0m\u001b[1;33m\u001b[0m\u001b[0m\n\u001b[0m\u001b[0;32m   1005\u001b[0m                 \u001b[0mself\u001b[0m\u001b[1;33m.\u001b[0m\u001b[0m_iterating\u001b[0m \u001b[1;33m=\u001b[0m \u001b[0mself\u001b[0m\u001b[1;33m.\u001b[0m\u001b[0m_original_iterator\u001b[0m \u001b[1;32mis\u001b[0m \u001b[1;32mnot\u001b[0m \u001b[1;32mNone\u001b[0m\u001b[1;33m\u001b[0m\u001b[1;33m\u001b[0m\u001b[0m\n\u001b[0;32m   1006\u001b[0m \u001b[1;33m\u001b[0m\u001b[0m\n",
      "\u001b[1;32m~\\anaconda3\\lib\\site-packages\\joblib\\parallel.py\u001b[0m in \u001b[0;36mdispatch_one_batch\u001b[1;34m(self, iterator)\u001b[0m\n\u001b[0;32m    833\u001b[0m                 \u001b[1;32mreturn\u001b[0m \u001b[1;32mFalse\u001b[0m\u001b[1;33m\u001b[0m\u001b[1;33m\u001b[0m\u001b[0m\n\u001b[0;32m    834\u001b[0m             \u001b[1;32melse\u001b[0m\u001b[1;33m:\u001b[0m\u001b[1;33m\u001b[0m\u001b[1;33m\u001b[0m\u001b[0m\n\u001b[1;32m--> 835\u001b[1;33m                 \u001b[0mself\u001b[0m\u001b[1;33m.\u001b[0m\u001b[0m_dispatch\u001b[0m\u001b[1;33m(\u001b[0m\u001b[0mtasks\u001b[0m\u001b[1;33m)\u001b[0m\u001b[1;33m\u001b[0m\u001b[1;33m\u001b[0m\u001b[0m\n\u001b[0m\u001b[0;32m    836\u001b[0m                 \u001b[1;32mreturn\u001b[0m \u001b[1;32mTrue\u001b[0m\u001b[1;33m\u001b[0m\u001b[1;33m\u001b[0m\u001b[0m\n\u001b[0;32m    837\u001b[0m \u001b[1;33m\u001b[0m\u001b[0m\n",
      "\u001b[1;32m~\\anaconda3\\lib\\site-packages\\joblib\\parallel.py\u001b[0m in \u001b[0;36m_dispatch\u001b[1;34m(self, batch)\u001b[0m\n\u001b[0;32m    752\u001b[0m         \u001b[1;32mwith\u001b[0m \u001b[0mself\u001b[0m\u001b[1;33m.\u001b[0m\u001b[0m_lock\u001b[0m\u001b[1;33m:\u001b[0m\u001b[1;33m\u001b[0m\u001b[1;33m\u001b[0m\u001b[0m\n\u001b[0;32m    753\u001b[0m             \u001b[0mjob_idx\u001b[0m \u001b[1;33m=\u001b[0m \u001b[0mlen\u001b[0m\u001b[1;33m(\u001b[0m\u001b[0mself\u001b[0m\u001b[1;33m.\u001b[0m\u001b[0m_jobs\u001b[0m\u001b[1;33m)\u001b[0m\u001b[1;33m\u001b[0m\u001b[1;33m\u001b[0m\u001b[0m\n\u001b[1;32m--> 754\u001b[1;33m             \u001b[0mjob\u001b[0m \u001b[1;33m=\u001b[0m \u001b[0mself\u001b[0m\u001b[1;33m.\u001b[0m\u001b[0m_backend\u001b[0m\u001b[1;33m.\u001b[0m\u001b[0mapply_async\u001b[0m\u001b[1;33m(\u001b[0m\u001b[0mbatch\u001b[0m\u001b[1;33m,\u001b[0m \u001b[0mcallback\u001b[0m\u001b[1;33m=\u001b[0m\u001b[0mcb\u001b[0m\u001b[1;33m)\u001b[0m\u001b[1;33m\u001b[0m\u001b[1;33m\u001b[0m\u001b[0m\n\u001b[0m\u001b[0;32m    755\u001b[0m             \u001b[1;31m# A job can complete so quickly than its callback is\u001b[0m\u001b[1;33m\u001b[0m\u001b[1;33m\u001b[0m\u001b[1;33m\u001b[0m\u001b[0m\n\u001b[0;32m    756\u001b[0m             \u001b[1;31m# called before we get here, causing self._jobs to\u001b[0m\u001b[1;33m\u001b[0m\u001b[1;33m\u001b[0m\u001b[1;33m\u001b[0m\u001b[0m\n",
      "\u001b[1;32m~\\anaconda3\\lib\\site-packages\\joblib\\_parallel_backends.py\u001b[0m in \u001b[0;36mapply_async\u001b[1;34m(self, func, callback)\u001b[0m\n\u001b[0;32m    207\u001b[0m     \u001b[1;32mdef\u001b[0m \u001b[0mapply_async\u001b[0m\u001b[1;33m(\u001b[0m\u001b[0mself\u001b[0m\u001b[1;33m,\u001b[0m \u001b[0mfunc\u001b[0m\u001b[1;33m,\u001b[0m \u001b[0mcallback\u001b[0m\u001b[1;33m=\u001b[0m\u001b[1;32mNone\u001b[0m\u001b[1;33m)\u001b[0m\u001b[1;33m:\u001b[0m\u001b[1;33m\u001b[0m\u001b[1;33m\u001b[0m\u001b[0m\n\u001b[0;32m    208\u001b[0m         \u001b[1;34m\"\"\"Schedule a func to be run\"\"\"\u001b[0m\u001b[1;33m\u001b[0m\u001b[1;33m\u001b[0m\u001b[0m\n\u001b[1;32m--> 209\u001b[1;33m         \u001b[0mresult\u001b[0m \u001b[1;33m=\u001b[0m \u001b[0mImmediateResult\u001b[0m\u001b[1;33m(\u001b[0m\u001b[0mfunc\u001b[0m\u001b[1;33m)\u001b[0m\u001b[1;33m\u001b[0m\u001b[1;33m\u001b[0m\u001b[0m\n\u001b[0m\u001b[0;32m    210\u001b[0m         \u001b[1;32mif\u001b[0m \u001b[0mcallback\u001b[0m\u001b[1;33m:\u001b[0m\u001b[1;33m\u001b[0m\u001b[1;33m\u001b[0m\u001b[0m\n\u001b[0;32m    211\u001b[0m             \u001b[0mcallback\u001b[0m\u001b[1;33m(\u001b[0m\u001b[0mresult\u001b[0m\u001b[1;33m)\u001b[0m\u001b[1;33m\u001b[0m\u001b[1;33m\u001b[0m\u001b[0m\n",
      "\u001b[1;32m~\\anaconda3\\lib\\site-packages\\joblib\\_parallel_backends.py\u001b[0m in \u001b[0;36m__init__\u001b[1;34m(self, batch)\u001b[0m\n\u001b[0;32m    588\u001b[0m         \u001b[1;31m# Don't delay the application, to avoid keeping the input\u001b[0m\u001b[1;33m\u001b[0m\u001b[1;33m\u001b[0m\u001b[1;33m\u001b[0m\u001b[0m\n\u001b[0;32m    589\u001b[0m         \u001b[1;31m# arguments in memory\u001b[0m\u001b[1;33m\u001b[0m\u001b[1;33m\u001b[0m\u001b[1;33m\u001b[0m\u001b[0m\n\u001b[1;32m--> 590\u001b[1;33m         \u001b[0mself\u001b[0m\u001b[1;33m.\u001b[0m\u001b[0mresults\u001b[0m \u001b[1;33m=\u001b[0m \u001b[0mbatch\u001b[0m\u001b[1;33m(\u001b[0m\u001b[1;33m)\u001b[0m\u001b[1;33m\u001b[0m\u001b[1;33m\u001b[0m\u001b[0m\n\u001b[0m\u001b[0;32m    591\u001b[0m \u001b[1;33m\u001b[0m\u001b[0m\n\u001b[0;32m    592\u001b[0m     \u001b[1;32mdef\u001b[0m \u001b[0mget\u001b[0m\u001b[1;33m(\u001b[0m\u001b[0mself\u001b[0m\u001b[1;33m)\u001b[0m\u001b[1;33m:\u001b[0m\u001b[1;33m\u001b[0m\u001b[1;33m\u001b[0m\u001b[0m\n",
      "\u001b[1;32m~\\anaconda3\\lib\\site-packages\\joblib\\parallel.py\u001b[0m in \u001b[0;36m__call__\u001b[1;34m(self)\u001b[0m\n\u001b[0;32m    254\u001b[0m         \u001b[1;32mwith\u001b[0m \u001b[0mparallel_backend\u001b[0m\u001b[1;33m(\u001b[0m\u001b[0mself\u001b[0m\u001b[1;33m.\u001b[0m\u001b[0m_backend\u001b[0m\u001b[1;33m,\u001b[0m \u001b[0mn_jobs\u001b[0m\u001b[1;33m=\u001b[0m\u001b[0mself\u001b[0m\u001b[1;33m.\u001b[0m\u001b[0m_n_jobs\u001b[0m\u001b[1;33m)\u001b[0m\u001b[1;33m:\u001b[0m\u001b[1;33m\u001b[0m\u001b[1;33m\u001b[0m\u001b[0m\n\u001b[0;32m    255\u001b[0m             return [func(*args, **kwargs)\n\u001b[1;32m--> 256\u001b[1;33m                     for func, args, kwargs in self.items]\n\u001b[0m\u001b[0;32m    257\u001b[0m \u001b[1;33m\u001b[0m\u001b[0m\n\u001b[0;32m    258\u001b[0m     \u001b[1;32mdef\u001b[0m \u001b[0m__len__\u001b[0m\u001b[1;33m(\u001b[0m\u001b[0mself\u001b[0m\u001b[1;33m)\u001b[0m\u001b[1;33m:\u001b[0m\u001b[1;33m\u001b[0m\u001b[1;33m\u001b[0m\u001b[0m\n",
      "\u001b[1;32m~\\anaconda3\\lib\\site-packages\\joblib\\parallel.py\u001b[0m in \u001b[0;36m<listcomp>\u001b[1;34m(.0)\u001b[0m\n\u001b[0;32m    254\u001b[0m         \u001b[1;32mwith\u001b[0m \u001b[0mparallel_backend\u001b[0m\u001b[1;33m(\u001b[0m\u001b[0mself\u001b[0m\u001b[1;33m.\u001b[0m\u001b[0m_backend\u001b[0m\u001b[1;33m,\u001b[0m \u001b[0mn_jobs\u001b[0m\u001b[1;33m=\u001b[0m\u001b[0mself\u001b[0m\u001b[1;33m.\u001b[0m\u001b[0m_n_jobs\u001b[0m\u001b[1;33m)\u001b[0m\u001b[1;33m:\u001b[0m\u001b[1;33m\u001b[0m\u001b[1;33m\u001b[0m\u001b[0m\n\u001b[0;32m    255\u001b[0m             return [func(*args, **kwargs)\n\u001b[1;32m--> 256\u001b[1;33m                     for func, args, kwargs in self.items]\n\u001b[0m\u001b[0;32m    257\u001b[0m \u001b[1;33m\u001b[0m\u001b[0m\n\u001b[0;32m    258\u001b[0m     \u001b[1;32mdef\u001b[0m \u001b[0m__len__\u001b[0m\u001b[1;33m(\u001b[0m\u001b[0mself\u001b[0m\u001b[1;33m)\u001b[0m\u001b[1;33m:\u001b[0m\u001b[1;33m\u001b[0m\u001b[1;33m\u001b[0m\u001b[0m\n",
      "\u001b[1;31mKeyboardInterrupt\u001b[0m: "
     ]
    }
   ],
   "source": [
    "day_pos_states, day_pos_steps, day_pos_pi, day_pos_end, day_pos_trans, day_pos_dist, day_pos_mod, day_pos_testsets = train_hmm(day, 'pos', 'return', 6)\n",
    "day_neg_states, day_neg_steps, day_neg_pi, day_neg_end, day_neg_trans, day_neg_dist, day_neg_mod, day_neg_testsets = train_hmm(day, 'neg',  'return', 6)"
   ]
  },
  {
   "cell_type": "code",
   "execution_count": 181,
   "metadata": {},
   "outputs": [
    {
     "name": "stdout",
     "output_type": "stream",
     "text": [
      "Total accuracy: 1.5\n",
      "Index: 174\n"
     ]
    }
   ],
   "source": [
    "day_neg_return_mod,day_neg_return_ind = best_model(len(day_neg_mod), 6, final_check_day)\n",
    "print('Total accuracy: {}'.format(day_neg_return_mod))\n",
    "print('Index: {}'.format(day_neg_return_ind))"
   ]
  },
  {
   "cell_type": "code",
   "execution_count": 183,
   "metadata": {},
   "outputs": [
    {
     "name": "stdout",
     "output_type": "stream",
     "text": [
      "negative: 0.8333333333333334\n",
      "positive: 0.6666666666666666\n"
     ]
    }
   ],
   "source": [
    "print('negative: {}'.format(final_check_day('neg', 6, 174)))\n",
    "print('positive: {}'.format(final_check_day('pos', 6, 174)))"
   ]
  },
  {
   "cell_type": "code",
   "execution_count": 190,
   "metadata": {},
   "outputs": [],
   "source": [
    "with open('day_neg_mod_ret_long.json', 'w') as js:\n",
    "    json.dump(day_neg_mod[174].to_json(), js)\n",
    "with open('day_pos_mod_ret_long.json', 'w') as js:\n",
    "    json.dump(day_pos_mod[174].to_json(), js)"
   ]
  },
  {
   "cell_type": "markdown",
   "metadata": {},
   "source": [
    "#### Short return"
   ]
  },
  {
   "cell_type": "code",
   "execution_count": 164,
   "metadata": {},
   "outputs": [],
   "source": [
    "day_pos_states_sh, day_pos_steps_sh, day_pos_pi_sh, day_pos_end_sh, day_pos_trans_sh, day_pos_dist_sh, day_pos_mod_sh, day_pos_testsets_sh = train_hmm(day[:800], 'pos', 'return', 6)\n",
    "day_neg_states_sh, day_neg_steps_sh, day_neg_pi_sh, day_neg_end_sh, day_neg_trans_sh, day_neg_dist_sh, day_neg_mod_sh, day_neg_testsets_sh = train_hmm(day[:800], 'neg',  'return', 6)"
   ]
  },
  {
   "cell_type": "code",
   "execution_count": 168,
   "metadata": {},
   "outputs": [],
   "source": [
    "def final_check_day_sh(mode, col_n, ind):\n",
    "    if mode == 'neg':\n",
    "        return test_hmm(day_neg_testsets_sh[ind], day_neg_mod_sh[ind], day_pos_mod_sh[ind], day_neg_steps_sh[ind], col_n, 'neg' )\n",
    "    elif mode == 'pos':\n",
    "        return test_hmm(day_pos_testsets_sh[ind], day_neg_mod_sh[ind],day_pos_mod_sh[ind], day_pos_steps_sh[ind],col_n, 'pos' )"
   ]
  },
  {
   "cell_type": "code",
   "execution_count": 178,
   "metadata": {},
   "outputs": [
    {
     "name": "stdout",
     "output_type": "stream",
     "text": [
      "Total accuracy: 2.0\n",
      "Index: 413\n"
     ]
    }
   ],
   "source": [
    "day_neg_return_mod_sh,day_neg_return_ind_sh = best_model(len(day_neg_mod_sh), 6, final_check_day_sh)\n",
    "print('Total accuracy: {}'.format(day_neg_return_mod_sh))\n",
    "print('Index: {}'.format(day_neg_return_ind_sh))"
   ]
  },
  {
   "cell_type": "code",
   "execution_count": 176,
   "metadata": {},
   "outputs": [
    {
     "name": "stdout",
     "output_type": "stream",
     "text": [
      "negative: 1.0\n",
      "positive: 1.0\n"
     ]
    }
   ],
   "source": [
    "print('negative: {}'.format(final_check_day_sh('neg', 6, 413)))\n",
    "print('positive: {}'.format(final_check_day_sh('pos', 6, 413)))"
   ]
  },
  {
   "cell_type": "code",
   "execution_count": 189,
   "metadata": {},
   "outputs": [],
   "source": [
    "with open('day_neg_mod_ret_short.json', 'w') as js:\n",
    "    json.dump(day_neg_mod_sh[413].to_json(), js)\n",
    "with open('day_pos_mod_ret_short.json', 'w') as js:\n",
    "    json.dump(day_pos_mod_sh[413].to_json(), js)"
   ]
  },
  {
   "cell_type": "markdown",
   "metadata": {},
   "source": [
    "#### Day close short"
   ]
  },
  {
   "cell_type": "code",
   "execution_count": 185,
   "metadata": {},
   "outputs": [],
   "source": [
    "day_pos_states_c, day_pos_steps_c, day_pos_pi_c, day_pos_end_c, day_pos_trans_c, day_pos_dist_c, day_pos_mod_c, day_pos_testsets_c = train_hmm(day[:800], 'pos', 'close', 4)\n",
    "day_neg_states_c, day_neg_steps_c, day_neg_pi_c, day_neg_end_c, day_neg_trans_c, day_neg_dist_c, day_neg_mod_c, day_neg_testsets_c = train_hmm(day[:800], 'neg',  'close', 4)"
   ]
  },
  {
   "cell_type": "code",
   "execution_count": 186,
   "metadata": {},
   "outputs": [],
   "source": [
    "def final_check_day_c(mode, col_n, ind):\n",
    "    if mode == 'neg':\n",
    "        return test_hmm(day_neg_testsets_c[ind], day_neg_mod_c[ind], day_pos_mod_c[ind], day_neg_steps_c[ind], col_n, 'neg' )\n",
    "    elif mode == 'pos':\n",
    "        return test_hmm(day_pos_testsets_c[ind], day_neg_mod_c[ind],day_pos_mod_c[ind], day_pos_steps_c[ind],col_n, 'pos' )"
   ]
  },
  {
   "cell_type": "code",
   "execution_count": 187,
   "metadata": {},
   "outputs": [
    {
     "name": "stdout",
     "output_type": "stream",
     "text": [
      "Total accuracy: 2.0\n",
      "Index: 437\n"
     ]
    }
   ],
   "source": [
    "day_neg_mod_c,day_neg_ind_c = best_model(len(day_neg_mod_c), 4, final_check_day_c)\n",
    "print('Total accuracy: {}'.format(day_neg_mod_c))\n",
    "print('Index: {}'.format(day_neg_ind_c))"
   ]
  },
  {
   "cell_type": "code",
   "execution_count": 188,
   "metadata": {},
   "outputs": [
    {
     "name": "stdout",
     "output_type": "stream",
     "text": [
      "negative: 1.0\n",
      "positive: 1.0\n"
     ]
    }
   ],
   "source": [
    "print('negative: {}'.format(final_check_day_c('neg', 4, 437)))\n",
    "print('positive: {}'.format(final_check_day_c('pos', 4, 437)))"
   ]
  },
  {
   "cell_type": "code",
   "execution_count": 191,
   "metadata": {},
   "outputs": [],
   "source": [
    "with open('day_neg_mod_cl_short.json', 'w') as js:\n",
    "    json.dump(day_neg_mod_c[437].to_json(), js)\n",
    "with open('day_pos_mod_cl_short.json', 'w') as js:\n",
    "    json.dump(day_pos_mod_c[437].to_json(), js)"
   ]
  },
  {
   "cell_type": "markdown",
   "metadata": {},
   "source": [
    "#### Close long"
   ]
  },
  {
   "cell_type": "code",
   "execution_count": 118,
   "metadata": {},
   "outputs": [],
   "source": [
    "day_pos_states_c2, day_pos_steps_c2, day_pos_pi_c2, day_pos_end_c2, day_pos_trans_c2, day_pos_dist_c2, day_pos_mod_c2, day_pos_testsets_c2 = train_hmm(day, 'pos', 'close', 4)\n",
    "day_neg_states_c2, day_neg_steps_c2, day_neg_pi_c2, day_neg_end_c2, day_neg_trans_c2, day_neg_dist_c2, day_neg_mod_c2, day_neg_testsets_c2 = train_hmm(day, 'neg',  'close', 4)"
   ]
  },
  {
   "cell_type": "code",
   "execution_count": 119,
   "metadata": {},
   "outputs": [],
   "source": [
    "def final_check_day_c_long(mode, col_n, ind):\n",
    "    if mode == 'neg':\n",
    "        return test_hmm(day_neg_testsets_c2[ind], day_neg_mod_c2[ind], day_pos_mod_c2[ind], day_neg_steps_c2[ind], col_n, 'neg' )\n",
    "    elif mode == 'pos':\n",
    "        return test_hmm(day_pos_testsets_c2[ind], day_neg_mod_c2[ind],day_pos_mod_c2[ind], day_pos_steps_c2[ind],col_n, 'pos' )"
   ]
  },
  {
   "cell_type": "code",
   "execution_count": 120,
   "metadata": {},
   "outputs": [
    {
     "name": "stdout",
     "output_type": "stream",
     "text": [
      "Total accuracy: 1.5714285714285714\n",
      "Index: 516\n"
     ]
    }
   ],
   "source": [
    "day_neg_return_mod_c2,day_neg_return_ind_c2 = best_model(len(day_neg_mod_c2), 4, final_check_day_c_long)\n",
    "print('Total accuracy: {}'.format(day_neg_return_mod_c2))\n",
    "print('Index: {}'.format(day_neg_return_ind_c2))"
   ]
  },
  {
   "cell_type": "code",
   "execution_count": 121,
   "metadata": {},
   "outputs": [
    {
     "name": "stdout",
     "output_type": "stream",
     "text": [
      "negative: 1.0\n",
      "positive: 0.5714285714285714\n"
     ]
    }
   ],
   "source": [
    "print('negative: {}'.format(final_check_day_c_long('neg', 4, 516)))\n",
    "print('positive: {}'.format(final_check_day_c_long('pos', 4, 516)))"
   ]
  },
  {
   "cell_type": "code",
   "execution_count": 123,
   "metadata": {},
   "outputs": [],
   "source": [
    "with open('day_neg_mod_close_long.json', 'w') as js:\n",
    "    json.dump(day_neg_mod_c2[516].to_json(), js)\n",
    "with open('day_pos_mod_close_long.json', 'w') as js:\n",
    "    json.dump(day_pos_mod_c2[516].to_json(), js)"
   ]
  },
  {
   "cell_type": "code",
   "execution_count": 125,
   "metadata": {},
   "outputs": [
    {
     "data": {
      "text/plain": [
       "8"
      ]
     },
     "execution_count": 125,
     "metadata": {},
     "output_type": "execute_result"
    }
   ],
   "source": [
    "day_pos_states_c2[516]"
   ]
  },
  {
   "cell_type": "markdown",
   "metadata": {},
   "source": [
    "#### Hourly long return"
   ]
  },
  {
   "cell_type": "code",
   "execution_count": 18,
   "metadata": {},
   "outputs": [],
   "source": [
    "hour_pos_states, hour_pos_steps, hour_pos_pi, hour_pos_end, hour_pos_trans, hour_pos_dist, hour_pos_mod, hour_pos_testsets = train_hmm(hour.iloc[-1858:,:], 'pos', 'return', 6)\n",
    "hour_neg_states, hour_neg_steps, hour_neg_pi, hour_neg_end, hour_neg_trans, hour_neg_dist, hour_neg_mod, hour_neg_testsets = train_hmm(hour.iloc[-1858:,:], 'neg',  'return', 6)"
   ]
  },
  {
   "cell_type": "code",
   "execution_count": 19,
   "metadata": {},
   "outputs": [],
   "source": [
    "def final_check_hour_ret_long(mode, col_n, ind):\n",
    "    if mode == 'neg':\n",
    "        return test_hmm(hour_neg_testsets[ind], hour_neg_mod[ind], hour_pos_mod[ind], hour_neg_steps[ind], col_n, 'neg' )\n",
    "    elif mode == 'pos':\n",
    "        return test_hmm(hour_pos_testsets[ind], hour_neg_mod[ind],hour_pos_mod[ind], hour_pos_steps[ind],col_n, 'pos' )"
   ]
  },
  {
   "cell_type": "code",
   "execution_count": 22,
   "metadata": {},
   "outputs": [
    {
     "name": "stdout",
     "output_type": "stream",
     "text": [
      "Total accuracy: 1.5\n",
      "Index: 474\n"
     ]
    }
   ],
   "source": [
    "hour_neg_return_mod,hour_neg_return_ind = best_model(len(hour_neg_mod), 6, final_check_hour_ret_long)\n",
    "print('Total accuracy: {}'.format(hour_neg_return_mod))\n",
    "print('Index: {}'.format(hour_neg_return_ind))"
   ]
  },
  {
   "cell_type": "code",
   "execution_count": 23,
   "metadata": {},
   "outputs": [
    {
     "name": "stdout",
     "output_type": "stream",
     "text": [
      "negative: 0.8000000000000002\n",
      "positive: 0.7\n"
     ]
    }
   ],
   "source": [
    "print('negative: {}'.format(final_check_hour_ret_long('neg', 6, 474)))\n",
    "print('positive: {}'.format(final_check_hour_ret_long('pos', 6, 474)))"
   ]
  },
  {
   "cell_type": "code",
   "execution_count": 24,
   "metadata": {},
   "outputs": [],
   "source": [
    "with open('hour_neg_mod_ret_long.json', 'w') as js:\n",
    "    json.dump(hour_neg_mod[474].to_json(), js)\n",
    "with open('hour_pos_mod_ret_long.json', 'w') as js:\n",
    "    json.dump(hour_pos_mod[474].to_json(), js)"
   ]
  },
  {
   "cell_type": "markdown",
   "metadata": {},
   "source": [
    "#### Hourly long close"
   ]
  },
  {
   "cell_type": "code",
   "execution_count": 32,
   "metadata": {},
   "outputs": [],
   "source": [
    "hour_pos_states_cl_l, hour_pos_steps_cl_l, hour_pos_pi_cl_l, hour_pos_end_cl_l, hour_pos_trans_cl_l, hour_pos_dist_cl_l, hour_pos_mod_cl_l, hour_pos_testsets_cl_l = train_hmm(hour.iloc[-1858,:], 'pos', 'close', 4)\n",
    "hour_neg_states_cl_l, hour_neg_steps_cl_l, hour_neg_pi_cl_l, hour_neg_end_cl_l, hour_neg_trans_cl_l, hour_neg_dist_cl_l, hour_neg_mod_cl_l, hour_neg_testsets_cl_l = train_hmm(hour.iloc[-1858:,:], 'neg',  'close', 4)"
   ]
  },
  {
   "cell_type": "code",
   "execution_count": 33,
   "metadata": {},
   "outputs": [],
   "source": [
    "def final_check_hour_cl_long(mode, col_n, ind):\n",
    "    if mode == 'neg':\n",
    "        return test_hmm(hour_neg_testsets_cl_l[ind], hour_neg_mod_cl_l[ind], hour_pos_mod_cl_l[ind], hour_neg_steps_cl_l[ind], col_n, 'neg' )\n",
    "    elif mode == 'pos':\n",
    "        return test_hmm(hour_pos_testsets_cl_l[ind], hour_neg_mod_cl_l[ind],hour_pos_mod_cl_l[ind], hour_pos_steps_cl_l[ind],col_n, 'pos' )"
   ]
  },
  {
   "cell_type": "code",
   "execution_count": 34,
   "metadata": {},
   "outputs": [
    {
     "name": "stdout",
     "output_type": "stream",
     "text": [
      "Total accuracy: 1.6\n",
      "Index: 467\n"
     ]
    }
   ],
   "source": [
    "hour_neg_close_mod,hour_neg_close_ind = best_model(len(hour_neg_mod_cl_l), 4, final_check_hour_cl_long)\n",
    "print('Total accuracy: {}'.format(hour_neg_close_mod))\n",
    "print('Index: {}'.format(hour_neg_close_ind))"
   ]
  },
  {
   "cell_type": "code",
   "execution_count": 35,
   "metadata": {},
   "outputs": [
    {
     "name": "stdout",
     "output_type": "stream",
     "text": [
      "negative: 1.0\n",
      "positive: 0.6\n"
     ]
    }
   ],
   "source": [
    "print('negative: {}'.format(final_check_hour_cl_long('neg', 4, 467)))\n",
    "print('positive: {}'.format(final_check_hour_cl_long('pos', 4, 467)))"
   ]
  },
  {
   "cell_type": "code",
   "execution_count": 36,
   "metadata": {},
   "outputs": [],
   "source": [
    "with open('hour_neg_mod_close_long.json', 'w') as js:\n",
    "    json.dump(hour_neg_mod_cl_l[467].to_json(), js)\n",
    "with open('hour_pos_mod_close_long.json', 'w') as js:\n",
    "    json.dump(hour_pos_mod_cl_l[467].to_json(), js)"
   ]
  },
  {
   "cell_type": "markdown",
   "metadata": {},
   "source": [
    "#### Hour close short"
   ]
  },
  {
   "cell_type": "code",
   "execution_count": 39,
   "metadata": {},
   "outputs": [],
   "source": [
    "hour_pos_states_cl_sh, hour_pos_steps_cl_sh, hour_pos_pi_cl_sh, hour_pos_end_cl_sh, hour_pos_trans_cl_sh, hour_pos_dist_cl_sh, hour_pos_mod_cl_sh, hour_pos_testsets_cl_sh = train_hmm(hour.iloc[-800:,:], 'pos', 'close', 4)\n",
    "hour_neg_states_cl_sh, hour_neg_steps_cl_sh, hour_neg_pi_cl_sh, hour_neg_end_cl_sh, hour_neg_trans_cl_sh, hour_neg_dist_cl_sh, hour_neg_mod_cl_sh, hour_neg_testsets_cl_sh = train_hmm(hour.iloc[-800:,:], 'neg',  'close', 4)"
   ]
  },
  {
   "cell_type": "code",
   "execution_count": 42,
   "metadata": {},
   "outputs": [],
   "source": [
    "def final_check_hour_cl_short(mode, col_n, ind):\n",
    "    if mode == 'neg':\n",
    "        return test_hmm(hour_neg_testsets_cl_sh[ind], hour_neg_mod_cl_sh[ind], hour_pos_mod_cl_sh[ind], hour_neg_steps_cl_sh[ind], col_n, 'neg' )\n",
    "    elif mode == 'pos':\n",
    "        return test_hmm(hour_pos_testsets_cl_sh[ind], hour_neg_mod_cl_sh[ind],hour_pos_mod_cl_sh[ind], hour_pos_steps_cl_sh[ind],col_n, 'pos' )"
   ]
  },
  {
   "cell_type": "code",
   "execution_count": 43,
   "metadata": {},
   "outputs": [
    {
     "name": "stdout",
     "output_type": "stream",
     "text": [
      "Total accuracy: 1.4666666666666668\n",
      "Index: 361\n"
     ]
    }
   ],
   "source": [
    "hour_neg_close_mod_sh,hour_neg_close_ind_sh = best_model(len( hour_neg_mod_cl_sh), 4, final_check_hour_cl_short)\n",
    "print('Total accuracy: {}'.format(hour_neg_close_mod_sh))\n",
    "print('Index: {}'.format(hour_neg_close_ind_sh))"
   ]
  },
  {
   "cell_type": "code",
   "execution_count": 44,
   "metadata": {},
   "outputs": [
    {
     "name": "stdout",
     "output_type": "stream",
     "text": [
      "negative: 0.6666666666666666\n",
      "positive: 0.8000000000000002\n"
     ]
    }
   ],
   "source": [
    "print('negative: {}'.format(final_check_hour_cl_short('neg', 4, 361)))\n",
    "print('positive: {}'.format(final_check_hour_cl_short('pos', 4, 361)))"
   ]
  },
  {
   "cell_type": "code",
   "execution_count": 45,
   "metadata": {},
   "outputs": [],
   "source": [
    "with open('hour_neg_mod_close_short.json', 'w') as js:\n",
    "    json.dump(hour_neg_mod_cl_sh[361].to_json(), js)\n",
    "with open('hour_pos_mod_close_short.json', 'w') as js:\n",
    "    json.dump(hour_pos_mod_cl_sh[361].to_json(), js)"
   ]
  },
  {
   "cell_type": "markdown",
   "metadata": {},
   "source": [
    "##### Hour return short"
   ]
  },
  {
   "cell_type": "code",
   "execution_count": 105,
   "metadata": {},
   "outputs": [],
   "source": [
    "hour_pos_states_ret_sh, hour_pos_steps_ret_sh, hour_pos_pi_ret_sh, hour_pos_end_ret_sh, hour_pos_trans_ret_sh, hour_pos_dist_ret_sh, hour_pos_mod_ret_sh, hour_pos_testsets_ret_sh = train_hmm(hour.iloc[-800:,:], 'pos', 'return', 6)\n",
    "hour_neg_states_ret_sh, hour_neg_steps_ret_sh, hour_neg_pi_ret_sh, hour_neg_end_ret_sh, hour_neg_trans_ret_sh, hour_neg_dist_ret_sh, hour_neg_mod_ret_sh, hour_neg_testsets_ret_sh = train_hmm(hour.iloc[-800:,:], 'neg',  'return', 6)"
   ]
  },
  {
   "cell_type": "code",
   "execution_count": 106,
   "metadata": {},
   "outputs": [],
   "source": [
    "def final_check_hour_ret_short(mode, col_n, ind):\n",
    "    if mode == 'neg':\n",
    "        return test_hmm(hour_neg_testsets_ret_sh[ind], hour_neg_mod_ret_sh[ind], hour_pos_mod_ret_sh[ind], hour_neg_steps_ret_sh[ind], col_n, 'neg' )\n",
    "    elif mode == 'pos':\n",
    "        return test_hmm(hour_pos_testsets_ret_sh[ind], hour_neg_mod_ret_sh[ind],hour_pos_mod_ret_sh[ind], hour_pos_steps_ret_sh[ind],col_n, 'pos' )"
   ]
  },
  {
   "cell_type": "code",
   "execution_count": 107,
   "metadata": {},
   "outputs": [
    {
     "name": "stdout",
     "output_type": "stream",
     "text": [
      "Total accuracy: 1.8000000000000003\n",
      "Index: 270\n"
     ]
    }
   ],
   "source": [
    "hour_neg_ret_mod_sh, hour_neg_ret_ind_sh = best_model(len( hour_neg_mod_ret_sh), 6, final_check_hour_ret_short)\n",
    "print('Total accuracy: {}'.format(hour_neg_ret_mod_sh))\n",
    "print('Index: {}'.format(hour_neg_ret_ind_sh))"
   ]
  },
  {
   "cell_type": "code",
   "execution_count": 110,
   "metadata": {},
   "outputs": [
    {
     "name": "stdout",
     "output_type": "stream",
     "text": [
      "negative: 0.8000000000000002\n",
      "positive: 1.0\n",
      "steps: 4\n",
      "states: 6\n"
     ]
    }
   ],
   "source": [
    "print('negative: {}'.format(final_check_hour_ret_short('neg', 6, 270)))\n",
    "print('positive: {}'.format(final_check_hour_ret_short('pos', 6, 270)))\n",
    "print('steps: {}'.format(hour_pos_steps_ret_sh[270]))\n",
    "print('states: {}'.format(hour_pos_states_ret_sh[270]))"
   ]
  },
  {
   "cell_type": "code",
   "execution_count": 111,
   "metadata": {},
   "outputs": [],
   "source": [
    "with open('hour_neg_mod_return_short.json', 'w') as js:\n",
    "    json.dump(hour_neg_mod_ret_sh[270].to_json(), js)\n",
    "with open('hour_pos_mod_return_short.json', 'w') as js:\n",
    "    json.dump(hour_pos_mod_ret_sh[270].to_json(), js)"
   ]
  },
  {
   "cell_type": "markdown",
   "metadata": {},
   "source": [
    "#### Minute return long"
   ]
  },
  {
   "cell_type": "code",
   "execution_count": 96,
   "metadata": {},
   "outputs": [],
   "source": [
    "min_pos_states_ret, min_pos_steps_ret, min_pos_pi_ret, min_pos_end_ret, min_pos_trans_ret, min_pos_dist_ret, min_pos_mod_ret, min_pos_testsets_ret = train_hmm(minute.iloc[-1858:,:], 'pos', 'return', 6)\n",
    "min_neg_states_ret, min_neg_steps_ret, min_neg_pi_ret, min_neg_end_ret, min_neg_trans_ret, min_neg_dist_ret, min_neg_mod_ret, min_neg_testsets_ret = train_hmm(minute.iloc[-1858:,:], 'neg',  'return', 6)"
   ]
  },
  {
   "cell_type": "code",
   "execution_count": 121,
   "metadata": {},
   "outputs": [],
   "source": [
    "def final_check_min_ret_long(mode, col_n, ind):\n",
    "    if mode == 'neg':\n",
    "        return test_hmm(min_neg_testsets_ret[ind], min_neg_mod_ret[ind], min_pos_mod_ret[ind], min_neg_steps_ret[ind], col_n, 'neg' )\n",
    "    elif mode == 'pos':\n",
    "        return test_hmm(min_pos_testsets_ret[ind], min_neg_mod_ret[ind], min_pos_mod_ret[ind], min_pos_steps_ret[ind],col_n, 'pos' )"
   ]
  },
  {
   "cell_type": "code",
   "execution_count": 122,
   "metadata": {},
   "outputs": [
    {
     "name": "stdout",
     "output_type": "stream",
     "text": [
      "Total accuracy: 1.8000000000000003\n",
      "Index: 469\n"
     ]
    }
   ],
   "source": [
    "min_neg_ret_mod_l, min_neg_ret_ind_l = best_model(len( min_neg_mod_ret), 6, final_check_min_ret_long)\n",
    "print('Total accuracy: {}'.format(min_neg_ret_mod_l))\n",
    "print('Index: {}'.format(min_neg_ret_ind_l))"
   ]
  },
  {
   "cell_type": "code",
   "execution_count": 102,
   "metadata": {},
   "outputs": [
    {
     "name": "stdout",
     "output_type": "stream",
     "text": [
      "negative: 0.8000000000000002\n",
      "positive: 1.0\n",
      "steps: 5\n",
      "states: 6\n"
     ]
    }
   ],
   "source": [
    "print('negative: {}'.format(final_check_min_ret_long('neg', 6, 469)))\n",
    "print('positive: {}'.format(final_check_min_ret_long('pos', 6, 469)))\n",
    "print('steps: {}'.format(min_pos_steps_ret[469]))\n",
    "print('states: {}'.format(min_pos_states_ret[469]))"
   ]
  },
  {
   "cell_type": "code",
   "execution_count": 103,
   "metadata": {},
   "outputs": [],
   "source": [
    "with open('min_neg_mod_return_long.json', 'w') as js:\n",
    "    json.dump(min_neg_mod_ret[469].to_json(), js)\n",
    "with open('min_pos_mod_return_long.json', 'w') as js:\n",
    "    json.dump(min_pos_mod_ret[469].to_json(), js)"
   ]
  },
  {
   "cell_type": "markdown",
   "metadata": {},
   "source": [
    "#### Minute return short"
   ]
  },
  {
   "cell_type": "code",
   "execution_count": 15,
   "metadata": {},
   "outputs": [],
   "source": [
    "min_pos_states_ret_sh, min_pos_steps_ret_sh, min_pos_pi_ret_sh, min_pos_end_ret_sh, min_pos_trans_ret_sh, min_pos_dist_ret_sh, min_pos_mod_ret_sh, min_pos_testsets_ret_sh = train_hmm(minute.iloc[-800:,:], 'pos', 'return', 6)\n",
    "min_neg_states_ret_sh, min_neg_steps_ret_sh, min_neg_pi_ret_sh, min_neg_end_ret_sh, min_neg_trans_ret_sh, min_neg_dist_ret_sh, min_neg_mod_ret_sh, min_neg_testsets_ret_sh = train_hmm(minute.iloc[-800:,:], 'neg',  'return', 6)"
   ]
  },
  {
   "cell_type": "code",
   "execution_count": 123,
   "metadata": {},
   "outputs": [],
   "source": [
    "def final_check_min_ret_short(mode, col_n, ind):\n",
    "    if mode == 'neg':\n",
    "        return test_hmm(min_neg_testsets_ret_sh[ind], min_neg_mod_ret_sh[ind], min_pos_mod_ret_sh[ind], min_neg_steps_ret_sh[ind], col_n, 'neg' )\n",
    "    elif mode == 'pos':\n",
    "        return test_hmm(min_pos_testsets_ret_sh[ind], min_neg_mod_ret_sh[ind], min_pos_mod_ret_sh[ind], min_pos_steps_ret_sh[ind],col_n, 'pos' )"
   ]
  },
  {
   "cell_type": "code",
   "execution_count": 124,
   "metadata": {},
   "outputs": [
    {
     "name": "stdout",
     "output_type": "stream",
     "text": [
      "Total accuracy: 2.0\n",
      "Index: 413\n"
     ]
    }
   ],
   "source": [
    "min_neg_ret_mod_sh, min_neg_ret_ind_sh = best_model(len( min_neg_mod_ret_sh), 6, final_check_min_ret_short)\n",
    "print('Total accuracy: {}'.format(min_neg_ret_mod_sh))\n",
    "print('Index: {}'.format(min_neg_ret_ind_sh))"
   ]
  },
  {
   "cell_type": "code",
   "execution_count": 94,
   "metadata": {},
   "outputs": [
    {
     "name": "stdout",
     "output_type": "stream",
     "text": [
      "negative: 1.0\n",
      "positive: 1.0\n",
      "steps: 5\n",
      "states: 4\n"
     ]
    }
   ],
   "source": [
    "print('negative: {}'.format(final_check_min_ret_short('neg', 6, 413)))\n",
    "print('positive: {}'.format(final_check_min_ret_short('pos', 6, 413)))\n",
    "print('steps: {}'.format(min_pos_steps_ret_sh[413]))\n",
    "print('states: {}'.format(min_pos_states_ret_sh[413]))"
   ]
  },
  {
   "cell_type": "code",
   "execution_count": 95,
   "metadata": {},
   "outputs": [],
   "source": [
    "with open('min_neg_mod_return_short.json', 'w') as js:\n",
    "    json.dump( min_neg_mod_ret_sh[413].to_json(), js)\n",
    "with open('min_pos_mod_return_short.json', 'w') as js:\n",
    "    json.dump( min_pos_mod_ret_sh[413].to_json(), js)"
   ]
  },
  {
   "cell_type": "markdown",
   "metadata": {},
   "source": [
    "##### Minute close long"
   ]
  },
  {
   "cell_type": "code",
   "execution_count": 104,
   "metadata": {},
   "outputs": [],
   "source": [
    "min_pos_states_cl_l, min_pos_steps_cl_l, min_pos_pi_cl_l, min_pos_end_cl_l, min_pos_trans_cl_l, min_pos_dist_cl_l, min_pos_mod_cl_l, min_pos_testsets_cl_l = train_hmm(minute.iloc[-1858:,:], 'pos', 'close', 4)\n",
    "min_neg_states_cl_l, min_neg_steps_cl_l, min_neg_pi_cl_l, min_neg_end_cl_l, min_neg_trans_cl_l, min_neg_dist_cl_l, min_neg_mod_cl_l, min_neg_testsets_cl_l= train_hmm(minute.iloc[-1858:,:], 'neg',  'close', 4)"
   ]
  },
  {
   "cell_type": "code",
   "execution_count": 112,
   "metadata": {},
   "outputs": [],
   "source": [
    "def final_check_min_close_long(mode, col_n, ind):\n",
    "    if mode == 'neg':\n",
    "        return test_hmm(min_neg_testsets_cl_l[ind], min_neg_mod_cl_l[ind], min_pos_mod_cl_l[ind], min_neg_steps_cl_l[ind], col_n, 'neg' )\n",
    "    elif mode == 'pos':\n",
    "        return test_hmm(min_pos_testsets_cl_l[ind], min_neg_mod_cl_l[ind], min_pos_mod_cl_l[ind], min_pos_steps_cl_l[ind],col_n, 'pos' )"
   ]
  },
  {
   "cell_type": "code",
   "execution_count": 114,
   "metadata": {},
   "outputs": [
    {
     "name": "stdout",
     "output_type": "stream",
     "text": [
      "Total accuracy: 1.4000000000000001\n",
      "Index: 446\n"
     ]
    }
   ],
   "source": [
    "min_neg_cl_mod_l, min_cl_ret_ind_l = best_model(len( min_pos_mod_cl_l), 4, final_check_min_close_long)\n",
    "print('Total accuracy: {}'.format(min_neg_cl_mod_l))\n",
    "print('Index: {}'.format(min_cl_ret_ind_l))"
   ]
  },
  {
   "cell_type": "code",
   "execution_count": 115,
   "metadata": {},
   "outputs": [
    {
     "name": "stdout",
     "output_type": "stream",
     "text": [
      "negative: 0.8000000000000002\n",
      "positive: 0.6\n",
      "steps: 5\n",
      "states: 5\n"
     ]
    }
   ],
   "source": [
    "print('negative: {}'.format(final_check_min_close_long('neg', 4, 446)))\n",
    "print('positive: {}'.format(final_check_min_close_long('pos', 4, 446)))\n",
    "print('steps: {}'.format(min_pos_steps_cl_l[446]))\n",
    "print('states: {}'.format(min_pos_states_cl_l[446]))"
   ]
  },
  {
   "cell_type": "code",
   "execution_count": 117,
   "metadata": {},
   "outputs": [],
   "source": [
    "with open('min_neg_mod_close_long.json', 'w') as js:\n",
    "    json.dump(min_neg_mod_cl_l[446].to_json(), js)\n",
    "with open('min_pos_mod_close_long.json', 'w') as js:\n",
    "    json.dump(min_pos_mod_cl_l[446].to_json(), js)"
   ]
  },
  {
   "cell_type": "markdown",
   "metadata": {},
   "source": [
    "#### Minute close short"
   ]
  },
  {
   "cell_type": "code",
   "execution_count": 142,
   "metadata": {},
   "outputs": [],
   "source": [
    "min_pos_states_cl_sh, min_pos_steps_cl_sh, min_pos_pi_cl_sh, min_pos_end_cl_sh, min_pos_trans_cl_sh, min_pos_dist_cl_sh, min_pos_mod_cl_sh, min_pos_testsets_cl_sh = train_hmm(minute.iloc[-800:,:], 'pos', 'close', 4)\n",
    "min_neg_states_cl_sh, min_neg_steps_cl_sh, min_neg_pi_cl_sh, min_neg_end_cl_sh, min_neg_trans_cl_sh, min_neg_dist_cl_sh, min_neg_mod_cl_sh, min_neg_testsets_cl_sh= train_hmm(minute.iloc[-800:,:], 'neg',  'close', 4)"
   ]
  },
  {
   "cell_type": "code",
   "execution_count": 143,
   "metadata": {},
   "outputs": [],
   "source": [
    "def final_check_min_close_short(mode, col_n, ind):\n",
    "    if mode == 'neg':\n",
    "        return test_hmm(min_neg_testsets_cl_sh[ind], min_neg_mod_cl_sh[ind], min_pos_mod_cl_sh[ind], min_neg_steps_cl_sh[ind], col_n, 'neg' )\n",
    "    elif mode == 'pos':\n",
    "        return test_hmm(min_pos_testsets_cl_sh[ind], min_neg_mod_cl_sh[ind], min_pos_mod_cl_sh[ind], min_pos_steps_cl_sh[ind],col_n, 'pos' )"
   ]
  },
  {
   "cell_type": "code",
   "execution_count": 144,
   "metadata": {},
   "outputs": [
    {
     "name": "stdout",
     "output_type": "stream",
     "text": [
      "Total accuracy: 1.4000000000000001\n",
      "Index: 396\n"
     ]
    }
   ],
   "source": [
    "min_neg_cl_mod_sh, min_cl_ret_ind_sh = best_model(len(min_pos_mod_cl_sh), 4, final_check_min_close_short)\n",
    "print('Total accuracy: {}'.format(min_neg_cl_mod_sh))\n",
    "print('Index: {}'.format(min_cl_ret_ind_sh))"
   ]
  },
  {
   "cell_type": "code",
   "execution_count": 146,
   "metadata": {},
   "outputs": [
    {
     "name": "stdout",
     "output_type": "stream",
     "text": [
      "negative: 0.4000000000000001\n",
      "positive: 1.0\n",
      "steps: 5\n",
      "states: 4\n"
     ]
    }
   ],
   "source": [
    "print('negative: {}'.format(final_check_min_close_short('neg', 4, 396)))\n",
    "print('positive: {}'.format(final_check_min_close_short('pos', 4, 396)))\n",
    "print('steps: {}'.format(min_pos_steps_cl_sh[396]))\n",
    "print('states: {}'.format(min_pos_states_cl_sh[396]))"
   ]
  },
  {
   "cell_type": "code",
   "execution_count": 147,
   "metadata": {},
   "outputs": [],
   "source": [
    "with open('min_neg_mod_close_short.json', 'w') as js:\n",
    "    json.dump( min_neg_mod_cl_sh[396].to_json(), js)\n",
    "with open('min_pos_mod_close_short.json', 'w') as js:\n",
    "    json.dump( min_pos_mod_cl_sh[396].to_json(), js)"
   ]
  },
  {
   "cell_type": "markdown",
   "metadata": {},
   "source": [
    "#### Multivariate day close short"
   ]
  },
  {
   "cell_type": "code",
   "execution_count": 17,
   "metadata": {},
   "outputs": [],
   "source": [
    "m_day_pos_states_cl_sh, m_day_pos_steps_cl_sh, m_day_pos_pi_cl_sh, m_day_pos_end_cl_sh, m_day_pos_trans_cl_sh, m_day_pos_dist_cl_sh, m_day_pos_mod_cl_sh, m_day_pos_testsets_cl_sh = train_hmm(day[:800], 'pos', ['open','low','high','close'],[1,2,3,4])\n",
    "m_day_neg_states_cl_sh, m_day_neg_steps_cl_sh, m_day_neg_pi_cl_sh, m_day_neg_end_cl_sh, m_day_neg_trans_cl_sh, m_day_neg_dist_cl_sh, m_day_neg_mod_cl_sh, m_day_neg_testsets_cl_sh = train_hmm(day[:800], 'neg', ['open','low','high','close'],[1,2,3,4])"
   ]
  },
  {
   "cell_type": "code",
   "execution_count": 18,
   "metadata": {},
   "outputs": [],
   "source": [
    "def final_check_day_c_short_multi(mode, col_n, ind):\n",
    "    if mode == 'neg':\n",
    "        return test_hmm(m_day_neg_testsets_cl_sh[ind], m_day_neg_mod_cl_sh[ind], m_day_pos_mod_cl_sh[ind], m_day_neg_steps_cl_sh[ind], col_n, 'neg' )\n",
    "    elif mode == 'pos':\n",
    "        return test_hmm(m_day_pos_testsets_cl_sh[ind], m_day_neg_mod_cl_sh[ind],m_day_pos_mod_cl_sh[ind], m_day_pos_steps_cl_sh[ind],col_n, 'pos' )"
   ]
  },
  {
   "cell_type": "code",
   "execution_count": 32,
   "metadata": {},
   "outputs": [
    {
     "name": "stdout",
     "output_type": "stream",
     "text": [
      "Total accuracy: 2.0\n",
      "Index: 408\n"
     ]
    }
   ],
   "source": [
    "m_day_neg_close_mod_sh,m_day_neg_close_ind_sh = best_model(len(m_day_pos_mod_cl_sh), 4, final_check_day_c_short_multi)\n",
    "print('Total accuracy: {}'.format(m_day_neg_close_mod_sh))\n",
    "print('Index: {}'.format(m_day_neg_close_ind_sh))"
   ]
  },
  {
   "cell_type": "code",
   "execution_count": 41,
   "metadata": {},
   "outputs": [
    {
     "name": "stdout",
     "output_type": "stream",
     "text": [
      "negative: 1.0\n",
      "positive: 1.0\n",
      "steps: 5\n",
      "states: 4\n"
     ]
    }
   ],
   "source": [
    "print('negative: {}'.format(final_check_day_c_short_multi('neg', 4, 408)))\n",
    "print('positive: {}'.format(final_check_day_c_short_multi('pos', 4, 408)))\n",
    "print('steps: {}'.format(m_day_pos_steps_cl_sh[408]))\n",
    "print('states: {}'.format(m_day_pos_states_cl_sh[408]))"
   ]
  },
  {
   "cell_type": "code",
   "execution_count": 42,
   "metadata": {},
   "outputs": [],
   "source": [
    "with open('m_day_neg_mod_cl_short.json', 'w') as js:\n",
    "    json.dump(m_day_neg_mod_cl_sh[408].to_json(), js)\n",
    "with open('m_day_pos_mod_cl_short.json', 'w') as js:\n",
    "    json.dump(m_day_pos_mod_cl_sh[408].to_json(), js)"
   ]
  },
  {
   "cell_type": "markdown",
   "metadata": {},
   "source": [
    "#### Multivariate day close long"
   ]
  },
  {
   "cell_type": "code",
   "execution_count": 35,
   "metadata": {},
   "outputs": [],
   "source": [
    "m_day_pos_states_cl_l, m_day_pos_steps_cl_l, m_day_pos_pi_cl_l, m_day_pos_end_cl_l, m_day_pos_trans_cl_l, m_day_pos_dist_cl_l, m_day_pos_mod_cl_l, m_day_pos_testsets_cl_l = train_hmm(day, 'pos', ['open','low','high','close'],[1,2,3,4])\n",
    "m_day_neg_states_cl_l, m_day_neg_steps_cl_l, m_day_neg_pi_cl_l, m_day_neg_end_cl_l, m_day_neg_trans_cl_l, m_day_neg_dist_cl_l, m_day_neg_mod_cl_l, m_day_neg_testsets_cl_l = train_hmm(day, 'neg', ['open','low','high','close'],[1,2,3,4])"
   ]
  },
  {
   "cell_type": "code",
   "execution_count": 43,
   "metadata": {},
   "outputs": [],
   "source": [
    "def final_check_day_c_long_multi(mode, col_n, ind):\n",
    "    if mode == 'neg':\n",
    "        return test_hmm(m_day_neg_testsets_cl_l[ind], m_day_neg_mod_cl_l[ind], m_day_pos_mod_cl_l[ind],  m_day_neg_steps_cl_l[ind], col_n, 'neg' )\n",
    "    elif mode == 'pos':\n",
    "        return test_hmm(m_day_pos_testsets_cl_l[ind], m_day_neg_mod_cl_l[ind],m_day_pos_mod_cl_l[ind],  m_day_pos_steps_cl_l[ind],col_n, 'pos' )"
   ]
  },
  {
   "cell_type": "code",
   "execution_count": 39,
   "metadata": {},
   "outputs": [
    {
     "name": "stdout",
     "output_type": "stream",
     "text": [
      "Total accuracy: 1.5714285714285714\n",
      "Index: 387\n"
     ]
    }
   ],
   "source": [
    "m_day_neg_close_mod_l,m_day_neg_close_ind_l = best_model(len(m_day_pos_mod_cl_l), 4, final_check_day_c_long_multi)\n",
    "print('Total accuracy: {}'.format(m_day_neg_close_mod_l))\n",
    "print('Index: {}'.format(m_day_neg_close_ind_l))"
   ]
  },
  {
   "cell_type": "code",
   "execution_count": 44,
   "metadata": {},
   "outputs": [
    {
     "name": "stdout",
     "output_type": "stream",
     "text": [
      "negative: 1.0\n",
      "positive: 0.5714285714285714\n",
      "steps: 5\n",
      "states: 3\n"
     ]
    }
   ],
   "source": [
    "print('negative: {}'.format(final_check_day_c_long_multi('neg', 4, 387)))\n",
    "print('positive: {}'.format(final_check_day_c_long_multi('pos', 4, 387)))\n",
    "print('steps: {}'.format(m_day_pos_steps_cl_l[387]))\n",
    "print('states: {}'.format(m_day_pos_states_cl_l[387]))"
   ]
  },
  {
   "cell_type": "code",
   "execution_count": 45,
   "metadata": {},
   "outputs": [],
   "source": [
    "with open('m_day_neg_mod_cl_long.json', 'w') as js:\n",
    "    json.dump(m_day_neg_mod_cl_l[387].to_json(), js)\n",
    "with open('m_day_pos_mod_cl_long.json', 'w') as js:\n",
    "    json.dump(m_day_pos_mod_cl_l[387].to_json(), js)"
   ]
  },
  {
   "cell_type": "markdown",
   "metadata": {},
   "source": [
    "#### Multivariate day return long"
   ]
  },
  {
   "cell_type": "code",
   "execution_count": 64,
   "metadata": {},
   "outputs": [],
   "source": [
    "m_day_pos_states_ret_l, m_day_pos_steps_ret_l, m_day_pos_pi_ret_l, m_day_pos_end_ret_l, m_day_pos_trans_ret_l, m_day_pos_dist_ret_l, m_day_pos_mod_ret_l, m_day_pos_testsets_ret_l = train_hmm(day_ret, 'pos', ['overnight','open_ret','low_ret','high_ret','return'],[6,7,8,9,10])\n",
    "m_day_neg_states_ret_l, m_day_neg_steps_ret_l, m_day_neg_pi_ret_l, m_day_neg_end_ret_l, m_day_neg_trans_ret_l, m_day_neg_dist_ret_l, m_day_neg_mod_ret_l, m_day_neg_testsets_ret_l = train_hmm(day_ret, 'neg', ['overnight','open_ret','low_ret','high_ret','return'],[6,7,8,9,10])"
   ]
  },
  {
   "cell_type": "code",
   "execution_count": 65,
   "metadata": {},
   "outputs": [],
   "source": [
    "def final_check_day_ret_long_multi(mode, col_n, ind):\n",
    "    if mode == 'neg':\n",
    "        return test_hmm(m_day_neg_testsets_ret_l[ind], m_day_neg_mod_ret_l[ind], m_day_pos_mod_ret_l[ind],  m_day_neg_steps_ret_l[ind], col_n, 'neg' )\n",
    "    elif mode == 'pos':\n",
    "        return test_hmm(m_day_pos_testsets_ret_l[ind], m_day_neg_mod_ret_l[ind], m_day_pos_mod_ret_l[ind],  m_day_pos_steps_ret_l[ind],col_n, 'pos' )"
   ]
  },
  {
   "cell_type": "code",
   "execution_count": 72,
   "metadata": {},
   "outputs": [
    {
     "name": "stdout",
     "output_type": "stream",
     "text": [
      "Total accuracy: 1.5714285714285714\n",
      "Index: 479\n"
     ]
    }
   ],
   "source": [
    "m_day_neg_ret_mod_l,m_day_ret_ind_l = best_model(len(m_day_pos_mod_ret_l), 10, final_check_day_ret_long_multi)\n",
    "print('Total accuracy: {}'.format(m_day_neg_ret_mod_l))\n",
    "print('Index: {}'.format(m_day_ret_ind_l))"
   ]
  },
  {
   "cell_type": "code",
   "execution_count": 70,
   "metadata": {},
   "outputs": [
    {
     "name": "stdout",
     "output_type": "stream",
     "text": [
      "negative: 1.0\n",
      "positive: 0.5714285714285714\n",
      "steps: 5\n",
      "states: 6\n"
     ]
    }
   ],
   "source": [
    "print('negative: {}'.format(final_check_day_ret_long_multi('neg', 10, 479)))\n",
    "print('positive: {}'.format(final_check_day_ret_long_multi('pos', 10, 479)))\n",
    "print('steps: {}'.format(m_day_pos_steps_ret_l[479]))\n",
    "print('states: {}'.format(m_day_pos_states_ret_l[479]))"
   ]
  },
  {
   "cell_type": "code",
   "execution_count": 73,
   "metadata": {},
   "outputs": [],
   "source": [
    "with open('m_day_neg_mod_ret_long.json', 'w') as js:\n",
    "    json.dump(m_day_neg_mod_ret_l[479].to_json(), js)\n",
    "with open('m_day_pos_mod_ret_long.json', 'w') as js:\n",
    "    json.dump(m_day_pos_mod_ret_l[479].to_json(), js)"
   ]
  },
  {
   "cell_type": "markdown",
   "metadata": {},
   "source": [
    "#### Multivariate day return short"
   ]
  },
  {
   "cell_type": "code",
   "execution_count": 75,
   "metadata": {},
   "outputs": [],
   "source": [
    "m_day_pos_states_ret_sh, m_day_pos_steps_ret_sh, m_day_pos_pi_ret_sh, m_day_pos_end_ret_sh, m_day_pos_trans_ret_sh, m_day_pos_dist_ret_sh, m_day_pos_mod_ret_sh, m_day_pos_testsets_ret_sh = train_hmm(day_ret[:800], 'pos', ['overnight','open_ret','low_ret','high_ret','return'],[6,7,8,9,10])\n",
    "m_day_neg_states_ret_sh, m_day_neg_steps_ret_sh, m_day_neg_pi_ret_sh, m_day_neg_end_ret_sh, m_day_neg_trans_ret_sh, m_day_neg_dist_ret_sh, m_day_neg_mod_ret_sh, m_day_neg_testsets_ret_sh = train_hmm(day_ret[:800], 'neg', ['overnight','open_ret','low_ret','high_ret','return'],[6,7,8,9,10])"
   ]
  },
  {
   "cell_type": "code",
   "execution_count": 76,
   "metadata": {},
   "outputs": [],
   "source": [
    "def final_check_day_ret_short_multi(mode, col_n, ind):\n",
    "    if mode == 'neg':\n",
    "        return test_hmm(m_day_neg_testsets_ret_sh[ind], m_day_neg_mod_ret_sh[ind], m_day_pos_mod_ret_sh[ind],  m_day_neg_steps_ret_sh[ind], col_n, 'neg' )\n",
    "    elif mode == 'pos':\n",
    "        return test_hmm(m_day_pos_testsets_ret_sh[ind], m_day_neg_mod_ret_sh[ind], m_day_pos_mod_ret_sh[ind],  m_day_pos_steps_ret_sh[ind],col_n, 'pos' )"
   ]
  },
  {
   "cell_type": "code",
   "execution_count": 77,
   "metadata": {},
   "outputs": [
    {
     "name": "stdout",
     "output_type": "stream",
     "text": [
      "Total accuracy: 1.2916666666666665\n",
      "Index: 345\n"
     ]
    }
   ],
   "source": [
    "m_day_neg_ret_mod_sh,m_day_ret_ind_sh = best_model(len(m_day_pos_mod_ret_sh), 10, final_check_day_ret_short_multi)\n",
    "print('Total accuracy: {}'.format(m_day_neg_ret_mod_sh))\n",
    "print('Index: {}'.format(m_day_ret_ind_sh))"
   ]
  },
  {
   "cell_type": "code",
   "execution_count": 84,
   "metadata": {},
   "outputs": [
    {
     "name": "stdout",
     "output_type": "stream",
     "text": [
      "negative: 0.6666666666666666\n",
      "positive: 0.625\n",
      "steps: 4\n",
      "states: 8\n"
     ]
    }
   ],
   "source": [
    "print('negative: {}'.format(final_check_day_ret_short_multi('neg', 10, 345)))\n",
    "print('positive: {}'.format(final_check_day_ret_short_multi('pos', 10, 345)))\n",
    "print('steps: {}'.format(m_day_pos_steps_ret_sh[345]))\n",
    "print('states: {}'.format(m_day_pos_states_ret_sh[345]))"
   ]
  },
  {
   "cell_type": "code",
   "execution_count": 85,
   "metadata": {},
   "outputs": [],
   "source": [
    "with open('m_day_neg_mod_ret_short.json', 'w') as js:\n",
    "    json.dump(m_day_neg_mod_ret_sh[345].to_json(), js)\n",
    "with open('m_day_pos_mod_ret_short.json', 'w') as js:\n",
    "    json.dump(m_day_pos_mod_ret_sh[345].to_json(), js)"
   ]
  },
  {
   "cell_type": "markdown",
   "metadata": {},
   "source": [
    "#### Multivariate hour close long"
   ]
  },
  {
   "cell_type": "code",
   "execution_count": 101,
   "metadata": {},
   "outputs": [],
   "source": [
    "m_hour_pos_states_cl_l, m_hour_pos_steps_cl_l, m_hour_pos_pi_cl_l, m_hour_pos_end_cl_l, m_hour_pos_trans_cl_l, m_hour_pos_dist_cl_l, m_hour_pos_mod_cl_l, m_hour_pos_testsets_cl_l = train_hmm(hour.iloc[-1858:,:], 'pos', ['open','low','high','close'],[1,2,3,4])\n",
    "m_hour_neg_states_cl_l, m_hour_neg_steps_cl_l, m_hour_neg_pi_cl_l, m_hour_neg_end_cl_l, m_hour_neg_trans_cl_l, m_hour_neg_dist_cl_l, m_hour_neg_mod_cl_l, m_hour_neg_testsets_cl_l = train_hmm(hour.iloc[-1858:,:], 'neg', ['open','low','high','close'],[1,2,3,4])"
   ]
  },
  {
   "cell_type": "code",
   "execution_count": 102,
   "metadata": {},
   "outputs": [],
   "source": [
    "def final_check_hour_close_long_multi(mode, col_n, ind):\n",
    "    if mode == 'neg':\n",
    "        return test_hmm(m_hour_neg_testsets_cl_l[ind], m_hour_neg_mod_cl_l[ind], m_hour_pos_mod_cl_l[ind],  m_hour_neg_steps_cl_l[ind], col_n, 'neg' )\n",
    "    elif mode == 'pos':\n",
    "        return test_hmm(m_hour_pos_testsets_cl_l[ind], m_hour_neg_mod_cl_l[ind], m_hour_pos_mod_cl_l[ind],  m_hour_pos_steps_cl_l[ind],col_n, 'pos' )"
   ]
  },
  {
   "cell_type": "code",
   "execution_count": 103,
   "metadata": {},
   "outputs": [
    {
     "name": "stdout",
     "output_type": "stream",
     "text": [
      "Total accuracy: 1.6\n",
      "Index: 360\n"
     ]
    }
   ],
   "source": [
    "m_hour_cl_mod_l,m_hour_cl_ind_l = best_model(len(m_hour_pos_mod_cl_l), 4, final_check_hour_close_long_multi)\n",
    "print('Total accuracy: {}'.format(m_hour_cl_mod_l))\n",
    "print('Index: {}'.format(m_hour_cl_ind_l))"
   ]
  },
  {
   "cell_type": "code",
   "execution_count": 105,
   "metadata": {},
   "outputs": [
    {
     "name": "stdout",
     "output_type": "stream",
     "text": [
      "negative: 0.6\n",
      "positive: 1.0\n",
      "steps: 5\n",
      "states: 3\n"
     ]
    }
   ],
   "source": [
    "print('negative: {}'.format(final_check_hour_close_long_multi('neg', 4, 360)))\n",
    "print('positive: {}'.format(final_check_hour_close_long_multi('pos', 4, 360)))\n",
    "print('steps: {}'.format(m_hour_pos_steps_cl_l[360]))\n",
    "print('states: {}'.format(m_hour_pos_states_cl_l[360]))"
   ]
  },
  {
   "cell_type": "code",
   "execution_count": 106,
   "metadata": {},
   "outputs": [],
   "source": [
    "with open('m_hour_neg_mod_cl_long.json', 'w') as js:\n",
    "    json.dump(m_hour_neg_mod_cl_l[360].to_json(), js)\n",
    "with open('m_hour_pos_mod_cl_long.json', 'w') as js:\n",
    "    json.dump(m_hour_pos_mod_cl_l[360].to_json(), js)"
   ]
  },
  {
   "cell_type": "markdown",
   "metadata": {},
   "source": [
    "#### Multivariate hour close short"
   ]
  },
  {
   "cell_type": "code",
   "execution_count": 107,
   "metadata": {},
   "outputs": [],
   "source": [
    "m_hour_pos_states_cl_sh, m_hour_pos_steps_cl_sh, m_hour_pos_pi_cl_sh, m_hour_pos_end_cl_sh, m_hour_pos_trans_cl_sh, m_hour_pos_dist_cl_l, m_hour_pos_mod_cl_sh, m_hour_pos_testsets_cl_sh = train_hmm(hour.iloc[-800:,:], 'pos', ['open','low','high','close'],[1,2,3,4])\n",
    "m_hour_neg_states_cl_sh, m_hour_neg_steps_cl_sh, m_hour_neg_pi_cl_sh, m_hour_neg_end_cl_sh, m_hour_neg_trans_cl_sh, m_hour_neg_dist_cl_l, m_hour_neg_mod_cl_sh, m_hour_neg_testsets_cl_sh = train_hmm(hour.iloc[-800:,:], 'neg', ['open','low','high','close'],[1,2,3,4])"
   ]
  },
  {
   "cell_type": "code",
   "execution_count": 108,
   "metadata": {},
   "outputs": [],
   "source": [
    "def final_check_hour_close_short_multi(mode, col_n, ind):\n",
    "    if mode == 'neg':\n",
    "        return test_hmm(m_hour_neg_testsets_cl_sh[ind], m_hour_neg_mod_cl_sh[ind], m_hour_pos_mod_cl_sh[ind],  m_hour_neg_steps_cl_sh[ind], col_n, 'neg' )\n",
    "    elif mode == 'pos':\n",
    "        return test_hmm(m_hour_pos_testsets_cl_sh[ind], m_hour_neg_mod_cl_sh[ind], m_hour_pos_mod_cl_sh[ind],  m_hour_pos_steps_cl_sh[ind],col_n, 'pos' )"
   ]
  },
  {
   "cell_type": "code",
   "execution_count": 109,
   "metadata": {},
   "outputs": [
    {
     "name": "stdout",
     "output_type": "stream",
     "text": [
      "Total accuracy: 1.475\n",
      "Index: 239\n"
     ]
    }
   ],
   "source": [
    "m_hour_cl_mod_sh,m_hour_cl_ind_sh = best_model(len(m_hour_pos_mod_cl_sh), 4, final_check_hour_close_short_multi)\n",
    "print('Total accuracy: {}'.format(m_hour_cl_mod_sh))\n",
    "print('Index: {}'.format(m_hour_cl_ind_sh))"
   ]
  },
  {
   "cell_type": "code",
   "execution_count": 110,
   "metadata": {},
   "outputs": [
    {
     "name": "stdout",
     "output_type": "stream",
     "text": [
      "negative: 0.6\n",
      "positive: 0.875\n",
      "steps: 4\n",
      "states: 4\n"
     ]
    }
   ],
   "source": [
    "print('negative: {}'.format(final_check_hour_close_short_multi('neg', 4, 239)))\n",
    "print('positive: {}'.format(final_check_hour_close_short_multi('pos', 4, 239)))\n",
    "print('steps: {}'.format(m_hour_pos_steps_cl_sh[239]))\n",
    "print('states: {}'.format(m_hour_pos_states_cl_sh[239]))"
   ]
  },
  {
   "cell_type": "code",
   "execution_count": 111,
   "metadata": {},
   "outputs": [],
   "source": [
    "with open('m_hour_neg_mod_cl_short.json', 'w') as js:\n",
    "    json.dump(m_hour_neg_mod_cl_sh[239].to_json(), js)\n",
    "with open('m_hour_pos_mod_cl_short.json', 'w') as js:\n",
    "    json.dump(m_hour_pos_mod_cl_sh[239].to_json(), js)"
   ]
  },
  {
   "cell_type": "markdown",
   "metadata": {},
   "source": [
    "#### Multivariate hour return long"
   ]
  },
  {
   "cell_type": "code",
   "execution_count": 125,
   "metadata": {},
   "outputs": [],
   "source": [
    "m_hour_pos_states_ret_l, m_hour_pos_steps_ret_l, m_hour_pos_pi_ret_l, m_hour_pos_end_ret_l, m_hour_pos_trans_ret_l, m_hour_pos_dist_ret_l, m_hour_pos_mod_ret_l, m_hour_pos_testsets_ret_l = train_hmm(hour_ret.iloc[-1858:,:], 'pos', ['open_ret','low_ret','high_ret','return'],[6,7,8,9])\n",
    "m_hour_neg_states_ret_l, m_hour_neg_steps_ret_l, m_hour_neg_pi_ret_l, m_hour_neg_end_ret_l, m_hour_neg_trans_ret_l, m_hour_neg_dist_ret_l, m_hour_neg_mod_ret_l, m_hour_neg_testsets_ret_l = train_hmm(hour_ret.iloc[-1858:,:], 'neg', ['open_ret','low_ret','high_ret','return'],[6,7,8,9])"
   ]
  },
  {
   "cell_type": "code",
   "execution_count": 128,
   "metadata": {},
   "outputs": [],
   "source": [
    "def final_check_hour_ret_long_multi(mode, col_n, ind):\n",
    "    if mode == 'neg':\n",
    "        return test_hmm(m_hour_neg_testsets_ret_l[ind], m_hour_neg_mod_ret_l[ind], m_hour_pos_mod_ret_l[ind],  m_hour_neg_steps_ret_l[ind], col_n, 'neg' )\n",
    "    elif mode == 'pos':\n",
    "        return test_hmm(m_hour_pos_testsets_ret_l[ind], m_hour_neg_mod_ret_l[ind], m_hour_pos_mod_ret_l[ind],  m_hour_pos_steps_ret_l[ind],col_n, 'pos' )"
   ]
  },
  {
   "cell_type": "code",
   "execution_count": 134,
   "metadata": {},
   "outputs": [
    {
     "name": "stdout",
     "output_type": "stream",
     "text": [
      "Total accuracy: 1.8571428571428572\n",
      "Index: 510\n"
     ]
    }
   ],
   "source": [
    "m_hour_neg_ret_mod_l,m_hour_ret_ind_l = best_model(len(m_hour_pos_mod_ret_l), 9, final_check_hour_ret_long_multi)\n",
    "print('Total accuracy: {}'.format(m_hour_neg_ret_mod_l))\n",
    "print('Index: {}'.format(m_hour_ret_ind_l))"
   ]
  },
  {
   "cell_type": "code",
   "execution_count": 135,
   "metadata": {},
   "outputs": [
    {
     "name": "stdout",
     "output_type": "stream",
     "text": [
      "negative: 1.0\n",
      "positive: 0.8571428571428571\n",
      "steps: 5\n",
      "states: 8\n"
     ]
    }
   ],
   "source": [
    "print('negative: {}'.format(final_check_hour_ret_long_multi('neg', 9, 510)))\n",
    "print('positive: {}'.format(final_check_hour_ret_long_multi('pos', 9, 510)))\n",
    "print('steps: {}'.format(m_hour_pos_steps_ret_l[510]))\n",
    "print('states: {}'.format(m_hour_pos_states_ret_l[510]))"
   ]
  },
  {
   "cell_type": "code",
   "execution_count": 136,
   "metadata": {},
   "outputs": [],
   "source": [
    "with open('m_hour_neg_mod_ret_long.json', 'w') as js:\n",
    "    json.dump(m_hour_neg_mod_ret_l[510].to_json(), js)\n",
    "with open('m_hour_pos_mod_ret_long.json', 'w') as js:\n",
    "    json.dump(m_hour_pos_mod_ret_l[510].to_json(), js)"
   ]
  },
  {
   "cell_type": "markdown",
   "metadata": {},
   "source": [
    "#### Multivariate hour return short"
   ]
  },
  {
   "cell_type": "code",
   "execution_count": 132,
   "metadata": {},
   "outputs": [],
   "source": [
    "m_hour_pos_states_ret_sh, m_hour_pos_steps_ret_sh, m_hour_pos_pi_ret_sh, m_hour_pos_end_ret_sh, m_hour_pos_trans_ret_sh, m_hour_pos_dist_ret_sh, m_hour_pos_mod_ret_sh, m_hour_pos_testsets_ret_sh = train_hmm(hour_ret.iloc[-800:,:], 'pos', ['open_ret','low_ret','high_ret','return'],[6,7,8,9])\n",
    "m_hour_neg_states_ret_sh, m_hour_neg_steps_ret_sh, m_hour_neg_pi_ret_sh, m_hour_neg_end_ret_sh, m_hour_neg_trans_ret_sh, m_hour_neg_dist_ret_sh, m_hour_neg_mod_ret_sh, m_hour_neg_testsets_ret_sh = train_hmm(hour_ret.iloc[-800:,:], 'neg', ['open_ret','low_ret','high_ret','return'],[6,7,8,9])"
   ]
  },
  {
   "cell_type": "code",
   "execution_count": 137,
   "metadata": {},
   "outputs": [],
   "source": [
    "def final_check_hour_ret_short_multi(mode, col_n, ind):\n",
    "    if mode == 'neg':\n",
    "        return test_hmm(m_hour_neg_testsets_ret_sh[ind], m_hour_neg_mod_ret_sh[ind], m_hour_pos_mod_ret_sh[ind],  m_hour_neg_steps_ret_sh[ind], col_n, 'neg' )\n",
    "    elif mode == 'pos':\n",
    "        return test_hmm(m_hour_pos_testsets_ret_sh[ind], m_hour_neg_mod_ret_sh[ind], m_hour_pos_mod_ret_sh[ind],  m_hour_pos_steps_ret_sh[ind],col_n, 'pos' )"
   ]
  },
  {
   "cell_type": "code",
   "execution_count": 138,
   "metadata": {},
   "outputs": [
    {
     "name": "stdout",
     "output_type": "stream",
     "text": [
      "Total accuracy: 2.0\n",
      "Index: 535\n"
     ]
    }
   ],
   "source": [
    "m_hour_neg_ret_mod_sh,m_hour_ret_ind_sh = best_model(len(m_hour_pos_mod_ret_sh), 9, final_check_hour_ret_short_multi)\n",
    "print('Total accuracy: {}'.format(m_hour_neg_ret_mod_sh))\n",
    "print('Index: {}'.format(m_hour_ret_ind_sh))"
   ]
  },
  {
   "cell_type": "code",
   "execution_count": 139,
   "metadata": {},
   "outputs": [
    {
     "name": "stdout",
     "output_type": "stream",
     "text": [
      "negative: 1.0\n",
      "positive: 1.0\n",
      "steps: 5\n",
      "states: 8\n"
     ]
    }
   ],
   "source": [
    "print('negative: {}'.format(final_check_hour_ret_short_multi('neg', 9, 535)))\n",
    "print('positive: {}'.format(final_check_hour_ret_short_multi('pos', 9, 535)))\n",
    "print('steps: {}'.format(m_hour_pos_steps_ret_sh[535]))\n",
    "print('states: {}'.format(m_hour_pos_states_ret_sh[535]))"
   ]
  },
  {
   "cell_type": "code",
   "execution_count": 140,
   "metadata": {},
   "outputs": [],
   "source": [
    "with open('m_hour_neg_mod_ret_short.json', 'w') as js:\n",
    "    json.dump(m_hour_neg_mod_ret_sh[535].to_json(), js)\n",
    "with open('m_hour_pos_mod_ret_short.json', 'w') as js:\n",
    "    json.dump(m_hour_pos_mod_ret_sh[535].to_json(), js)"
   ]
  },
  {
   "cell_type": "markdown",
   "metadata": {},
   "source": [
    "#### Multivariate minute close short"
   ]
  },
  {
   "cell_type": "code",
   "execution_count": 167,
   "metadata": {},
   "outputs": [],
   "source": [
    "m_min_pos_states_cl_sh, m_min_pos_steps_cl_sh, m_min_pos_pi_cl_sh, m_min_pos_end_cl_sh, m_min_pos_trans_cl_sh, m_min_pos_dist_cl_sh, m_min_pos_mod_cl_sh, m_min_pos_testsets_cl_sh = train_hmm(minute.iloc[-800:,:], 'pos', ['open','low','high','close'],[1,2,3,4])\n",
    "m_min_neg_states_cl_sh, m_min_neg_steps_cl_sh, m_min_neg_pi_cl_sh, m_min_neg_end_cl_sh, m_min_neg_trans_cl_sh, m_min_neg_dist_cl_sh, m_min_neg_mod_cl_sh, m_min_neg_testsets_cl_sh = train_hmm(minute.iloc[-800:,:], 'neg', ['open','low','high','close'],[1,2,3,4])"
   ]
  },
  {
   "cell_type": "code",
   "execution_count": 168,
   "metadata": {},
   "outputs": [],
   "source": [
    "def final_check_min_close_short_multi(mode, col_n, ind):\n",
    "    if mode == 'neg':\n",
    "        return test_hmm(m_min_neg_testsets_cl_sh[ind], m_min_neg_mod_cl_sh[ind], m_min_pos_mod_cl_sh[ind],  m_min_neg_steps_cl_sh[ind], col_n, 'neg' )\n",
    "    elif mode == 'pos':\n",
    "        return test_hmm(m_min_pos_testsets_cl_sh[ind], m_min_neg_mod_cl_sh[ind], m_min_pos_mod_cl_sh[ind],  m_min_pos_steps_cl_sh[ind],col_n, 'pos' )"
   ]
  },
  {
   "cell_type": "code",
   "execution_count": 169,
   "metadata": {},
   "outputs": [
    {
     "name": "stdout",
     "output_type": "stream",
     "text": [
      "Total accuracy: 1.4555555555555557\n",
      "Index: 154\n"
     ]
    }
   ],
   "source": [
    "m_min_cl_mod_sh,m_min_cl_ind_sh = best_model(len(m_min_pos_mod_cl_sh), 4, final_check_min_close_short_multi)\n",
    "print('Total accuracy: {}'.format(m_min_cl_mod_sh))\n",
    "print('Index: {}'.format(m_min_cl_ind_sh))"
   ]
  },
  {
   "cell_type": "code",
   "execution_count": 172,
   "metadata": {},
   "outputs": [
    {
     "name": "stdout",
     "output_type": "stream",
     "text": [
      "negative: 0.5555555555555556\n",
      "positive: 0.9\n",
      "steps: 3\n",
      "states: 8\n"
     ]
    }
   ],
   "source": [
    "print('negative: {}'.format(final_check_min_close_short_multi('neg', 4, 154)))\n",
    "print('positive: {}'.format(final_check_min_close_short_multi('pos', 4, 154)))\n",
    "print('steps: {}'.format(m_min_pos_steps_cl_sh[154]))\n",
    "print('states: {}'.format(m_min_pos_states_cl_sh[154]))"
   ]
  },
  {
   "cell_type": "code",
   "execution_count": 173,
   "metadata": {},
   "outputs": [],
   "source": [
    "with open('m_min_neg_mod_cl_short.json', 'w') as js:\n",
    "    json.dump(m_min_neg_mod_cl_sh[154].to_json(), js)\n",
    "with open('m_min_pos_mod_cl_short.json', 'w') as js:\n",
    "    json.dump(m_min_pos_mod_cl_sh[154].to_json(), js)"
   ]
  },
  {
   "cell_type": "markdown",
   "metadata": {},
   "source": [
    "#### Multivariate minute close long"
   ]
  },
  {
   "cell_type": "code",
   "execution_count": 174,
   "metadata": {},
   "outputs": [],
   "source": [
    "m_min_pos_states_cl_l, m_min_pos_steps_cl_l, m_min_pos_pi_cl_l, m_min_pos_end_cl_l, m_min_pos_trans_cl_l, m_min_pos_dist_cl_l, m_min_pos_mod_cl_l, m_min_pos_testsets_cl_l = train_hmm(minute.iloc[-1858:,:], 'pos', ['open','low','high','close'],[1,2,3,4])\n",
    "m_min_neg_states_cl_l, m_min_neg_steps_cl_l, m_min_neg_pi_cl_l, m_min_neg_end_cl_l, m_min_neg_trans_cl_l, m_min_neg_dist_cl_l, m_min_neg_mod_cl_l, m_min_neg_testsets_cl_l = train_hmm(minute.iloc[-1858:,:], 'neg', ['open','low','high','close'],[1,2,3,4])"
   ]
  },
  {
   "cell_type": "code",
   "execution_count": 175,
   "metadata": {},
   "outputs": [],
   "source": [
    "def final_check_min_close_long_multi(mode, col_n, ind):\n",
    "    if mode == 'neg':\n",
    "        return test_hmm(m_min_neg_testsets_cl_l[ind], m_min_neg_mod_cl_l[ind], m_min_pos_mod_cl_l[ind],  m_min_neg_steps_cl_l[ind], col_n, 'neg' )\n",
    "    elif mode == 'pos':\n",
    "        return test_hmm(m_min_pos_testsets_cl_l[ind], m_min_neg_mod_cl_l[ind], m_min_pos_mod_cl_l[ind],  m_min_pos_steps_cl_l[ind],col_n, 'pos' )"
   ]
  },
  {
   "cell_type": "code",
   "execution_count": 176,
   "metadata": {},
   "outputs": [
    {
     "name": "stdout",
     "output_type": "stream",
     "text": [
      "Total accuracy: 1.3\n",
      "Index: 391\n"
     ]
    }
   ],
   "source": [
    "m_min_cl_mod_l,m_min_cl_ind_l = best_model(len(m_min_pos_mod_cl_l), 4, final_check_min_close_long_multi)\n",
    "print('Total accuracy: {}'.format(m_min_cl_mod_l))\n",
    "print('Index: {}'.format(m_min_cl_ind_l))"
   ]
  },
  {
   "cell_type": "code",
   "execution_count": 177,
   "metadata": {},
   "outputs": [
    {
     "name": "stdout",
     "output_type": "stream",
     "text": [
      "negative: 0.9\n",
      "positive: 0.4000000000000001\n",
      "steps: 5\n",
      "states: 4\n"
     ]
    }
   ],
   "source": [
    "print('negative: {}'.format(final_check_min_close_long_multi('neg', 4, 391)))\n",
    "print('positive: {}'.format(final_check_min_close_long_multi('pos', 4, 391)))\n",
    "print('steps: {}'.format(m_min_pos_steps_cl_l[391]))\n",
    "print('states: {}'.format(m_min_pos_states_cl_l[391]))"
   ]
  },
  {
   "cell_type": "code",
   "execution_count": 179,
   "metadata": {},
   "outputs": [],
   "source": [
    "with open('m_min_neg_mod_cl_long.json', 'w') as js:\n",
    "    json.dump(m_min_neg_mod_cl_l[391].to_json(), js)\n",
    "with open('m_min_pos_mod_cl_long.json', 'w') as js:\n",
    "    json.dump(m_min_pos_mod_cl_l[391].to_json(), js)"
   ]
  },
  {
   "cell_type": "markdown",
   "metadata": {},
   "source": [
    "#### Multivariate minute return long"
   ]
  },
  {
   "cell_type": "code",
   "execution_count": 23,
   "metadata": {},
   "outputs": [],
   "source": [
    "m_min_pos_states_ret_l, m_min_pos_steps_ret_l, m_min_pos_pi_ret_l, m_min_pos_end_ret_l, m_min_pos_trans_ret_l, m_min_pos_dist_ret_l, m_min_pos_mod_ret_l, m_min_pos_testsets_ret_l = train_hmm(minute_ret.iloc[-1858:,:], 'pos', ['open_ret','low_ret','high_ret','return'],[6,7,8,9])\n",
    "m_min_neg_states_ret_l, m_min_neg_steps_ret_l, m_min_neg_pi_ret_l, m_min_neg_end_ret_l, m_min_neg_trans_ret_l, m_min_neg_dist_ret_l, m_min_neg_mod_ret_l, m_min_neg_testsets_ret_l = train_hmm(minute_ret.iloc[-1858:,:], 'neg', ['open_ret','low_ret','high_ret','return'],[6,7,8,9])"
   ]
  },
  {
   "cell_type": "code",
   "execution_count": 24,
   "metadata": {},
   "outputs": [],
   "source": [
    "def final_check_min_ret_long_multi(mode, col_n, ind):\n",
    "    if mode == 'neg':\n",
    "        return test_hmm(m_min_neg_testsets_ret_l[ind], m_min_neg_mod_ret_l[ind], m_min_pos_mod_ret_l[ind],  m_min_neg_steps_ret_l[ind], col_n, 'neg' )\n",
    "    elif mode == 'pos':\n",
    "        return test_hmm(m_min_pos_testsets_ret_l[ind], m_min_neg_mod_ret_l[ind], m_min_pos_mod_ret_l[ind],  m_min_pos_steps_ret_l[ind],col_n, 'pos' )"
   ]
  },
  {
   "cell_type": "code",
   "execution_count": 25,
   "metadata": {},
   "outputs": [
    {
     "name": "stdout",
     "output_type": "stream",
     "text": [
      "Total accuracy: 1.393939393939394\n",
      "Index: 482\n"
     ]
    }
   ],
   "source": [
    "m_min_ret_mod_l, m_min_ret_ind_l = best_model(len(m_min_pos_mod_ret_l), 9, final_check_min_ret_long_multi)\n",
    "print('Total accuracy: {}'.format(m_min_ret_mod_l))\n",
    "print('Index: {}'.format(m_min_ret_ind_l))"
   ]
  },
  {
   "cell_type": "code",
   "execution_count": 26,
   "metadata": {},
   "outputs": [
    {
     "name": "stdout",
     "output_type": "stream",
     "text": [
      "negative: 0.6666666666666666\n",
      "positive: 0.7272727272727273\n",
      "steps: 5\n",
      "states: 7\n"
     ]
    }
   ],
   "source": [
    "print('negative: {}'.format(final_check_min_ret_long_multi('neg', 9, 482)))\n",
    "print('positive: {}'.format(final_check_min_ret_long_multi('pos', 9, 482)))\n",
    "print('steps: {}'.format(m_min_pos_steps_ret_l[482]))\n",
    "print('states: {}'.format(m_min_pos_states_ret_l[482]))"
   ]
  },
  {
   "cell_type": "code",
   "execution_count": 29,
   "metadata": {},
   "outputs": [],
   "source": [
    "with open('m_min_neg_mod_ret_long.json', 'w') as js:\n",
    "    json.dump(m_min_neg_mod_ret_l[482].to_json(), js)\n",
    "with open('m_min_pos_mod_ret_long.json', 'w') as js:\n",
    "    json.dump(m_min_pos_mod_ret_l[482].to_json(), js)"
   ]
  },
  {
   "cell_type": "markdown",
   "metadata": {},
   "source": [
    "#### Multivariate minute return short"
   ]
  },
  {
   "cell_type": "code",
   "execution_count": 30,
   "metadata": {},
   "outputs": [],
   "source": [
    "m_min_pos_states_ret_sh, m_min_pos_steps_ret_sh, m_min_pos_pi_ret_sh, m_min_pos_end_ret_sh, m_min_pos_trans_ret_sh, m_min_pos_dist_ret_sh, m_min_pos_mod_ret_sh, m_min_pos_testsets_ret_sh = train_hmm(minute_ret.iloc[-800:,:], 'pos', ['open_ret','low_ret','high_ret','return'],[6,7,8,9])\n",
    "m_min_neg_states_ret_sh, m_min_neg_steps_ret_sh, m_min_neg_pi_ret_sh, m_min_neg_end_ret_sh, m_min_neg_trans_ret_sh, m_min_neg_dist_ret_sh, m_min_neg_mod_ret_sh, m_min_neg_testsets_ret_sh = train_hmm(minute_ret.iloc[-800:,:], 'neg', ['open_ret','low_ret','high_ret','return'],[6,7,8,9])"
   ]
  },
  {
   "cell_type": "code",
   "execution_count": 31,
   "metadata": {},
   "outputs": [],
   "source": [
    "def final_check_min_ret_short_multi(mode, col_n, ind):\n",
    "    if mode == 'neg':\n",
    "        return test_hmm(m_min_neg_testsets_ret_sh[ind], m_min_neg_mod_ret_sh[ind], m_min_pos_mod_ret_sh[ind],  m_min_neg_steps_ret_sh[ind], col_n, 'neg' )\n",
    "    elif mode == 'pos':\n",
    "        return test_hmm(m_min_pos_testsets_ret_sh[ind], m_min_neg_mod_ret_sh[ind], m_min_pos_mod_ret_sh[ind],  m_min_pos_steps_ret_sh[ind],col_n, 'pos' )"
   ]
  },
  {
   "cell_type": "code",
   "execution_count": 32,
   "metadata": {},
   "outputs": [
    {
     "name": "stdout",
     "output_type": "stream",
     "text": [
      "Total accuracy: 1.625\n",
      "Index: 177\n"
     ]
    }
   ],
   "source": [
    "m_min_ret_mod_sh, m_min_ret_ind_sh = best_model(len(m_min_pos_mod_ret_sh), 9, final_check_min_ret_short_multi)\n",
    "print('Total accuracy: {}'.format(m_min_ret_mod_sh))\n",
    "print('Index: {}'.format(m_min_ret_ind_sh))"
   ]
  },
  {
   "cell_type": "code",
   "execution_count": 33,
   "metadata": {},
   "outputs": [
    {
     "name": "stdout",
     "output_type": "stream",
     "text": [
      "negative: 1.0\n",
      "positive: 0.625\n",
      "steps: 3\n",
      "states: 8\n"
     ]
    }
   ],
   "source": [
    "print('negative: {}'.format(final_check_min_ret_short_multi('neg', 9, 177)))\n",
    "print('positive: {}'.format(final_check_min_ret_short_multi('pos', 9, 177)))\n",
    "print('steps: {}'.format(m_min_pos_steps_ret_sh[177]))\n",
    "print('states: {}'.format(m_min_pos_states_ret_sh[177]))"
   ]
  },
  {
   "cell_type": "code",
   "execution_count": 35,
   "metadata": {},
   "outputs": [],
   "source": [
    "with open('m_min_neg_mod_ret_short.json', 'w') as js:\n",
    "    json.dump(m_min_neg_mod_ret_sh[177].to_json(), js)\n",
    "with open('m_min_pos_mod_ret_short.json', 'w') as js:\n",
    "    json.dump(m_min_pos_mod_ret_sh[177].to_json(), js)"
   ]
  }
 ],
 "metadata": {
  "kernelspec": {
   "display_name": "Python 3",
   "language": "python",
   "name": "python3"
  },
  "language_info": {
   "codemirror_mode": {
    "name": "ipython",
    "version": 3
   },
   "file_extension": ".py",
   "mimetype": "text/x-python",
   "name": "python",
   "nbconvert_exporter": "python",
   "pygments_lexer": "ipython3",
   "version": "3.7.6"
  }
 },
 "nbformat": 4,
 "nbformat_minor": 4
}
